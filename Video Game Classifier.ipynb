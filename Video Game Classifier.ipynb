{
 "cells": [
  {
   "cell_type": "code",
   "execution_count": 1,
   "id": "655a382d-3241-4c33-b0a5-ded7ca709cb6",
   "metadata": {},
   "outputs": [],
   "source": [
    "import pandas as pd\n",
    "import altair as alt \n",
    "import numpy as np\n",
    "from sklearn import set_config\n",
    "from sklearn.compose import make_column_transformer\n",
    "from sklearn.metrics.pairwise import euclidean_distances\n",
    "from sklearn.model_selection import (\n",
    "    GridSearchCV,\n",
    "    RandomizedSearchCV,\n",
    "    cross_validate,\n",
    "    train_test_split,\n",
    ")\n",
    "from sklearn.neighbors import KNeighborsClassifier\n",
    "from sklearn.pipeline import make_pipeline\n",
    "from sklearn.preprocessing import StandardScaler\n",
    "from sklearn.metrics import recall_score, precision_score\n",
    "from sklearn.metrics import ConfusionMatrixDisplay\n",
    "alt.data_transformers.enable('vegafusion')\n",
    "set_config(transform_output=\"pandas\")\n",
    "np.random.seed(2000)"
   ]
  },
  {
   "cell_type": "markdown",
   "id": "0c600ab3-528b-42c2-a5cf-cbddbc0db039",
   "metadata": {},
   "source": [
    "# Experience Level Detection Model"
   ]
  },
  {
   "cell_type": "markdown",
   "id": "2c3fdeee-d3e7-471b-9faa-6bd2c1487f29",
   "metadata": {},
   "source": [
    "DSCI 100 Group 6 Final Project "
   ]
  },
  {
   "cell_type": "markdown",
   "id": "67a0aae5-d492-45bd-ac2d-0b5bc2d8b3f0",
   "metadata": {},
   "source": [
    "Abby Sun, Anas Ahmed, Michelle Wu, Youssef Abouelseoud"
   ]
  },
  {
   "cell_type": "markdown",
   "id": "7cd0af75-acc8-4dea-bfe0-afe3d53d629a",
   "metadata": {},
   "source": [
    "## Introduction"
   ]
  },
  {
   "cell_type": "markdown",
   "id": "d8710bfc-40b3-43a9-9a82-079f2ff5e002",
   "metadata": {},
   "source": [
    "The Pacific Laboratory for Artificial Intelligence (PLAI) at UBC has launched an innovative project involving a new game called Plaicraft, described as a \"free Minecraft in the cloud\" (Smith, 2024). This initiative serves as a platform for gathering large-scale multiplayer gameplay data to train AI systems capable of exhibiting human-like behavior, aiming to replace traditional NPC bots and advance artificial general intelligence (AGI) research. The PLAI group aims to gather 10,000 hours of multiplayer gameplay data. Therefore, it is essential to recruit players who are likely to contribute significant amounts of gameplay time. \n",
    "\n",
    "This leads us to our research question: **Which kinds of players are most likely to contribute a large amount of data so that we can target those players in our recruiting efforts?** To address this question, our team used a K-Nearest Neighbors (KNN) classification model to explore a more specific, predictive question: **What is a player’s experience level based on their age and the time they spend playing the game?** Understanding player experience levels can help inform recruitment strategies by identifying traits associated with high engagement."
   ]
  },
  {
   "cell_type": "markdown",
   "id": "7f504edf-8edb-4d2e-a8ae-9e9915ab6ab1",
   "metadata": {},
   "source": [
    "For this project, we will be using data from players.csv, which is a list of all unique players with data about each player, collected by the PLAI group. This dataset has 9 columns and 196 observations organised as follows:"
   ]
  },
  {
   "cell_type": "markdown",
   "id": "3b209997-c43f-4be8-8f44-615daae6d386",
   "metadata": {},
   "source": [
    "|Column Name|\tData Type|\tDescription|\n",
    "|-----------|------------|------------------------------|\n",
    "|experience\t|Object| Cateorigical varaible; player’s experience level ('Pro', 'Veteran', 'Amateur', 'Regular', 'Beginner')|\n",
    "|subscribe\t|Boolean|Indicates if the player is subscribed to certain features or services.|\n",
    "|hashedEmail|Object\t|Unique hashed email for each player (used for identification)|\n",
    "|played_hours|Float64|Total hours played by the player.\tContains values from 0 to 223.1|\n",
    "|name\t|Object\t|Player’s name,\t196 unique values|\n",
    "|gender\t|Object\t|Player’s gender (e.g., Male, Female), has 7 unique values|\n",
    "|age\t|Int64|\tPlayer’s age; range from 8 to 99|\n",
    "|individualId\t|Float64\t|Unique identifier for each player; **no recorded values**|\n",
    "|organizationName|\tFloat64\t|Name of the organization the player is affiliated with, **no recorded values**|\n",
    "\n"
   ]
  },
  {
   "cell_type": "markdown",
   "id": "181f8293-cd3e-4cf1-a559-636c87cc471c",
   "metadata": {},
   "source": [
    "## Methods & Results"
   ]
  },
  {
   "cell_type": "markdown",
   "id": "903b43ca-d09a-40bd-a198-d775f0e0521f",
   "metadata": {},
   "source": [
    "### Method Overview: \n",
    "\n",
    "To answer our question, we will be using K-Nearest Neighbors (KNN) Classification to build 4 different models. Our two original predictor variables for the first model were: \n",
    "\n",
    "+ played_hours\n",
    "+ age\n",
    "\n",
    "and 3 other predictor variables were used later on in our analysis for feature engineering: \n",
    "\n",
    "+ squared_age\n",
    "+ log_age\n",
    "+ sin_age.\n",
    "\n",
    "As for our response variable, we used the **experience level**, which has 5 different categories, 'Pro', 'Veteran', 'Amateur', 'Regular', and 'Beginner'. \n",
    "\n",
    "The four models are tested using accuracy and validated/examined using a confusion matrix.\n"
   ]
  },
  {
   "cell_type": "markdown",
   "id": "c4813708-0866-4b91-88eb-afc2b2bdacc7",
   "metadata": {},
   "source": [
    "### Import / Load Data"
   ]
  },
  {
   "cell_type": "code",
   "execution_count": 2,
   "id": "fc886882-081d-47fa-9b1b-b2a6f620b4da",
   "metadata": {},
   "outputs": [
    {
     "data": {
      "text/html": [
       "<div>\n",
       "<style scoped>\n",
       "    .dataframe tbody tr th:only-of-type {\n",
       "        vertical-align: middle;\n",
       "    }\n",
       "\n",
       "    .dataframe tbody tr th {\n",
       "        vertical-align: top;\n",
       "    }\n",
       "\n",
       "    .dataframe thead th {\n",
       "        text-align: right;\n",
       "    }\n",
       "</style>\n",
       "<table border=\"1\" class=\"dataframe\">\n",
       "  <thead>\n",
       "    <tr style=\"text-align: right;\">\n",
       "      <th></th>\n",
       "      <th>experience</th>\n",
       "      <th>subscribe</th>\n",
       "      <th>hashedEmail</th>\n",
       "      <th>played_hours</th>\n",
       "      <th>name</th>\n",
       "      <th>gender</th>\n",
       "      <th>age</th>\n",
       "      <th>individualId</th>\n",
       "      <th>organizationName</th>\n",
       "    </tr>\n",
       "  </thead>\n",
       "  <tbody>\n",
       "    <tr>\n",
       "      <th>0</th>\n",
       "      <td>Pro</td>\n",
       "      <td>True</td>\n",
       "      <td>f6daba428a5e19a3d47574858c13550499be23603422e6...</td>\n",
       "      <td>30.3</td>\n",
       "      <td>Morgan</td>\n",
       "      <td>Male</td>\n",
       "      <td>9</td>\n",
       "      <td>NaN</td>\n",
       "      <td>NaN</td>\n",
       "    </tr>\n",
       "    <tr>\n",
       "      <th>1</th>\n",
       "      <td>Veteran</td>\n",
       "      <td>True</td>\n",
       "      <td>f3c813577c458ba0dfef80996f8f32c93b6e8af1fa9397...</td>\n",
       "      <td>3.8</td>\n",
       "      <td>Christian</td>\n",
       "      <td>Male</td>\n",
       "      <td>17</td>\n",
       "      <td>NaN</td>\n",
       "      <td>NaN</td>\n",
       "    </tr>\n",
       "    <tr>\n",
       "      <th>2</th>\n",
       "      <td>Veteran</td>\n",
       "      <td>False</td>\n",
       "      <td>b674dd7ee0d24096d1c019615ce4d12b20fcbff12d79d3...</td>\n",
       "      <td>0.0</td>\n",
       "      <td>Blake</td>\n",
       "      <td>Male</td>\n",
       "      <td>17</td>\n",
       "      <td>NaN</td>\n",
       "      <td>NaN</td>\n",
       "    </tr>\n",
       "    <tr>\n",
       "      <th>3</th>\n",
       "      <td>Amateur</td>\n",
       "      <td>True</td>\n",
       "      <td>23fe711e0e3b77f1da7aa221ab1192afe21648d47d2b4f...</td>\n",
       "      <td>0.7</td>\n",
       "      <td>Flora</td>\n",
       "      <td>Female</td>\n",
       "      <td>21</td>\n",
       "      <td>NaN</td>\n",
       "      <td>NaN</td>\n",
       "    </tr>\n",
       "    <tr>\n",
       "      <th>4</th>\n",
       "      <td>Regular</td>\n",
       "      <td>True</td>\n",
       "      <td>7dc01f10bf20671ecfccdac23812b1b415acd42c2147cb...</td>\n",
       "      <td>0.1</td>\n",
       "      <td>Kylie</td>\n",
       "      <td>Male</td>\n",
       "      <td>21</td>\n",
       "      <td>NaN</td>\n",
       "      <td>NaN</td>\n",
       "    </tr>\n",
       "  </tbody>\n",
       "</table>\n",
       "</div>"
      ],
      "text/plain": [
       "  experience  subscribe                                        hashedEmail  \\\n",
       "0        Pro       True  f6daba428a5e19a3d47574858c13550499be23603422e6...   \n",
       "1    Veteran       True  f3c813577c458ba0dfef80996f8f32c93b6e8af1fa9397...   \n",
       "2    Veteran      False  b674dd7ee0d24096d1c019615ce4d12b20fcbff12d79d3...   \n",
       "3    Amateur       True  23fe711e0e3b77f1da7aa221ab1192afe21648d47d2b4f...   \n",
       "4    Regular       True  7dc01f10bf20671ecfccdac23812b1b415acd42c2147cb...   \n",
       "\n",
       "   played_hours       name  gender  age  individualId  organizationName  \n",
       "0          30.3     Morgan    Male    9           NaN               NaN  \n",
       "1           3.8  Christian    Male   17           NaN               NaN  \n",
       "2           0.0      Blake    Male   17           NaN               NaN  \n",
       "3           0.7      Flora  Female   21           NaN               NaN  \n",
       "4           0.1      Kylie    Male   21           NaN               NaN  "
      ]
     },
     "execution_count": 2,
     "metadata": {},
     "output_type": "execute_result"
    }
   ],
   "source": [
    "url = \"https://docs.google.com/spreadsheets/d/\"\n",
    "sheetId = '1I3LWCl5-1ZsDIEe168lmFMKynXqypCO3UL7RogvcT34'\n",
    "players = pd.read_csv(f\"https://docs.google.com/spreadsheets/d/{sheetId}/export?format=csv\")\n",
    "players.head()"
   ]
  },
  {
   "cell_type": "code",
   "execution_count": 3,
   "id": "359f07ba-4f91-48f8-9d6c-c00d900456d9",
   "metadata": {},
   "outputs": [
    {
     "data": {
      "text/html": [
       "<div>\n",
       "<style scoped>\n",
       "    .dataframe tbody tr th:only-of-type {\n",
       "        vertical-align: middle;\n",
       "    }\n",
       "\n",
       "    .dataframe tbody tr th {\n",
       "        vertical-align: top;\n",
       "    }\n",
       "\n",
       "    .dataframe thead th {\n",
       "        text-align: right;\n",
       "    }\n",
       "</style>\n",
       "<table border=\"1\" class=\"dataframe\">\n",
       "  <thead>\n",
       "    <tr style=\"text-align: right;\">\n",
       "      <th></th>\n",
       "      <th>played_hours</th>\n",
       "      <th>age</th>\n",
       "      <th>squared_age</th>\n",
       "      <th>log_age</th>\n",
       "      <th>sin_age</th>\n",
       "      <th>experience</th>\n",
       "    </tr>\n",
       "  </thead>\n",
       "  <tbody>\n",
       "    <tr>\n",
       "      <th>0</th>\n",
       "      <td>30.3</td>\n",
       "      <td>9</td>\n",
       "      <td>81</td>\n",
       "      <td>2.197225</td>\n",
       "      <td>0.412118</td>\n",
       "      <td>Pro</td>\n",
       "    </tr>\n",
       "    <tr>\n",
       "      <th>1</th>\n",
       "      <td>3.8</td>\n",
       "      <td>17</td>\n",
       "      <td>289</td>\n",
       "      <td>2.833213</td>\n",
       "      <td>-0.961397</td>\n",
       "      <td>Veteran</td>\n",
       "    </tr>\n",
       "    <tr>\n",
       "      <th>2</th>\n",
       "      <td>0.0</td>\n",
       "      <td>17</td>\n",
       "      <td>289</td>\n",
       "      <td>2.833213</td>\n",
       "      <td>-0.961397</td>\n",
       "      <td>Veteran</td>\n",
       "    </tr>\n",
       "    <tr>\n",
       "      <th>3</th>\n",
       "      <td>0.7</td>\n",
       "      <td>21</td>\n",
       "      <td>441</td>\n",
       "      <td>3.044522</td>\n",
       "      <td>0.836656</td>\n",
       "      <td>Amateur</td>\n",
       "    </tr>\n",
       "    <tr>\n",
       "      <th>4</th>\n",
       "      <td>0.1</td>\n",
       "      <td>21</td>\n",
       "      <td>441</td>\n",
       "      <td>3.044522</td>\n",
       "      <td>0.836656</td>\n",
       "      <td>Regular</td>\n",
       "    </tr>\n",
       "  </tbody>\n",
       "</table>\n",
       "</div>"
      ],
      "text/plain": [
       "   played_hours  age  squared_age   log_age   sin_age experience\n",
       "0          30.3    9           81  2.197225  0.412118        Pro\n",
       "1           3.8   17          289  2.833213 -0.961397    Veteran\n",
       "2           0.0   17          289  2.833213 -0.961397    Veteran\n",
       "3           0.7   21          441  3.044522  0.836656    Amateur\n",
       "4           0.1   21          441  3.044522  0.836656    Regular"
      ]
     },
     "execution_count": 3,
     "metadata": {},
     "output_type": "execute_result"
    }
   ],
   "source": [
    "#data wrangling \n",
    "\n",
    "# add additional age columns for feature engineering\n",
    "players_more = players.assign(squared_age = players['age']**2,\n",
    "                              log_age = np.log(players['age']),\n",
    "                              sin_age = np.sin(players['age']))\n",
    "\n",
    "# select rows\n",
    "players_wrangled = players_more[[\"played_hours\", \"age\", \"squared_age\", \"log_age\", \"sin_age\", \"experience\"]]\n",
    "players_wrangled.head()"
   ]
  },
  {
   "cell_type": "markdown",
   "id": "1a510124-db68-48ce-961e-59cd674fce8c",
   "metadata": {},
   "source": [
    "### Summary statistics "
   ]
  },
  {
   "cell_type": "code",
   "execution_count": 4,
   "id": "0e71df0a-0d8e-4e0e-828f-1acd4ec2a4ba",
   "metadata": {},
   "outputs": [
    {
     "data": {
      "text/plain": [
       "experience\n",
       "Amateur     63\n",
       "Veteran     48\n",
       "Regular     36\n",
       "Beginner    35\n",
       "Pro         14\n",
       "Name: count, dtype: int64"
      ]
     },
     "execution_count": 4,
     "metadata": {},
     "output_type": "execute_result"
    }
   ],
   "source": [
    "# the number of players in each experience category\n",
    "players_wrangled['experience'].value_counts()"
   ]
  },
  {
   "cell_type": "code",
   "execution_count": 5,
   "id": "3d066594-95a3-42e6-b0ba-07b526587762",
   "metadata": {},
   "outputs": [
    {
     "data": {
      "text/plain": [
       "(0.0, 223.1)"
      ]
     },
     "execution_count": 5,
     "metadata": {},
     "output_type": "execute_result"
    }
   ],
   "source": [
    "# determine the range of hours played (min, max)\n",
    "played_hours_range = (players_wrangled['played_hours'].min(), players_wrangled['played_hours'].max())\n",
    "played_hours_range"
   ]
  },
  {
   "cell_type": "code",
   "execution_count": 6,
   "id": "3217c48d-8d48-4b9d-bac5-e2780a1e338c",
   "metadata": {},
   "outputs": [
    {
     "data": {
      "text/plain": [
       "(8, 99)"
      ]
     },
     "execution_count": 6,
     "metadata": {},
     "output_type": "execute_result"
    }
   ],
   "source": [
    "age_range = (players_wrangled['age'].min(), players_wrangled['age'].max())\n",
    "age_range"
   ]
  },
  {
   "cell_type": "markdown",
   "id": "e9519bb7-177f-4554-8eb0-bdb016289cb3",
   "metadata": {},
   "source": [
    "### Exploratory Data Analysis Visualization "
   ]
  },
  {
   "cell_type": "code",
   "execution_count": 7,
   "id": "2154bf16-bf17-47ce-ac0d-8ec5b2f6f43b",
   "metadata": {},
   "outputs": [
    {
     "data": {
      "text/html": [
       "\n",
       "<style>\n",
       "  #altair-viz-ad7b83d9f4be4893836c792bab968982.vega-embed {\n",
       "    width: 100%;\n",
       "    display: flex;\n",
       "  }\n",
       "\n",
       "  #altair-viz-ad7b83d9f4be4893836c792bab968982.vega-embed details,\n",
       "  #altair-viz-ad7b83d9f4be4893836c792bab968982.vega-embed details summary {\n",
       "    position: relative;\n",
       "  }\n",
       "</style>\n",
       "<div id=\"altair-viz-ad7b83d9f4be4893836c792bab968982\"></div>\n",
       "<script type=\"text/javascript\">\n",
       "  var VEGA_DEBUG = (typeof VEGA_DEBUG == \"undefined\") ? {} : VEGA_DEBUG;\n",
       "  (function(spec, embedOpt){\n",
       "    let outputDiv = document.currentScript.previousElementSibling;\n",
       "    if (outputDiv.id !== \"altair-viz-ad7b83d9f4be4893836c792bab968982\") {\n",
       "      outputDiv = document.getElementById(\"altair-viz-ad7b83d9f4be4893836c792bab968982\");\n",
       "    }\n",
       "    const paths = {\n",
       "      \"vega\": \"https://cdn.jsdelivr.net/npm/vega@5?noext\",\n",
       "      \"vega-lib\": \"https://cdn.jsdelivr.net/npm/vega-lib?noext\",\n",
       "      \"vega-lite\": \"https://cdn.jsdelivr.net/npm/vega-lite@5.20.1?noext\",\n",
       "      \"vega-embed\": \"https://cdn.jsdelivr.net/npm/vega-embed@6?noext\",\n",
       "    };\n",
       "\n",
       "    function maybeLoadScript(lib, version) {\n",
       "      var key = `${lib.replace(\"-\", \"\")}_version`;\n",
       "      return (VEGA_DEBUG[key] == version) ?\n",
       "        Promise.resolve(paths[lib]) :\n",
       "        new Promise(function(resolve, reject) {\n",
       "          var s = document.createElement('script');\n",
       "          document.getElementsByTagName(\"head\")[0].appendChild(s);\n",
       "          s.async = true;\n",
       "          s.onload = () => {\n",
       "            VEGA_DEBUG[key] = version;\n",
       "            return resolve(paths[lib]);\n",
       "          };\n",
       "          s.onerror = () => reject(`Error loading script: ${paths[lib]}`);\n",
       "          s.src = paths[lib];\n",
       "        });\n",
       "    }\n",
       "\n",
       "    function showError(err) {\n",
       "      outputDiv.innerHTML = `<div class=\"error\" style=\"color:red;\">${err}</div>`;\n",
       "      throw err;\n",
       "    }\n",
       "\n",
       "    function displayChart(vegaEmbed) {\n",
       "      vegaEmbed(outputDiv, spec, embedOpt)\n",
       "        .catch(err => showError(`Javascript Error: ${err.message}<br>This usually means there's a typo in your chart specification. See the javascript console for the full traceback.`));\n",
       "    }\n",
       "\n",
       "    if(typeof define === \"function\" && define.amd) {\n",
       "      requirejs.config({paths});\n",
       "      require([\"vega-embed\"], displayChart, err => showError(`Error loading script: ${err.message}`));\n",
       "    } else {\n",
       "      maybeLoadScript(\"vega\", \"5\")\n",
       "        .then(() => maybeLoadScript(\"vega-lite\", \"5.20.1\"))\n",
       "        .then(() => maybeLoadScript(\"vega-embed\", \"6\"))\n",
       "        .catch(showError)\n",
       "        .then(() => displayChart(vegaEmbed));\n",
       "    }\n",
       "  })({\"$schema\": \"https://vega.github.io/schema/vega/v5.json\", \"data\": [{\"name\": \"source_0\", \"values\": [{\"__count\": 14, \"experience\": \"Pro\"}, {\"__count\": 48, \"experience\": \"Veteran\"}, {\"__count\": 63, \"experience\": \"Amateur\"}, {\"__count\": 36, \"experience\": \"Regular\"}, {\"__count\": 35, \"experience\": \"Beginner\"}]}, {\"name\": \"source_0_x_domain___count\", \"values\": [{\"min\": 14, \"max\": 63}]}, {\"name\": \"source_0_y_domain_experience\", \"values\": [{\"experience\": \"Pro\"}, {\"experience\": \"Veteran\"}, {\"experience\": \"Amateur\"}, {\"experience\": \"Regular\"}, {\"experience\": \"Beginner\"}]}, {\"name\": \"source_0_color_domain_experience\", \"values\": [{\"experience\": \"Pro\"}, {\"experience\": \"Veteran\"}, {\"experience\": \"Amateur\"}, {\"experience\": \"Regular\"}, {\"experience\": \"Beginner\"}]}], \"signals\": [{\"name\": \"y_step\", \"value\": 20}, {\"name\": \"height\", \"update\": \"bandspace(domain('y').length, 0.1, 0.05) * y_step\"}], \"marks\": [{\"type\": \"rect\", \"name\": \"marks\", \"from\": {\"data\": \"source_0\"}, \"encode\": {\"update\": {\"y\": {\"field\": \"experience\", \"scale\": \"y\"}, \"height\": {\"signal\": \"max(0.25, bandwidth('y'))\"}, \"x\": {\"field\": \"__count\", \"scale\": \"x\"}, \"fill\": {\"field\": \"experience\", \"scale\": \"color\"}, \"x2\": {\"value\": 0, \"scale\": \"x\"}}}, \"style\": [\"bar\"]}], \"scales\": [{\"name\": \"x\", \"type\": \"linear\", \"domain\": [{\"signal\": \"(data(\\\"source_0_x_domain___count\\\")[0] || {}).min\"}, {\"signal\": \"(data(\\\"source_0_x_domain___count\\\")[0] || {}).max\"}], \"range\": [0, {\"signal\": \"width\"}], \"nice\": true, \"zero\": true}, {\"name\": \"y\", \"type\": \"band\", \"domain\": {\"data\": \"source_0_y_domain_experience\", \"field\": \"experience\", \"sort\": true}, \"range\": {\"step\": {\"signal\": \"y_step\"}}, \"paddingInner\": 0.1, \"paddingOuter\": 0.05}, {\"name\": \"color\", \"type\": \"ordinal\", \"domain\": {\"data\": \"source_0_color_domain_experience\", \"field\": \"experience\", \"sort\": true}, \"range\": \"category\"}], \"axes\": [{\"scale\": \"x\", \"maxExtent\": 0, \"minExtent\": 0, \"grid\": true, \"zindex\": 0, \"ticks\": false, \"aria\": false, \"domain\": false, \"labels\": false, \"gridScale\": \"y\", \"tickCount\": {\"signal\": \"ceil(width/40)\"}, \"orient\": \"bottom\"}, {\"scale\": \"x\", \"labelFlush\": true, \"title\": \"Number of Players\", \"labelOverlap\": true, \"grid\": false, \"orient\": \"bottom\", \"tickCount\": {\"signal\": \"ceil(width/40)\"}, \"zindex\": 0}, {\"scale\": \"y\", \"zindex\": 0, \"grid\": false, \"orient\": \"left\", \"title\": \"Experience Level\"}], \"title\": {\"text\": \"Number of Players vs. Experience Level\", \"frame\": \"group\"}, \"width\": 300, \"legends\": [{\"title\": \"Experience Level\", \"fill\": \"color\", \"symbolType\": \"square\"}], \"background\": \"white\", \"padding\": 5, \"style\": \"cell\"}, {\"mode\": \"vega\"});\n",
       "</script>"
      ],
      "text/plain": [
       "alt.Chart(...)"
      ]
     },
     "execution_count": 7,
     "metadata": {},
     "output_type": "execute_result"
    }
   ],
   "source": [
    "players_plot2 = alt.Chart(players_wrangled).mark_bar().encode(\n",
    "    x=alt.X(\"count():Q\").title(\"Number of Players\"),\n",
    "    y=alt.Y(\"experience\").title(\"Experience Level\"),\n",
    "    color=alt.Color(\"experience\").title(\"Experience Level\")\n",
    ").properties(\n",
    "    title=\"Number of Players vs. Experience Level\"\n",
    ")\n",
    "players_plot2"
   ]
  },
  {
   "cell_type": "markdown",
   "id": "1adbdfcb-7500-45e4-908d-2112e1e2d8bf",
   "metadata": {},
   "source": [
    "**Figure 1. Bar chart showing the number of players in each Experience Level**"
   ]
  },
  {
   "cell_type": "code",
   "execution_count": 8,
   "id": "3b02a98a-c57e-44d8-9617-32fd55252f41",
   "metadata": {},
   "outputs": [
    {
     "data": {
      "text/html": [
       "\n",
       "<style>\n",
       "  #altair-viz-0fa6920748514935b0f26591221e4ed0.vega-embed {\n",
       "    width: 100%;\n",
       "    display: flex;\n",
       "  }\n",
       "\n",
       "  #altair-viz-0fa6920748514935b0f26591221e4ed0.vega-embed details,\n",
       "  #altair-viz-0fa6920748514935b0f26591221e4ed0.vega-embed details summary {\n",
       "    position: relative;\n",
       "  }\n",
       "</style>\n",
       "<div id=\"altair-viz-0fa6920748514935b0f26591221e4ed0\"></div>\n",
       "<script type=\"text/javascript\">\n",
       "  var VEGA_DEBUG = (typeof VEGA_DEBUG == \"undefined\") ? {} : VEGA_DEBUG;\n",
       "  (function(spec, embedOpt){\n",
       "    let outputDiv = document.currentScript.previousElementSibling;\n",
       "    if (outputDiv.id !== \"altair-viz-0fa6920748514935b0f26591221e4ed0\") {\n",
       "      outputDiv = document.getElementById(\"altair-viz-0fa6920748514935b0f26591221e4ed0\");\n",
       "    }\n",
       "    const paths = {\n",
       "      \"vega\": \"https://cdn.jsdelivr.net/npm/vega@5?noext\",\n",
       "      \"vega-lib\": \"https://cdn.jsdelivr.net/npm/vega-lib?noext\",\n",
       "      \"vega-lite\": \"https://cdn.jsdelivr.net/npm/vega-lite@5.20.1?noext\",\n",
       "      \"vega-embed\": \"https://cdn.jsdelivr.net/npm/vega-embed@6?noext\",\n",
       "    };\n",
       "\n",
       "    function maybeLoadScript(lib, version) {\n",
       "      var key = `${lib.replace(\"-\", \"\")}_version`;\n",
       "      return (VEGA_DEBUG[key] == version) ?\n",
       "        Promise.resolve(paths[lib]) :\n",
       "        new Promise(function(resolve, reject) {\n",
       "          var s = document.createElement('script');\n",
       "          document.getElementsByTagName(\"head\")[0].appendChild(s);\n",
       "          s.async = true;\n",
       "          s.onload = () => {\n",
       "            VEGA_DEBUG[key] = version;\n",
       "            return resolve(paths[lib]);\n",
       "          };\n",
       "          s.onerror = () => reject(`Error loading script: ${paths[lib]}`);\n",
       "          s.src = paths[lib];\n",
       "        });\n",
       "    }\n",
       "\n",
       "    function showError(err) {\n",
       "      outputDiv.innerHTML = `<div class=\"error\" style=\"color:red;\">${err}</div>`;\n",
       "      throw err;\n",
       "    }\n",
       "\n",
       "    function displayChart(vegaEmbed) {\n",
       "      vegaEmbed(outputDiv, spec, embedOpt)\n",
       "        .catch(err => showError(`Javascript Error: ${err.message}<br>This usually means there's a typo in your chart specification. See the javascript console for the full traceback.`));\n",
       "    }\n",
       "\n",
       "    if(typeof define === \"function\" && define.amd) {\n",
       "      requirejs.config({paths});\n",
       "      require([\"vega-embed\"], displayChart, err => showError(`Error loading script: ${err.message}`));\n",
       "    } else {\n",
       "      maybeLoadScript(\"vega\", \"5\")\n",
       "        .then(() => maybeLoadScript(\"vega-lite\", \"5.20.1\"))\n",
       "        .then(() => maybeLoadScript(\"vega-embed\", \"6\"))\n",
       "        .catch(showError)\n",
       "        .then(() => displayChart(vegaEmbed));\n",
       "    }\n",
       "  })({\"$schema\": \"https://vega.github.io/schema/vega/v5.json\", \"data\": [{\"name\": \"source_0\", \"values\": [{\"experience\": \"Pro\", \"mean_played_hours\": 2.600000000000001}, {\"experience\": \"Veteran\", \"mean_played_hours\": 0.6479166666666668}, {\"experience\": \"Amateur\", \"mean_played_hours\": 6.017460317460321}, {\"experience\": \"Regular\", \"mean_played_hours\": 18.208333333333332}, {\"experience\": \"Beginner\", \"mean_played_hours\": 1.2485714285714284}]}, {\"name\": \"source_0_x_domain_mean_played_hours\", \"values\": [{\"min\": 0.6479166666666668, \"max\": 18.208333333333332}]}, {\"name\": \"source_0_y_domain_experience\", \"values\": [{\"experience\": \"Pro\"}, {\"experience\": \"Veteran\"}, {\"experience\": \"Amateur\"}, {\"experience\": \"Regular\"}, {\"experience\": \"Beginner\"}]}, {\"name\": \"source_0_color_domain_experience\", \"values\": [{\"experience\": \"Pro\"}, {\"experience\": \"Veteran\"}, {\"experience\": \"Amateur\"}, {\"experience\": \"Regular\"}, {\"experience\": \"Beginner\"}]}], \"signals\": [{\"name\": \"y_step\", \"value\": 20}, {\"name\": \"height\", \"update\": \"bandspace(domain('y').length, 0.1, 0.05) * y_step\"}], \"marks\": [{\"type\": \"rect\", \"name\": \"marks\", \"from\": {\"data\": \"source_0\"}, \"encode\": {\"update\": {\"height\": {\"signal\": \"max(0.25, bandwidth('y'))\"}, \"fill\": {\"field\": \"experience\", \"scale\": \"color\"}, \"x2\": {\"value\": 0, \"scale\": \"x\"}, \"x\": {\"field\": \"mean_played_hours\", \"scale\": \"x\"}, \"y\": {\"field\": \"experience\", \"scale\": \"y\"}}}, \"style\": [\"bar\"]}], \"scales\": [{\"name\": \"x\", \"type\": \"linear\", \"domain\": [{\"signal\": \"(data(\\\"source_0_x_domain_mean_played_hours\\\")[0] || {}).min\"}, {\"signal\": \"(data(\\\"source_0_x_domain_mean_played_hours\\\")[0] || {}).max\"}], \"range\": [0, {\"signal\": \"width\"}], \"zero\": true, \"nice\": true}, {\"name\": \"y\", \"type\": \"band\", \"domain\": {\"data\": \"source_0_y_domain_experience\", \"field\": \"experience\", \"sort\": true}, \"range\": {\"step\": {\"signal\": \"y_step\"}}, \"paddingInner\": 0.1, \"paddingOuter\": 0.05}, {\"name\": \"color\", \"type\": \"ordinal\", \"domain\": {\"data\": \"source_0_color_domain_experience\", \"field\": \"experience\", \"sort\": true}, \"range\": \"category\"}], \"axes\": [{\"scale\": \"x\", \"domain\": false, \"orient\": \"bottom\", \"ticks\": false, \"grid\": true, \"maxExtent\": 0, \"minExtent\": 0, \"zindex\": 0, \"aria\": false, \"gridScale\": \"y\", \"labels\": false, \"tickCount\": {\"signal\": \"ceil(width/40)\"}}, {\"scale\": \"x\", \"grid\": false, \"title\": \"Mean Played Hours\", \"labelOverlap\": true, \"orient\": \"bottom\", \"labelFlush\": true, \"tickCount\": {\"signal\": \"ceil(width/40)\"}, \"zindex\": 0}, {\"scale\": \"y\", \"grid\": false, \"orient\": \"left\", \"title\": \"Experience Level\", \"zindex\": 0}], \"title\": {\"text\": \"Mean Played Hours vs. Experience Level\", \"frame\": \"group\"}, \"width\": 300, \"legends\": [{\"title\": \"Experience Level\", \"fill\": \"color\", \"symbolType\": \"square\"}], \"padding\": 5, \"background\": \"white\", \"style\": \"cell\"}, {\"mode\": \"vega\"});\n",
       "</script>"
      ],
      "text/plain": [
       "alt.Chart(...)"
      ]
     },
     "execution_count": 8,
     "metadata": {},
     "output_type": "execute_result"
    }
   ],
   "source": [
    "players_mean = players_wrangled.groupby(\"experience\").mean().reset_index()\n",
    "players_mean \n",
    "\n",
    "players_plot = alt.Chart(players_wrangled).mark_bar().encode( \n",
    "    x=alt.X(\"mean(played_hours):Q\").title(\"Mean Played Hours\"),\n",
    "    y=alt.Y(\"experience\").title(\"Experience Level\"), \n",
    "    color=alt.Color(\"experience\").title(\"Experience Level\")\n",
    ").properties(\n",
    "    title=\"Mean Played Hours vs. Experience Level\"\n",
    ")\n",
    "players_plot"
   ]
  },
  {
   "cell_type": "markdown",
   "id": "9f520113-92cb-4220-a30d-a3e58d2e0f75",
   "metadata": {},
   "source": [
    "**Figure 2: Bar plot showing the mean played hours (x axis) for the 5 distinct experience levels (y axis).**"
   ]
  },
  {
   "cell_type": "code",
   "execution_count": 9,
   "id": "efc19c81-f815-4e7a-b38c-2e328f170044",
   "metadata": {},
   "outputs": [
    {
     "data": {
      "text/html": [
       "\n",
       "<style>\n",
       "  #altair-viz-bb2c3dbf13de4b93a5565ecbf54ce3b6.vega-embed {\n",
       "    width: 100%;\n",
       "    display: flex;\n",
       "  }\n",
       "\n",
       "  #altair-viz-bb2c3dbf13de4b93a5565ecbf54ce3b6.vega-embed details,\n",
       "  #altair-viz-bb2c3dbf13de4b93a5565ecbf54ce3b6.vega-embed details summary {\n",
       "    position: relative;\n",
       "  }\n",
       "</style>\n",
       "<div id=\"altair-viz-bb2c3dbf13de4b93a5565ecbf54ce3b6\"></div>\n",
       "<script type=\"text/javascript\">\n",
       "  var VEGA_DEBUG = (typeof VEGA_DEBUG == \"undefined\") ? {} : VEGA_DEBUG;\n",
       "  (function(spec, embedOpt){\n",
       "    let outputDiv = document.currentScript.previousElementSibling;\n",
       "    if (outputDiv.id !== \"altair-viz-bb2c3dbf13de4b93a5565ecbf54ce3b6\") {\n",
       "      outputDiv = document.getElementById(\"altair-viz-bb2c3dbf13de4b93a5565ecbf54ce3b6\");\n",
       "    }\n",
       "    const paths = {\n",
       "      \"vega\": \"https://cdn.jsdelivr.net/npm/vega@5?noext\",\n",
       "      \"vega-lib\": \"https://cdn.jsdelivr.net/npm/vega-lib?noext\",\n",
       "      \"vega-lite\": \"https://cdn.jsdelivr.net/npm/vega-lite@5.20.1?noext\",\n",
       "      \"vega-embed\": \"https://cdn.jsdelivr.net/npm/vega-embed@6?noext\",\n",
       "    };\n",
       "\n",
       "    function maybeLoadScript(lib, version) {\n",
       "      var key = `${lib.replace(\"-\", \"\")}_version`;\n",
       "      return (VEGA_DEBUG[key] == version) ?\n",
       "        Promise.resolve(paths[lib]) :\n",
       "        new Promise(function(resolve, reject) {\n",
       "          var s = document.createElement('script');\n",
       "          document.getElementsByTagName(\"head\")[0].appendChild(s);\n",
       "          s.async = true;\n",
       "          s.onload = () => {\n",
       "            VEGA_DEBUG[key] = version;\n",
       "            return resolve(paths[lib]);\n",
       "          };\n",
       "          s.onerror = () => reject(`Error loading script: ${paths[lib]}`);\n",
       "          s.src = paths[lib];\n",
       "        });\n",
       "    }\n",
       "\n",
       "    function showError(err) {\n",
       "      outputDiv.innerHTML = `<div class=\"error\" style=\"color:red;\">${err}</div>`;\n",
       "      throw err;\n",
       "    }\n",
       "\n",
       "    function displayChart(vegaEmbed) {\n",
       "      vegaEmbed(outputDiv, spec, embedOpt)\n",
       "        .catch(err => showError(`Javascript Error: ${err.message}<br>This usually means there's a typo in your chart specification. See the javascript console for the full traceback.`));\n",
       "    }\n",
       "\n",
       "    if(typeof define === \"function\" && define.amd) {\n",
       "      requirejs.config({paths});\n",
       "      require([\"vega-embed\"], displayChart, err => showError(`Error loading script: ${err.message}`));\n",
       "    } else {\n",
       "      maybeLoadScript(\"vega\", \"5\")\n",
       "        .then(() => maybeLoadScript(\"vega-lite\", \"5.20.1\"))\n",
       "        .then(() => maybeLoadScript(\"vega-embed\", \"6\"))\n",
       "        .catch(showError)\n",
       "        .then(() => displayChart(vegaEmbed));\n",
       "    }\n",
       "  })({\"$schema\": \"https://vega.github.io/schema/vega/v5.json\", \"data\": [{\"name\": \"source_0\", \"values\": [{\"experience\": \"Pro\", \"played_hours\": 30.3}, {\"experience\": \"Veteran\", \"played_hours\": 3.8}, {\"experience\": \"Veteran\", \"played_hours\": 0.0}, {\"experience\": \"Amateur\", \"played_hours\": 0.7}, {\"experience\": \"Regular\", \"played_hours\": 0.1}, {\"experience\": \"Amateur\", \"played_hours\": 0.0}, {\"experience\": \"Regular\", \"played_hours\": 0.0}, {\"experience\": \"Amateur\", \"played_hours\": 0.0}, {\"experience\": \"Amateur\", \"played_hours\": 0.1}, {\"experience\": \"Veteran\", \"played_hours\": 0.0}, {\"experience\": \"Veteran\", \"played_hours\": 1.6}, {\"experience\": \"Pro\", \"played_hours\": 0.0}, {\"experience\": \"Beginner\", \"played_hours\": 1.5}, {\"experience\": \"Amateur\", \"played_hours\": 0.2}, {\"experience\": \"Veteran\", \"played_hours\": 0.0}, {\"experience\": \"Amateur\", \"played_hours\": 0.0}, {\"experience\": \"Beginner\", \"played_hours\": 0.0}, {\"experience\": \"Amateur\", \"played_hours\": 48.4}, {\"experience\": \"Amateur\", \"played_hours\": 0.5}, {\"experience\": \"Regular\", \"played_hours\": 0.6}, {\"experience\": \"Regular\", \"played_hours\": 0.3}, {\"experience\": \"Amateur\", \"played_hours\": 0.1}, {\"experience\": \"Beginner\", \"played_hours\": 1.0}, {\"experience\": \"Beginner\", \"played_hours\": 0.0}, {\"experience\": \"Amateur\", \"played_hours\": 0.7}, {\"experience\": \"Regular\", \"played_hours\": 0.6}, {\"experience\": \"Regular\", \"played_hours\": 0.0}, {\"experience\": \"Veteran\", \"played_hours\": 0.0}, {\"experience\": \"Amateur\", \"played_hours\": 1.8}, {\"experience\": \"Veteran\", \"played_hours\": 0.1}, {\"experience\": \"Amateur\", \"played_hours\": 0.1}, {\"experience\": \"Veteran\", \"played_hours\": 0.1}, {\"experience\": \"Amateur\", \"played_hours\": 0.0}, {\"experience\": \"Amateur\", \"played_hours\": 0.0}, {\"experience\": \"Beginner\", \"played_hours\": 0.6}, {\"experience\": \"Veteran\", \"played_hours\": 0.4}, {\"experience\": \"Veteran\", \"played_hours\": 1.4}, {\"experience\": \"Amateur\", \"played_hours\": 0.2}, {\"experience\": \"Veteran\", \"played_hours\": 0.0}, {\"experience\": \"Amateur\", \"played_hours\": 0.0}, {\"experience\": \"Regular\", \"played_hours\": 5.6}, {\"experience\": \"Veteran\", \"played_hours\": 0.1}, {\"experience\": \"Amateur\", \"played_hours\": 0.3}, {\"experience\": \"Veteran\", \"played_hours\": 0.0}, {\"experience\": \"Veteran\", \"played_hours\": 2.2}, {\"experience\": \"Beginner\", \"played_hours\": 0.0}, {\"experience\": \"Veteran\", \"played_hours\": 0.1}, {\"experience\": \"Regular\", \"played_hours\": 0.0}, {\"experience\": \"Veteran\", \"played_hours\": 12.5}, {\"experience\": \"Beginner\", \"played_hours\": 0.4}, {\"experience\": \"Veteran\", \"played_hours\": 0.6}, {\"experience\": \"Regular\", \"played_hours\": 218.1}, {\"experience\": \"Amateur\", \"played_hours\": 0.9}, {\"experience\": \"Amateur\", \"played_hours\": 0.2}, {\"experience\": \"Beginner\", \"played_hours\": 0.0}, {\"experience\": \"Regular\", \"played_hours\": 0.0}, {\"experience\": \"Amateur\", \"played_hours\": 2.9}, {\"experience\": \"Regular\", \"played_hours\": 0.0}, {\"experience\": \"Regular\", \"played_hours\": 3.6}, {\"experience\": \"Veteran\", \"played_hours\": 0.2}, {\"experience\": \"Veteran\", \"played_hours\": 0.0}, {\"experience\": \"Regular\", \"played_hours\": 1.5}, {\"experience\": \"Pro\", \"played_hours\": 1.0}, {\"experience\": \"Pro\", \"played_hours\": 0.2}, {\"experience\": \"Amateur\", \"played_hours\": 0.1}, {\"experience\": \"Veteran\", \"played_hours\": 0.1}, {\"experience\": \"Veteran\", \"played_hours\": 0.1}, {\"experience\": \"Amateur\", \"played_hours\": 17.2}, {\"experience\": \"Regular\", \"played_hours\": 0.1}, {\"experience\": \"Regular\", \"played_hours\": 0.0}, {\"experience\": \"Regular\", \"played_hours\": 0.2}, {\"experience\": \"Amateur\", \"played_hours\": 53.9}, {\"experience\": \"Veteran\", \"played_hours\": 0.0}, {\"experience\": \"Veteran\", \"played_hours\": 0.0}, {\"experience\": \"Regular\", \"played_hours\": 223.1}, {\"experience\": \"Amateur\", \"played_hours\": 0.5}, {\"experience\": \"Amateur\", \"played_hours\": 3.5}, {\"experience\": \"Regular\", \"played_hours\": 0.0}, {\"experience\": \"Regular\", \"played_hours\": 0.0}, {\"experience\": \"Amateur\", \"played_hours\": 0.0}, {\"experience\": \"Veteran\", \"played_hours\": 0.0}, {\"experience\": \"Veteran\", \"played_hours\": 1.0}, {\"experience\": \"Beginner\", \"played_hours\": 0.2}, {\"experience\": \"Beginner\", \"played_hours\": 0.0}, {\"experience\": \"Beginner\", \"played_hours\": 0.0}, {\"experience\": \"Amateur\", \"played_hours\": 0.0}, {\"experience\": \"Amateur\", \"played_hours\": 0.0}, {\"experience\": \"Beginner\", \"played_hours\": 0.1}, {\"experience\": \"Beginner\", \"played_hours\": 0.0}, {\"experience\": \"Beginner\", \"played_hours\": 0.0}, {\"experience\": \"Amateur\", \"played_hours\": 150.0}, {\"experience\": \"Beginner\", \"played_hours\": 0.0}, {\"experience\": \"Pro\", \"played_hours\": 1.2}, {\"experience\": \"Amateur\", \"played_hours\": 0.1}, {\"experience\": \"Beginner\", \"played_hours\": 0.8}, {\"experience\": \"Regular\", \"played_hours\": 0.0}, {\"experience\": \"Amateur\", \"played_hours\": 0.1}, {\"experience\": \"Veteran\", \"played_hours\": 0.1}, {\"experience\": \"Amateur\", \"played_hours\": 0.0}, {\"experience\": \"Pro\", \"played_hours\": 0.5}, {\"experience\": \"Amateur\", \"played_hours\": 0.0}, {\"experience\": \"Amateur\", \"played_hours\": 0.0}, {\"experience\": \"Veteran\", \"played_hours\": 0.0}, {\"experience\": \"Beginner\", \"played_hours\": 2.0}, {\"experience\": \"Amateur\", \"played_hours\": 0.0}, {\"experience\": \"Regular\", \"played_hours\": 0.0}, {\"experience\": \"Regular\", \"played_hours\": 0.0}, {\"experience\": \"Veteran\", \"played_hours\": 2.7}, {\"experience\": \"Veteran\", \"played_hours\": 0.0}, {\"experience\": \"Amateur\", \"played_hours\": 0.1}, {\"experience\": \"Amateur\", \"played_hours\": 0.0}, {\"experience\": \"Regular\", \"played_hours\": 4.0}, {\"experience\": \"Veteran\", \"played_hours\": 0.4}, {\"experience\": \"Beginner\", \"played_hours\": 0.0}, {\"experience\": \"Beginner\", \"played_hours\": 1.0}, {\"experience\": \"Regular\", \"played_hours\": 0.1}, {\"experience\": \"Veteran\", \"played_hours\": 0.0}, {\"experience\": \"Amateur\", \"played_hours\": 0.0}, {\"experience\": \"Veteran\", \"played_hours\": 0.0}, {\"experience\": \"Beginner\", \"played_hours\": 0.0}, {\"experience\": \"Pro\", \"played_hours\": 0.1}, {\"experience\": \"Beginner\", \"played_hours\": 0.1}, {\"experience\": \"Amateur\", \"played_hours\": 0.1}, {\"experience\": \"Beginner\", \"played_hours\": 7.1}, {\"experience\": \"Beginner\", \"played_hours\": 0.0}, {\"experience\": \"Regular\", \"played_hours\": 18.5}, {\"experience\": \"Beginner\", \"played_hours\": 0.7}, {\"experience\": \"Amateur\", \"played_hours\": 0.0}, {\"experience\": \"Amateur\", \"played_hours\": 0.0}, {\"experience\": \"Amateur\", \"played_hours\": 0.0}, {\"experience\": \"Amateur\", \"played_hours\": 56.1}, {\"experience\": \"Amateur\", \"played_hours\": 0.0}, {\"experience\": \"Regular\", \"played_hours\": 0.1}, {\"experience\": \"Beginner\", \"played_hours\": 0.0}, {\"experience\": \"Beginner\", \"played_hours\": 1.1}, {\"experience\": \"Veteran\", \"played_hours\": 0.0}, {\"experience\": \"Regular\", \"played_hours\": 0.0}, {\"experience\": \"Veteran\", \"played_hours\": 0.0}, {\"experience\": \"Veteran\", \"played_hours\": 0.0}, {\"experience\": \"Veteran\", \"played_hours\": 0.0}, {\"experience\": \"Regular\", \"played_hours\": 0.0}, {\"experience\": \"Regular\", \"played_hours\": 0.0}, {\"experience\": \"Beginner\", \"played_hours\": 1.0}, {\"experience\": \"Veteran\", \"played_hours\": 0.1}, {\"experience\": \"Beginner\", \"played_hours\": 23.7}, {\"experience\": \"Veteran\", \"played_hours\": 0.1}, {\"experience\": \"Pro\", \"played_hours\": 0.0}, {\"experience\": \"Amateur\", \"played_hours\": 0.1}, {\"experience\": \"Veteran\", \"played_hours\": 0.0}, {\"experience\": \"Amateur\", \"played_hours\": 0.0}, {\"experience\": \"Amateur\", \"played_hours\": 0.0}, {\"experience\": \"Amateur\", \"played_hours\": 0.0}, {\"experience\": \"Beginner\", \"played_hours\": 0.2}, {\"experience\": \"Beginner\", \"played_hours\": 0.1}, {\"experience\": \"Amateur\", \"played_hours\": 0.0}, {\"experience\": \"Amateur\", \"played_hours\": 1.2}, {\"experience\": \"Amateur\", \"played_hours\": 0.1}, {\"experience\": \"Regular\", \"played_hours\": 0.1}, {\"experience\": \"Regular\", \"played_hours\": 178.2}, {\"experience\": \"Beginner\", \"played_hours\": 0.0}, {\"experience\": \"Beginner\", \"played_hours\": 0.0}, {\"experience\": \"Veteran\", \"played_hours\": 0.0}, {\"experience\": \"Pro\", \"played_hours\": 0.6}, {\"experience\": \"Regular\", \"played_hours\": 0.5}, {\"experience\": \"Regular\", \"played_hours\": 0.0}, {\"experience\": \"Regular\", \"played_hours\": 0.1}, {\"experience\": \"Amateur\", \"played_hours\": 1.0}, {\"experience\": \"Beginner\", \"played_hours\": 0.3}, {\"experience\": \"Veteran\", \"played_hours\": 0.1}, {\"experience\": \"Veteran\", \"played_hours\": 0.1}, {\"experience\": \"Pro\", \"played_hours\": 0.4}, {\"experience\": \"Beginner\", \"played_hours\": 1.8}, {\"experience\": \"Veteran\", \"played_hours\": 0.0}, {\"experience\": \"Regular\", \"played_hours\": 0.0}, {\"experience\": \"Veteran\", \"played_hours\": 0.0}, {\"experience\": \"Amateur\", \"played_hours\": 0.3}, {\"experience\": \"Pro\", \"played_hours\": 0.0}, {\"experience\": \"Veteran\", \"played_hours\": 2.7}, {\"experience\": \"Amateur\", \"played_hours\": 0.4}, {\"experience\": \"Veteran\", \"played_hours\": 0.1}, {\"experience\": \"Amateur\", \"played_hours\": 2.1}, {\"experience\": \"Amateur\", \"played_hours\": 0.8}, {\"experience\": \"Pro\", \"played_hours\": 0.2}, {\"experience\": \"Amateur\", \"played_hours\": 32.0}, {\"experience\": \"Pro\", \"played_hours\": 1.7}, {\"experience\": \"Regular\", \"played_hours\": 0.1}, {\"experience\": \"Veteran\", \"played_hours\": 0.1}, {\"experience\": \"Amateur\", \"played_hours\": 0.0}, {\"experience\": \"Beginner\", \"played_hours\": 0.0}, {\"experience\": \"Amateur\", \"played_hours\": 0.0}, {\"experience\": \"Amateur\", \"played_hours\": 0.0}, {\"experience\": \"Amateur\", \"played_hours\": 0.0}, {\"experience\": \"Veteran\", \"played_hours\": 0.3}, {\"experience\": \"Amateur\", \"played_hours\": 0.0}, {\"experience\": \"Amateur\", \"played_hours\": 2.3}, {\"experience\": \"Pro\", \"played_hours\": 0.2}]}, {\"name\": \"source_0_x_domain_experience\", \"values\": [{\"experience\": \"Pro\"}, {\"experience\": \"Veteran\"}, {\"experience\": \"Amateur\"}, {\"experience\": \"Regular\"}, {\"experience\": \"Beginner\"}]}, {\"name\": \"source_0_y_domain_played_hours\", \"values\": [{\"min\": 0.0, \"max\": 223.1}]}, {\"name\": \"source_0_color_domain_experience\", \"values\": [{\"experience\": \"Pro\"}, {\"experience\": \"Veteran\"}, {\"experience\": \"Amateur\"}, {\"experience\": \"Regular\"}, {\"experience\": \"Beginner\"}]}], \"signals\": [{\"name\": \"x_step\", \"value\": 20}, {\"name\": \"width\", \"update\": \"bandspace(domain('x').length, 1, 0.5) * x_step\"}], \"marks\": [{\"type\": \"symbol\", \"name\": \"marks\", \"from\": {\"data\": \"source_0\"}, \"encode\": {\"update\": {\"fill\": {\"field\": \"experience\", \"scale\": \"color\"}, \"x\": {\"field\": \"experience\", \"scale\": \"x\"}, \"opacity\": {\"value\": 0.7}, \"y\": {\"field\": \"played_hours\", \"scale\": \"y\"}, \"shape\": {\"value\": \"circle\"}}}, \"style\": [\"circle\"]}], \"scales\": [{\"name\": \"x\", \"type\": \"point\", \"domain\": {\"data\": \"source_0_x_domain_experience\", \"field\": \"experience\", \"sort\": true}, \"range\": {\"step\": {\"signal\": \"x_step\"}}, \"padding\": 0.5}, {\"name\": \"y\", \"type\": \"linear\", \"domain\": [{\"signal\": \"(data(\\\"source_0_y_domain_played_hours\\\")[0] || {}).min\"}, {\"signal\": \"(data(\\\"source_0_y_domain_played_hours\\\")[0] || {}).max\"}], \"range\": [{\"signal\": \"height\"}, 0], \"zero\": true, \"nice\": true}, {\"name\": \"color\", \"type\": \"ordinal\", \"domain\": {\"data\": \"source_0_color_domain_experience\", \"field\": \"experience\", \"sort\": true}, \"range\": \"category\"}], \"axes\": [{\"scale\": \"y\", \"zindex\": 0, \"maxExtent\": 0, \"domain\": false, \"orient\": \"left\", \"grid\": true, \"aria\": false, \"tickCount\": {\"signal\": \"ceil(height/40)\"}, \"minExtent\": 0, \"gridScale\": \"x\", \"labels\": false, \"ticks\": false}, {\"scale\": \"x\", \"title\": \"Experience\", \"labelAngle\": 270, \"labelAlign\": \"right\", \"labelBaseline\": \"middle\", \"grid\": false, \"orient\": \"bottom\", \"zindex\": 0}, {\"scale\": \"y\", \"zindex\": 0, \"title\": \"Played Hours\", \"grid\": false, \"orient\": \"left\", \"labelOverlap\": true, \"tickCount\": {\"signal\": \"ceil(height/40)\"}}], \"title\": {\"text\": \"Played Hours vs. Experience Level\", \"frame\": \"group\"}, \"background\": \"white\", \"legends\": [{\"title\": \"Experience Level\", \"fill\": \"color\", \"symbolType\": \"circle\", \"encode\": {\"symbols\": {\"update\": {\"opacity\": {\"value\": 0.7}}}}}], \"height\": 300, \"padding\": 5, \"style\": \"cell\"}, {\"mode\": \"vega\"});\n",
       "</script>"
      ],
      "text/plain": [
       "alt.Chart(...)"
      ]
     },
     "execution_count": 9,
     "metadata": {},
     "output_type": "execute_result"
    }
   ],
   "source": [
    "players_plot = alt.Chart(players_wrangled).mark_circle().encode(\n",
    "    x=alt.X(\"experience\").title(\"Experience\"),\n",
    "    y=alt.Y(\"played_hours\").title(\"Played Hours\"),\n",
    "    color=alt.Color(\"experience\").title(\"Experience Level\")\n",
    ").properties(\n",
    "    title=\"Played Hours vs. Experience Level\"\n",
    ")\n",
    "\n",
    "players_plot"
   ]
  },
  {
   "cell_type": "markdown",
   "id": "e49a5e34-1504-4ca0-9a41-821c80d5726c",
   "metadata": {},
   "source": [
    "**Figure 3: Scatter plot showing Played Hours for players across different Experience levels. Each point represents an individual player, with Experience treated as a categorical variable.**"
   ]
  },
  {
   "cell_type": "markdown",
   "id": "36eb3fba-3977-41ad-8c91-28f92621bc10",
   "metadata": {},
   "source": [
    "Our exploratory visualizations reveal a few key findings. From figure 1, we see that out of all players, most are of 'Amateur' experience level. From Figure 2, we see that 'Regular' players have the highest mean played hours, while 'Amateur' players have the second highest mean played hours. This is explained by Figure 3, which shows that there are a few outliers who have extremely high played hours, which skews the mean. \n",
    "\n",
    "#### Expected Results\n",
    "From this exploratory analysis, we anticipate that our model will best predict \"Amateaur\" players, meaning that amateurs are the 'kind of player' that contributes most to our data. "
   ]
  },
  {
   "cell_type": "markdown",
   "id": "ad9dab53-15cb-4491-8850-8c22e3b98f96",
   "metadata": {},
   "source": [
    "### Data Analysis"
   ]
  },
  {
   "cell_type": "markdown",
   "id": "1b97042d-0738-410f-bc57-a9536dbb0693",
   "metadata": {},
   "source": [
    "### Model 1"
   ]
  },
  {
   "cell_type": "markdown",
   "id": "3fd0366d-06e4-4e73-ba54-3e6d7936837d",
   "metadata": {},
   "source": [
    "#### Data Splitting and Preprocessing\n",
    "The dataset was split into a training set (75%) and a test set (25%) using stratified sampling to preserve the proportional distribution of experience categories across both sets. For preprocessing, we standardized the predictor variables, **age** and **played_hours**, ensuring they have a mean of 0 and a standard deviation of 1."
   ]
  },
  {
   "cell_type": "code",
   "execution_count": 10,
   "id": "5a00da26-d341-41f7-9180-29450016ca17",
   "metadata": {},
   "outputs": [],
   "source": [
    "# Data Splitting \n",
    "players_train, players_test = train_test_split(\n",
    "    players_wrangled, test_size=0.25, stratify = players_wrangled[\"experience\"], random_state = 123)\n",
    "\n",
    "\n",
    "# Preprocessor Setup\n",
    "players_preprocessor = make_column_transformer(\n",
    "    (StandardScaler(), [\"age\", \"played_hours\"]),\n",
    "    verbose_feature_names_out=False\n",
    ")"
   ]
  },
  {
   "cell_type": "markdown",
   "id": "a129e6a0-99a4-47b1-bd10-ef3d4615e967",
   "metadata": {},
   "source": [
    "#### Defining Predictors and Targets\n",
    "We defined the predictor variables (X) and target variable (y) for both training and testing sets:"
   ]
  },
  {
   "cell_type": "code",
   "execution_count": 11,
   "id": "a2373a31-73b5-4074-af0f-fc8b26f1b673",
   "metadata": {},
   "outputs": [],
   "source": [
    "# create X_train and y_train; X_test and y_test\n",
    "X_train = players_train[[\"age\", \"played_hours\"]]\n",
    "y_train = players_train[\"experience\"]\n",
    "\n",
    "X_test = players_test[[\"age\", \"played_hours\"]]\n",
    "y_test = players_test[\"experience\"]"
   ]
  },
  {
   "cell_type": "markdown",
   "id": "94a2fdcc-88bb-4698-813b-9685e96faba7",
   "metadata": {},
   "source": [
    "#### Initializing the KNN Classifier and Creating a Pipeline \n",
    "A K-Nearest Neighbors (KNN) classifier was initialized without a predefined K value. This decision allowed us to explore a wide range of potential K values during the tuning process, ensuring that the most optimal value would be selected\n",
    "\n",
    "##### We constructed a pipeline combining the preprocessing step with the KNN classifier."
   ]
  },
  {
   "cell_type": "code",
   "execution_count": 12,
   "id": "a9923faf-c887-462f-8dff-5821dea9c481",
   "metadata": {},
   "outputs": [],
   "source": [
    "# Initialize KNN classifier\n",
    "knn = KNeighborsClassifier()\n",
    "\n",
    "\n",
    "# Create a pipeline with preprocessing and KNN classifier\n",
    "players_tune_pipe = make_pipeline(players_preprocessor, knn)"
   ]
  },
  {
   "cell_type": "markdown",
   "id": "ebf64e40-e73c-41f8-960a-329fdbbd084f",
   "metadata": {},
   "source": [
    "#### Defining the Hyperparameter Grid\n",
    "A parameter grid was defined for hyperparameter tuning, specifying a range of **K values (1 to 99)** for the number of neighbors in the KNN classifier."
   ]
  },
  {
   "cell_type": "code",
   "execution_count": 13,
   "id": "58493db4-4ab1-4c78-8522-b4e9fcb793c9",
   "metadata": {},
   "outputs": [],
   "source": [
    "# Define the parameter grid for tuning KNN hyperparameters\n",
    "param_grid = {\n",
    "    \"kneighborsclassifier__n_neighbors\": range(1, 100, 1),\n",
    "}\n"
   ]
  },
  {
   "cell_type": "markdown",
   "id": "03cb943a-59bb-48a1-9a5c-381fdfc9481d",
   "metadata": {},
   "source": [
    "#### Setting Up Cross-Validation and Fitting the Model\n",
    "We employed GridSearchCV with **5-fold cross-validation** to systematically explore the parameter grid and identify the optimal K value. The GridSearchCV model was fit to the training data, and the results of the cross-validation process were stored in a DataFrame. \n"
   ]
  },
  {
   "cell_type": "code",
   "execution_count": 14,
   "id": "9d00356d-2f6c-41b9-8cfd-f09609c8e2da",
   "metadata": {},
   "outputs": [
    {
     "name": "stderr",
     "output_type": "stream",
     "text": [
      "/opt/conda/lib/python3.11/site-packages/numpy/ma/core.py:2846: RuntimeWarning: invalid value encountered in cast\n",
      "  _data = np.array(data, dtype=dtype, copy=copy,\n"
     ]
    }
   ],
   "source": [
    "# Initialize GridSearchCV for cross validation \n",
    "players_tune_grid = GridSearchCV(\n",
    "    estimator=players_tune_pipe,         # Pipeline  \n",
    "    param_grid=param_grid,               # Parameter grid for tuning\n",
    "    cv=5                                 # 5-fold cross-validation\n",
    ")\n",
    "\n",
    "\n",
    "# Fit the GridSearchCV model to the training data\n",
    "players_tune_grid.fit(X_train, y_train)\n",
    "\n",
    "\n",
    "# Store the cross-validation results in a DataFrame for analysis\n",
    "accuracies_grid = pd.DataFrame(players_tune_grid.cv_results_)\n",
    "\n",
    "\n",
    "# Select relevant columns and rename them for clarity\n",
    "accuracies_grid = (\n",
    "    accuracies_grid[[\n",
    "        \"param_kneighborsclassifier__n_neighbors\",\n",
    "        \"mean_test_score\"\n",
    "    ]]\n",
    "    .rename(columns={\"param_kneighborsclassifier__n_neighbors\": \"n_neighbors\"})\n",
    ")"
   ]
  },
  {
   "cell_type": "markdown",
   "id": "93e2958d-19aa-49c0-ad23-1b38434df50e",
   "metadata": {},
   "source": [
    "#### Identifying the Best K Value\n",
    "We created a line plot to visualize the relationship between the number of neighbors (n_neighbors) and the corresponding accuracy estimates (mean_test_score). Accuracy peaks at 41, meaning this is the best-performing K value. Using the results from the GridSearchCV, the best-performing K value was confirmed to be K = 41, which yielded the highest accuracy based on cross-validation."
   ]
  },
  {
   "cell_type": "code",
   "execution_count": 15,
   "id": "71b13b6d-4ff4-4993-b4e7-43516c87a01e",
   "metadata": {},
   "outputs": [
    {
     "data": {
      "text/html": [
       "\n",
       "<style>\n",
       "  #altair-viz-980601648c014c1f9442165305d244bf.vega-embed {\n",
       "    width: 100%;\n",
       "    display: flex;\n",
       "  }\n",
       "\n",
       "  #altair-viz-980601648c014c1f9442165305d244bf.vega-embed details,\n",
       "  #altair-viz-980601648c014c1f9442165305d244bf.vega-embed details summary {\n",
       "    position: relative;\n",
       "  }\n",
       "</style>\n",
       "<div id=\"altair-viz-980601648c014c1f9442165305d244bf\"></div>\n",
       "<script type=\"text/javascript\">\n",
       "  var VEGA_DEBUG = (typeof VEGA_DEBUG == \"undefined\") ? {} : VEGA_DEBUG;\n",
       "  (function(spec, embedOpt){\n",
       "    let outputDiv = document.currentScript.previousElementSibling;\n",
       "    if (outputDiv.id !== \"altair-viz-980601648c014c1f9442165305d244bf\") {\n",
       "      outputDiv = document.getElementById(\"altair-viz-980601648c014c1f9442165305d244bf\");\n",
       "    }\n",
       "    const paths = {\n",
       "      \"vega\": \"https://cdn.jsdelivr.net/npm/vega@5?noext\",\n",
       "      \"vega-lib\": \"https://cdn.jsdelivr.net/npm/vega-lib?noext\",\n",
       "      \"vega-lite\": \"https://cdn.jsdelivr.net/npm/vega-lite@5.20.1?noext\",\n",
       "      \"vega-embed\": \"https://cdn.jsdelivr.net/npm/vega-embed@6?noext\",\n",
       "    };\n",
       "\n",
       "    function maybeLoadScript(lib, version) {\n",
       "      var key = `${lib.replace(\"-\", \"\")}_version`;\n",
       "      return (VEGA_DEBUG[key] == version) ?\n",
       "        Promise.resolve(paths[lib]) :\n",
       "        new Promise(function(resolve, reject) {\n",
       "          var s = document.createElement('script');\n",
       "          document.getElementsByTagName(\"head\")[0].appendChild(s);\n",
       "          s.async = true;\n",
       "          s.onload = () => {\n",
       "            VEGA_DEBUG[key] = version;\n",
       "            return resolve(paths[lib]);\n",
       "          };\n",
       "          s.onerror = () => reject(`Error loading script: ${paths[lib]}`);\n",
       "          s.src = paths[lib];\n",
       "        });\n",
       "    }\n",
       "\n",
       "    function showError(err) {\n",
       "      outputDiv.innerHTML = `<div class=\"error\" style=\"color:red;\">${err}</div>`;\n",
       "      throw err;\n",
       "    }\n",
       "\n",
       "    function displayChart(vegaEmbed) {\n",
       "      vegaEmbed(outputDiv, spec, embedOpt)\n",
       "        .catch(err => showError(`Javascript Error: ${err.message}<br>This usually means there's a typo in your chart specification. See the javascript console for the full traceback.`));\n",
       "    }\n",
       "\n",
       "    if(typeof define === \"function\" && define.amd) {\n",
       "      requirejs.config({paths});\n",
       "      require([\"vega-embed\"], displayChart, err => showError(`Error loading script: ${err.message}`));\n",
       "    } else {\n",
       "      maybeLoadScript(\"vega\", \"5\")\n",
       "        .then(() => maybeLoadScript(\"vega-lite\", \"5.20.1\"))\n",
       "        .then(() => maybeLoadScript(\"vega-embed\", \"6\"))\n",
       "        .catch(showError)\n",
       "        .then(() => displayChart(vegaEmbed));\n",
       "    }\n",
       "  })({\"$schema\": \"https://vega.github.io/schema/vega/v5.json\", \"data\": [{\"name\": \"source_0\", \"values\": [{\"mean_test_score\": 0.21770114942528734, \"n_neighbors\": 1}, {\"mean_test_score\": 0.27954022988505745, \"n_neighbors\": 2}, {\"mean_test_score\": 0.27264367816091956, \"n_neighbors\": 3}, {\"mean_test_score\": 0.28, \"n_neighbors\": 4}, {\"mean_test_score\": 0.2793103448275862, \"n_neighbors\": 5}, {\"mean_test_score\": 0.2659770114942529, \"n_neighbors\": 6}, {\"mean_test_score\": 0.26574712643678167, \"n_neighbors\": 7}, {\"mean_test_score\": 0.26482758620689656, \"n_neighbors\": 8}, {\"mean_test_score\": 0.27264367816091956, \"n_neighbors\": 9}, {\"mean_test_score\": 0.2519540229885058, \"n_neighbors\": 10}, {\"mean_test_score\": 0.252183908045977, \"n_neighbors\": 11}, {\"mean_test_score\": 0.27264367816091956, \"n_neighbors\": 12}, {\"mean_test_score\": 0.23862068965517244, \"n_neighbors\": 13}, {\"mean_test_score\": 0.27218390804597703, \"n_neighbors\": 14}, {\"mean_test_score\": 0.2655172413793104, \"n_neighbors\": 15}, {\"mean_test_score\": 0.2514942528735632, \"n_neighbors\": 16}, {\"mean_test_score\": 0.2717241379310345, \"n_neighbors\": 17}, {\"mean_test_score\": 0.27885057471264363, \"n_neighbors\": 18}, {\"mean_test_score\": 0.30574712643678165, \"n_neighbors\": 19}, {\"mean_test_score\": 0.29241379310344834, \"n_neighbors\": 20}, {\"mean_test_score\": 0.2993103448275862, \"n_neighbors\": 21}, {\"mean_test_score\": 0.28597701149425286, \"n_neighbors\": 22}, {\"mean_test_score\": 0.29954022988505746, \"n_neighbors\": 23}, {\"mean_test_score\": 0.28597701149425286, \"n_neighbors\": 24}, {\"mean_test_score\": 0.26574712643678156, \"n_neighbors\": 25}, {\"mean_test_score\": 0.29287356321839086, \"n_neighbors\": 26}, {\"mean_test_score\": 0.2793103448275862, \"n_neighbors\": 27}, {\"mean_test_score\": 0.2793103448275862, \"n_neighbors\": 28}, {\"mean_test_score\": 0.28597701149425286, \"n_neighbors\": 29}, {\"mean_test_score\": 0.31333333333333335, \"n_neighbors\": 30}, {\"mean_test_score\": 0.2864367816091954, \"n_neighbors\": 31}, {\"mean_test_score\": 0.3062068965517241, \"n_neighbors\": 32}, {\"mean_test_score\": 0.29977011494252875, \"n_neighbors\": 33}, {\"mean_test_score\": 0.313103448275862, \"n_neighbors\": 34}, {\"mean_test_score\": 0.3202298850574713, \"n_neighbors\": 35}, {\"mean_test_score\": 0.31999999999999995, \"n_neighbors\": 36}, {\"mean_test_score\": 0.31333333333333335, \"n_neighbors\": 37}, {\"mean_test_score\": 0.3268965517241379, \"n_neighbors\": 38}, {\"mean_test_score\": 0.31333333333333335, \"n_neighbors\": 39}, {\"mean_test_score\": 0.3202298850574713, \"n_neighbors\": 40}, {\"mean_test_score\": 0.33379310344827584, \"n_neighbors\": 41}, {\"mean_test_score\": 0.3268965517241379, \"n_neighbors\": 42}, {\"mean_test_score\": 0.3268965517241379, \"n_neighbors\": 43}, {\"mean_test_score\": 0.313103448275862, \"n_neighbors\": 44}, {\"mean_test_score\": 0.313103448275862, \"n_neighbors\": 45}, {\"mean_test_score\": 0.313103448275862, \"n_neighbors\": 46}, {\"mean_test_score\": 0.3062068965517241, \"n_neighbors\": 47}, {\"mean_test_score\": 0.3062068965517241, \"n_neighbors\": 48}, {\"mean_test_score\": 0.2993103448275862, \"n_neighbors\": 49}, {\"mean_test_score\": 0.31310344827586206, \"n_neighbors\": 50}, {\"mean_test_score\": 0.313103448275862, \"n_neighbors\": 51}, {\"mean_test_score\": 0.31999999999999995, \"n_neighbors\": 52}, {\"mean_test_score\": 0.313103448275862, \"n_neighbors\": 53}, {\"mean_test_score\": 0.31999999999999995, \"n_neighbors\": 54}, {\"mean_test_score\": 0.313103448275862, \"n_neighbors\": 55}, {\"mean_test_score\": 0.313103448275862, \"n_neighbors\": 56}, {\"mean_test_score\": 0.29954022988505746, \"n_neighbors\": 57}, {\"mean_test_score\": 0.31310344827586206, \"n_neighbors\": 58}, {\"mean_test_score\": 0.32666666666666666, \"n_neighbors\": 59}, {\"mean_test_score\": 0.31977011494252877, \"n_neighbors\": 60}, {\"mean_test_score\": 0.3264367816091954, \"n_neighbors\": 61}, {\"mean_test_score\": 0.3126436781609196, \"n_neighbors\": 62}, {\"mean_test_score\": 0.32666666666666666, \"n_neighbors\": 63}, {\"mean_test_score\": 0.3197701149425287, \"n_neighbors\": 64}, {\"mean_test_score\": 0.32666666666666666, \"n_neighbors\": 65}, {\"mean_test_score\": 0.3197701149425287, \"n_neighbors\": 66}, {\"mean_test_score\": 0.31287356321839077, \"n_neighbors\": 67}, {\"mean_test_score\": 0.31287356321839077, \"n_neighbors\": 68}, {\"mean_test_score\": 0.31287356321839077, \"n_neighbors\": 69}, {\"mean_test_score\": 0.3059770114942529, \"n_neighbors\": 70}, {\"mean_test_score\": 0.299080459770115, \"n_neighbors\": 71}, {\"mean_test_score\": 0.31287356321839077, \"n_neighbors\": 72}, {\"mean_test_score\": 0.31287356321839077, \"n_neighbors\": 73}, {\"mean_test_score\": 0.31287356321839077, \"n_neighbors\": 74}, {\"mean_test_score\": 0.31287356321839077, \"n_neighbors\": 75}, {\"mean_test_score\": 0.3197701149425287, \"n_neighbors\": 76}, {\"mean_test_score\": 0.3197701149425287, \"n_neighbors\": 77}, {\"mean_test_score\": 0.3197701149425287, \"n_neighbors\": 78}, {\"mean_test_score\": 0.3197701149425287, \"n_neighbors\": 79}, {\"mean_test_score\": 0.31287356321839077, \"n_neighbors\": 80}, {\"mean_test_score\": 0.3197701149425287, \"n_neighbors\": 81}, {\"mean_test_score\": 0.3197701149425287, \"n_neighbors\": 82}, {\"mean_test_score\": 0.3197701149425287, \"n_neighbors\": 83}, {\"mean_test_score\": 0.3197701149425287, \"n_neighbors\": 84}, {\"mean_test_score\": 0.3197701149425287, \"n_neighbors\": 85}, {\"mean_test_score\": 0.3197701149425287, \"n_neighbors\": 86}, {\"mean_test_score\": 0.3197701149425287, \"n_neighbors\": 87}, {\"mean_test_score\": 0.3197701149425287, \"n_neighbors\": 88}, {\"mean_test_score\": 0.3197701149425287, \"n_neighbors\": 89}, {\"mean_test_score\": 0.3197701149425287, \"n_neighbors\": 90}, {\"mean_test_score\": 0.3197701149425287, \"n_neighbors\": 91}, {\"mean_test_score\": 0.3197701149425287, \"n_neighbors\": 92}, {\"mean_test_score\": 0.3197701149425287, \"n_neighbors\": 93}, {\"mean_test_score\": 0.3197701149425287, \"n_neighbors\": 94}, {\"mean_test_score\": 0.3197701149425287, \"n_neighbors\": 95}, {\"mean_test_score\": 0.3197701149425287, \"n_neighbors\": 96}, {\"mean_test_score\": 0.3197701149425287, \"n_neighbors\": 97}, {\"mean_test_score\": 0.3197701149425287, \"n_neighbors\": 98}, {\"mean_test_score\": 0.3197701149425287, \"n_neighbors\": 99}]}, {\"name\": \"data_0\", \"values\": [{\"mean_test_score\": 0.21770114942528734, \"n_neighbors\": 1}, {\"mean_test_score\": 0.27954022988505745, \"n_neighbors\": 2}, {\"mean_test_score\": 0.27264367816091956, \"n_neighbors\": 3}, {\"mean_test_score\": 0.28, \"n_neighbors\": 4}, {\"mean_test_score\": 0.2793103448275862, \"n_neighbors\": 5}, {\"mean_test_score\": 0.2659770114942529, \"n_neighbors\": 6}, {\"mean_test_score\": 0.26574712643678167, \"n_neighbors\": 7}, {\"mean_test_score\": 0.26482758620689656, \"n_neighbors\": 8}, {\"mean_test_score\": 0.27264367816091956, \"n_neighbors\": 9}, {\"mean_test_score\": 0.2519540229885058, \"n_neighbors\": 10}, {\"mean_test_score\": 0.252183908045977, \"n_neighbors\": 11}, {\"mean_test_score\": 0.27264367816091956, \"n_neighbors\": 12}, {\"mean_test_score\": 0.23862068965517244, \"n_neighbors\": 13}, {\"mean_test_score\": 0.27218390804597703, \"n_neighbors\": 14}, {\"mean_test_score\": 0.2655172413793104, \"n_neighbors\": 15}, {\"mean_test_score\": 0.2514942528735632, \"n_neighbors\": 16}, {\"mean_test_score\": 0.2717241379310345, \"n_neighbors\": 17}, {\"mean_test_score\": 0.27885057471264363, \"n_neighbors\": 18}, {\"mean_test_score\": 0.30574712643678165, \"n_neighbors\": 19}, {\"mean_test_score\": 0.29241379310344834, \"n_neighbors\": 20}, {\"mean_test_score\": 0.2993103448275862, \"n_neighbors\": 21}, {\"mean_test_score\": 0.28597701149425286, \"n_neighbors\": 22}, {\"mean_test_score\": 0.29954022988505746, \"n_neighbors\": 23}, {\"mean_test_score\": 0.28597701149425286, \"n_neighbors\": 24}, {\"mean_test_score\": 0.26574712643678156, \"n_neighbors\": 25}, {\"mean_test_score\": 0.29287356321839086, \"n_neighbors\": 26}, {\"mean_test_score\": 0.2793103448275862, \"n_neighbors\": 27}, {\"mean_test_score\": 0.2793103448275862, \"n_neighbors\": 28}, {\"mean_test_score\": 0.28597701149425286, \"n_neighbors\": 29}, {\"mean_test_score\": 0.31333333333333335, \"n_neighbors\": 30}, {\"mean_test_score\": 0.2864367816091954, \"n_neighbors\": 31}, {\"mean_test_score\": 0.3062068965517241, \"n_neighbors\": 32}, {\"mean_test_score\": 0.29977011494252875, \"n_neighbors\": 33}, {\"mean_test_score\": 0.313103448275862, \"n_neighbors\": 34}, {\"mean_test_score\": 0.3202298850574713, \"n_neighbors\": 35}, {\"mean_test_score\": 0.31999999999999995, \"n_neighbors\": 36}, {\"mean_test_score\": 0.31333333333333335, \"n_neighbors\": 37}, {\"mean_test_score\": 0.3268965517241379, \"n_neighbors\": 38}, {\"mean_test_score\": 0.31333333333333335, \"n_neighbors\": 39}, {\"mean_test_score\": 0.3202298850574713, \"n_neighbors\": 40}, {\"mean_test_score\": 0.33379310344827584, \"n_neighbors\": 41}, {\"mean_test_score\": 0.3268965517241379, \"n_neighbors\": 42}, {\"mean_test_score\": 0.3268965517241379, \"n_neighbors\": 43}, {\"mean_test_score\": 0.313103448275862, \"n_neighbors\": 44}, {\"mean_test_score\": 0.313103448275862, \"n_neighbors\": 45}, {\"mean_test_score\": 0.313103448275862, \"n_neighbors\": 46}, {\"mean_test_score\": 0.3062068965517241, \"n_neighbors\": 47}, {\"mean_test_score\": 0.3062068965517241, \"n_neighbors\": 48}, {\"mean_test_score\": 0.2993103448275862, \"n_neighbors\": 49}, {\"mean_test_score\": 0.31310344827586206, \"n_neighbors\": 50}, {\"mean_test_score\": 0.313103448275862, \"n_neighbors\": 51}, {\"mean_test_score\": 0.31999999999999995, \"n_neighbors\": 52}, {\"mean_test_score\": 0.313103448275862, \"n_neighbors\": 53}, {\"mean_test_score\": 0.31999999999999995, \"n_neighbors\": 54}, {\"mean_test_score\": 0.313103448275862, \"n_neighbors\": 55}, {\"mean_test_score\": 0.313103448275862, \"n_neighbors\": 56}, {\"mean_test_score\": 0.29954022988505746, \"n_neighbors\": 57}, {\"mean_test_score\": 0.31310344827586206, \"n_neighbors\": 58}, {\"mean_test_score\": 0.32666666666666666, \"n_neighbors\": 59}, {\"mean_test_score\": 0.31977011494252877, \"n_neighbors\": 60}, {\"mean_test_score\": 0.3264367816091954, \"n_neighbors\": 61}, {\"mean_test_score\": 0.3126436781609196, \"n_neighbors\": 62}, {\"mean_test_score\": 0.32666666666666666, \"n_neighbors\": 63}, {\"mean_test_score\": 0.3197701149425287, \"n_neighbors\": 64}, {\"mean_test_score\": 0.32666666666666666, \"n_neighbors\": 65}, {\"mean_test_score\": 0.3197701149425287, \"n_neighbors\": 66}, {\"mean_test_score\": 0.31287356321839077, \"n_neighbors\": 67}, {\"mean_test_score\": 0.31287356321839077, \"n_neighbors\": 68}, {\"mean_test_score\": 0.31287356321839077, \"n_neighbors\": 69}, {\"mean_test_score\": 0.3059770114942529, \"n_neighbors\": 70}, {\"mean_test_score\": 0.299080459770115, \"n_neighbors\": 71}, {\"mean_test_score\": 0.31287356321839077, \"n_neighbors\": 72}, {\"mean_test_score\": 0.31287356321839077, \"n_neighbors\": 73}, {\"mean_test_score\": 0.31287356321839077, \"n_neighbors\": 74}, {\"mean_test_score\": 0.31287356321839077, \"n_neighbors\": 75}, {\"mean_test_score\": 0.3197701149425287, \"n_neighbors\": 76}, {\"mean_test_score\": 0.3197701149425287, \"n_neighbors\": 77}, {\"mean_test_score\": 0.3197701149425287, \"n_neighbors\": 78}, {\"mean_test_score\": 0.3197701149425287, \"n_neighbors\": 79}, {\"mean_test_score\": 0.31287356321839077, \"n_neighbors\": 80}, {\"mean_test_score\": 0.3197701149425287, \"n_neighbors\": 81}, {\"mean_test_score\": 0.3197701149425287, \"n_neighbors\": 82}, {\"mean_test_score\": 0.3197701149425287, \"n_neighbors\": 83}, {\"mean_test_score\": 0.3197701149425287, \"n_neighbors\": 84}, {\"mean_test_score\": 0.3197701149425287, \"n_neighbors\": 85}, {\"mean_test_score\": 0.3197701149425287, \"n_neighbors\": 86}, {\"mean_test_score\": 0.3197701149425287, \"n_neighbors\": 87}, {\"mean_test_score\": 0.3197701149425287, \"n_neighbors\": 88}, {\"mean_test_score\": 0.3197701149425287, \"n_neighbors\": 89}, {\"mean_test_score\": 0.3197701149425287, \"n_neighbors\": 90}, {\"mean_test_score\": 0.3197701149425287, \"n_neighbors\": 91}, {\"mean_test_score\": 0.3197701149425287, \"n_neighbors\": 92}, {\"mean_test_score\": 0.3197701149425287, \"n_neighbors\": 93}, {\"mean_test_score\": 0.3197701149425287, \"n_neighbors\": 94}, {\"mean_test_score\": 0.3197701149425287, \"n_neighbors\": 95}, {\"mean_test_score\": 0.3197701149425287, \"n_neighbors\": 96}, {\"mean_test_score\": 0.3197701149425287, \"n_neighbors\": 97}, {\"mean_test_score\": 0.3197701149425287, \"n_neighbors\": 98}, {\"mean_test_score\": 0.3197701149425287, \"n_neighbors\": 99}]}], \"marks\": [{\"type\": \"line\", \"name\": \"layer_0_marks\", \"from\": {\"data\": \"source_0\"}, \"sort\": {\"field\": \"x\"}, \"encode\": {\"update\": {\"x\": {\"field\": \"n_neighbors\", \"scale\": \"x\"}, \"y\": {\"field\": \"mean_test_score\", \"scale\": \"y\"}, \"stroke\": {\"value\": \"#4c78a8\"}, \"defined\": {\"signal\": \"isValid(datum[\\\"n_neighbors\\\"]) && isFinite(+datum[\\\"n_neighbors\\\"]) && isValid(datum[\\\"mean_test_score\\\"]) && isFinite(+datum[\\\"mean_test_score\\\"])\"}}}, \"style\": [\"line\"]}, {\"type\": \"symbol\", \"name\": \"layer_1_marks\", \"from\": {\"data\": \"data_0\"}, \"encode\": {\"update\": {\"opacity\": {\"value\": 1}, \"fill\": {\"value\": \"#4c78a8\"}, \"x\": {\"field\": \"n_neighbors\", \"scale\": \"x\"}, \"y\": {\"field\": \"mean_test_score\", \"scale\": \"y\"}}}, \"style\": [\"point\"]}], \"scales\": [{\"name\": \"x\", \"type\": \"linear\", \"domain\": {\"fields\": [{\"data\": \"source_0\", \"field\": \"n_neighbors\"}, {\"data\": \"data_0\", \"field\": \"n_neighbors\"}]}, \"range\": [0, {\"signal\": \"width\"}], \"nice\": true, \"zero\": false}, {\"name\": \"y\", \"type\": \"linear\", \"domain\": {\"fields\": [{\"data\": \"source_0\", \"field\": \"mean_test_score\"}, {\"data\": \"data_0\", \"field\": \"mean_test_score\"}]}, \"range\": [{\"signal\": \"height\"}, 0], \"zero\": false, \"nice\": true}], \"axes\": [{\"scale\": \"x\", \"maxExtent\": 0, \"minExtent\": 0, \"zindex\": 0, \"gridScale\": \"y\", \"grid\": true, \"tickCount\": {\"signal\": \"ceil(width/40)\"}, \"aria\": false, \"domain\": false, \"labels\": false, \"ticks\": false, \"orient\": \"bottom\"}, {\"scale\": \"y\", \"gridScale\": \"x\", \"maxExtent\": 0, \"tickCount\": {\"signal\": \"ceil(height/40)\"}, \"minExtent\": 0, \"ticks\": false, \"zindex\": 0, \"domain\": false, \"grid\": true, \"orient\": \"left\", \"labels\": false, \"aria\": false}, {\"scale\": \"x\", \"title\": \"Neighbors\", \"orient\": \"bottom\", \"labelOverlap\": true, \"grid\": false, \"tickCount\": {\"signal\": \"ceil(width/40)\"}, \"labelFlush\": true, \"zindex\": 0}, {\"scale\": \"y\", \"grid\": false, \"orient\": \"left\", \"tickCount\": {\"signal\": \"ceil(height/40)\"}, \"zindex\": 0, \"labelOverlap\": true, \"title\": \"Accuracy estimate\"}], \"title\": {\"text\": \"Neighbors vs. Accuracy Estimate\", \"frame\": \"group\"}, \"height\": 300, \"background\": \"white\", \"style\": \"cell\", \"width\": 300, \"padding\": 5}, {\"mode\": \"vega\"});\n",
       "</script>"
      ],
      "text/plain": [
       "alt.Chart(...)"
      ]
     },
     "execution_count": 15,
     "metadata": {},
     "output_type": "execute_result"
    }
   ],
   "source": [
    "# Create a line plot to visualize the accuracy vs. number of neighbors\n",
    "accuracy_vs_k = alt.Chart(accuracies_grid).mark_line(point=True).encode(\n",
    "    x=alt.X(\"n_neighbors\").title(\"Neighbors\"),\n",
    "    y=alt.Y(\"mean_test_score\")\n",
    "        .scale(zero=False)\n",
    "        .title(\"Accuracy estimate\")\n",
    ").properties(\n",
    "    title=\"Neighbors vs. Accuracy Estimate\"\n",
    ")\n",
    "\n",
    "accuracy_vs_k"
   ]
  },
  {
   "cell_type": "markdown",
   "id": "875ba25d-4438-4737-8a9d-93f374b6214a",
   "metadata": {},
   "source": [
    "**Figure 4: Line Plot comparing the accuracy estimate vs the number of neighbors**"
   ]
  },
  {
   "cell_type": "code",
   "execution_count": 16,
   "id": "c31d0227-fc2c-4d38-b86d-9b10f2cd3b31",
   "metadata": {},
   "outputs": [
    {
     "data": {
      "text/plain": [
       "{'kneighborsclassifier__n_neighbors': 41}"
      ]
     },
     "execution_count": 16,
     "metadata": {},
     "output_type": "execute_result"
    }
   ],
   "source": [
    "# Display the best parameter (K = 41)\n",
    "players_tune_grid.best_params_"
   ]
  },
  {
   "cell_type": "markdown",
   "id": "782a8ceb-d764-42a7-a098-b9a98567e95e",
   "metadata": {},
   "source": [
    "#### Adding Predicted Experience Levels to the Test Set\n",
    "Using the trained GridSearchCV model, we predicted the experience levels for the test set based on the features age and played_hours."
   ]
  },
  {
   "cell_type": "code",
   "execution_count": 17,
   "id": "33ec5e10-90ea-487d-8fe1-1493a71760d0",
   "metadata": {},
   "outputs": [
    {
     "data": {
      "text/html": [
       "<div>\n",
       "<style scoped>\n",
       "    .dataframe tbody tr th:only-of-type {\n",
       "        vertical-align: middle;\n",
       "    }\n",
       "\n",
       "    .dataframe tbody tr th {\n",
       "        vertical-align: top;\n",
       "    }\n",
       "\n",
       "    .dataframe thead th {\n",
       "        text-align: right;\n",
       "    }\n",
       "</style>\n",
       "<table border=\"1\" class=\"dataframe\">\n",
       "  <thead>\n",
       "    <tr style=\"text-align: right;\">\n",
       "      <th></th>\n",
       "      <th>played_hours</th>\n",
       "      <th>age</th>\n",
       "      <th>squared_age</th>\n",
       "      <th>log_age</th>\n",
       "      <th>sin_age</th>\n",
       "      <th>experience</th>\n",
       "      <th>predicted</th>\n",
       "    </tr>\n",
       "  </thead>\n",
       "  <tbody>\n",
       "    <tr>\n",
       "      <th>104</th>\n",
       "      <td>0.0</td>\n",
       "      <td>26</td>\n",
       "      <td>676</td>\n",
       "      <td>3.258097</td>\n",
       "      <td>0.762558</td>\n",
       "      <td>Amateur</td>\n",
       "      <td>Amateur</td>\n",
       "    </tr>\n",
       "    <tr>\n",
       "      <th>44</th>\n",
       "      <td>2.2</td>\n",
       "      <td>24</td>\n",
       "      <td>576</td>\n",
       "      <td>3.178054</td>\n",
       "      <td>-0.905578</td>\n",
       "      <td>Veteran</td>\n",
       "      <td>Amateur</td>\n",
       "    </tr>\n",
       "    <tr>\n",
       "      <th>100</th>\n",
       "      <td>0.0</td>\n",
       "      <td>20</td>\n",
       "      <td>400</td>\n",
       "      <td>2.995732</td>\n",
       "      <td>0.912945</td>\n",
       "      <td>Amateur</td>\n",
       "      <td>Veteran</td>\n",
       "    </tr>\n",
       "    <tr>\n",
       "      <th>121</th>\n",
       "      <td>0.1</td>\n",
       "      <td>24</td>\n",
       "      <td>576</td>\n",
       "      <td>3.178054</td>\n",
       "      <td>-0.905578</td>\n",
       "      <td>Beginner</td>\n",
       "      <td>Amateur</td>\n",
       "    </tr>\n",
       "    <tr>\n",
       "      <th>49</th>\n",
       "      <td>0.4</td>\n",
       "      <td>22</td>\n",
       "      <td>484</td>\n",
       "      <td>3.091042</td>\n",
       "      <td>-0.008851</td>\n",
       "      <td>Beginner</td>\n",
       "      <td>Amateur</td>\n",
       "    </tr>\n",
       "  </tbody>\n",
       "</table>\n",
       "</div>"
      ],
      "text/plain": [
       "     played_hours  age  squared_age   log_age   sin_age experience predicted\n",
       "104           0.0   26          676  3.258097  0.762558    Amateur   Amateur\n",
       "44            2.2   24          576  3.178054 -0.905578    Veteran   Amateur\n",
       "100           0.0   20          400  2.995732  0.912945    Amateur   Veteran\n",
       "121           0.1   24          576  3.178054 -0.905578   Beginner   Amateur\n",
       "49            0.4   22          484  3.091042 -0.008851   Beginner   Amateur"
      ]
     },
     "execution_count": 17,
     "metadata": {},
     "output_type": "execute_result"
    }
   ],
   "source": [
    "# Use the model to add predicted experience on the test set\n",
    "players_test[\"predicted\"] = players_tune_grid.predict(\n",
    "    players_test[[\"age\", \"played_hours\"]]\n",
    ")\n",
    "\n",
    "players_test.head()"
   ]
  },
  {
   "cell_type": "markdown",
   "id": "bb9a4bca-3867-40ca-91d1-5ccaa9cd6098",
   "metadata": {},
   "source": [
    "#### Evaluating Model Accuracy on the Test Set \n",
    "\n",
    "The accuracy of the model was tested on the test data. The model achieved an accuracy of approximately 34.7%, indicating that the KNN classifier correctly predicted the experience levels for about one-third of the test cases"
   ]
  },
  {
   "cell_type": "code",
   "execution_count": 18,
   "id": "7bf8872b-3361-43be-9cc8-4018fe782e58",
   "metadata": {},
   "outputs": [
    {
     "data": {
      "text/plain": [
       "0.3469387755102041"
      ]
     },
     "execution_count": 18,
     "metadata": {},
     "output_type": "execute_result"
    }
   ],
   "source": [
    "# Evaluate the model's accuracy on the test set\n",
    "players_prediction_accuracy = players_tune_grid.score(X_test, y_test)\n",
    "\n",
    "players_prediction_accuracy"
   ]
  },
  {
   "cell_type": "markdown",
   "id": "1a775231-e139-407d-b666-abdd730f1750",
   "metadata": {},
   "source": [
    "#### Confusion Matrix\n",
    "A confusion matrix was then generated, comparing the actual experience levels  with the predicted levels for the test set."
   ]
  },
  {
   "cell_type": "code",
   "execution_count": 19,
   "id": "ebf7a0c6-308c-4d8a-82a2-65d5254335a3",
   "metadata": {},
   "outputs": [
    {
     "data": {
      "text/plain": [
       "<sklearn.metrics._plot.confusion_matrix.ConfusionMatrixDisplay at 0x7f70bc087750>"
      ]
     },
     "execution_count": 19,
     "metadata": {},
     "output_type": "execute_result"
    },
    {
     "data": {
      "image/png": "[encoded data removed]",
      "text/plain": [
       "<Figure size 640x480 with 2 Axes>"
      ]
     },
     "metadata": {},
     "output_type": "display_data"
    }
   ],
   "source": [
    "# Fit the pipeline on the training set\n",
    "players_tune_pipe.fit(X_train, y_train)\n",
    "\n",
    "# Generate and display the confusion matrix\n",
    "ConfusionMatrixDisplay.from_estimator(\n",
    "    players_tune_pipe,  # We are directly passing the pipeline and let sklearn do the predictions for us\n",
    "    X_test,\n",
    "    y_test\n",
    ")"
   ]
  },
  {
   "cell_type": "markdown",
   "id": "1ad50667-fbf2-4dd0-89eb-aa7c91224c3f",
   "metadata": {},
   "source": [
    "**Figure 5: Confusion matrix showing the performance of the classification model (model 1), with true labels and predicted labels**"
   ]
  },
  {
   "cell_type": "markdown",
   "id": "75f2eb54-dd0c-44ac-aba4-6fa317040b21",
   "metadata": {},
   "source": [
    "### Model 2"
   ]
  },
  {
   "cell_type": "markdown",
   "id": "cd26e800-5e2a-454f-a668-1f2816851c5d",
   "metadata": {},
   "source": [
    "Since Model 1 achieved a moderately low accuracy of **34.7%**, there is potential to improve the model's performance by incorporating additional features through **feature engineering**. One possible enhancement is adding squared age as a new predictor variable. This transformation could capture non-linear relationships between age and experience level, which may not be fully addressed by the original age and played_hours variables. \n",
    "\n",
    "##### The rest of the steps, including standardizing the predictors and tuning, will follow the same process as above, in Model 1, but with the new feature incorporated into the model. "
   ]
  },
  {
   "cell_type": "code",
   "execution_count": 20,
   "id": "5de508eb-e23e-4724-a648-4764cd54febd",
   "metadata": {},
   "outputs": [],
   "source": [
    "# Preprocessor Setup\n",
    "players_preprocessor2 = make_column_transformer(\n",
    "    (StandardScaler(), [\"age\", \"squared_age\", \"played_hours\"]),\n",
    "    verbose_feature_names_out=False\n",
    ")"
   ]
  },
  {
   "cell_type": "code",
   "execution_count": 21,
   "id": "bb8cbfcf-4a68-4559-a977-9a8b9196a829",
   "metadata": {},
   "outputs": [
    {
     "name": "stderr",
     "output_type": "stream",
     "text": [
      "/opt/conda/lib/python3.11/site-packages/numpy/ma/core.py:2846: RuntimeWarning: invalid value encountered in cast\n",
      "  _data = np.array(data, dtype=dtype, copy=copy,\n"
     ]
    }
   ],
   "source": [
    "# create X_train and y_train; X_test and y_test\n",
    "X_train2 = players_train[[\"age\", \"squared_age\", \"played_hours\"]]\n",
    "y_train2 = players_train[\"experience\"]\n",
    "\n",
    "X_test2 = players_test[[\"age\", \"squared_age\", \"played_hours\"]]\n",
    "y_test2 = players_test[\"experience\"]\n",
    "\n",
    "# Create a pipeline with preprocessing and KNN classifier\n",
    "players_tune_pipe2 = make_pipeline(players_preprocessor2, knn)\n",
    "\n",
    "# Initialize GridSearchCV for cross validation \n",
    "players_tune_grid2 = GridSearchCV(\n",
    "    estimator=players_tune_pipe2,         # Pipeline  \n",
    "    param_grid=param_grid,               # Parameter grid for tuning\n",
    "    cv=5                                 # 5-fold cross-validation\n",
    ")\n",
    "\n",
    "# Fit the GridSearchCV model to the training data\n",
    "players_tune_grid2.fit(X_train2, y_train2)\n",
    "\n",
    "# Store the cross-validation results in a DataFrame for analysis\n",
    "accuracies_grid2 = pd.DataFrame(players_tune_grid2.cv_results_)\n",
    "\n",
    "# Select relevant columns and rename them for clarity\n",
    "accuracies_grid2 = (\n",
    "    accuracies_grid2[[\n",
    "        \"param_kneighborsclassifier__n_neighbors\",\n",
    "        \"mean_test_score\"\n",
    "    ]]\n",
    "    .rename(columns={\"param_kneighborsclassifier__n_neighbors\": \"n_neighbors\"})\n",
    ")"
   ]
  },
  {
   "cell_type": "markdown",
   "id": "12f74b9c-9346-4412-80f2-9b3303857fba",
   "metadata": {},
   "source": [
    "#### Identifying the Best K Value\n",
    "We created a line plot to visualize the relationship between the number of neighbors (n_neighbors) and the corresponding accuracy estimates (mean_test_score). Similarly to our analysis for Model 1, accuracy peaks at 41, meaning this is the best performing K value. Using the results from the GridSearchCV, the best-performing K value was confirmed to be K = 41, which yielded the highest accuracy based on cross-validation."
   ]
  },
  {
   "cell_type": "code",
   "execution_count": 22,
   "id": "16da12a3-c9d4-48cd-b80a-f659cf6cc7d5",
   "metadata": {},
   "outputs": [
    {
     "data": {
      "text/html": [
       "\n",
       "<style>\n",
       "  #altair-viz-92b26782c53d454283ad14eda35b3825.vega-embed {\n",
       "    width: 100%;\n",
       "    display: flex;\n",
       "  }\n",
       "\n",
       "  #altair-viz-92b26782c53d454283ad14eda35b3825.vega-embed details,\n",
       "  #altair-viz-92b26782c53d454283ad14eda35b3825.vega-embed details summary {\n",
       "    position: relative;\n",
       "  }\n",
       "</style>\n",
       "<div id=\"altair-viz-92b26782c53d454283ad14eda35b3825\"></div>\n",
       "<script type=\"text/javascript\">\n",
       "  var VEGA_DEBUG = (typeof VEGA_DEBUG == \"undefined\") ? {} : VEGA_DEBUG;\n",
       "  (function(spec, embedOpt){\n",
       "    let outputDiv = document.currentScript.previousElementSibling;\n",
       "    if (outputDiv.id !== \"altair-viz-92b26782c53d454283ad14eda35b3825\") {\n",
       "      outputDiv = document.getElementById(\"altair-viz-92b26782c53d454283ad14eda35b3825\");\n",
       "    }\n",
       "    const paths = {\n",
       "      \"vega\": \"https://cdn.jsdelivr.net/npm/vega@5?noext\",\n",
       "      \"vega-lib\": \"https://cdn.jsdelivr.net/npm/vega-lib?noext\",\n",
       "      \"vega-lite\": \"https://cdn.jsdelivr.net/npm/vega-lite@5.20.1?noext\",\n",
       "      \"vega-embed\": \"https://cdn.jsdelivr.net/npm/vega-embed@6?noext\",\n",
       "    };\n",
       "\n",
       "    function maybeLoadScript(lib, version) {\n",
       "      var key = `${lib.replace(\"-\", \"\")}_version`;\n",
       "      return (VEGA_DEBUG[key] == version) ?\n",
       "        Promise.resolve(paths[lib]) :\n",
       "        new Promise(function(resolve, reject) {\n",
       "          var s = document.createElement('script');\n",
       "          document.getElementsByTagName(\"head\")[0].appendChild(s);\n",
       "          s.async = true;\n",
       "          s.onload = () => {\n",
       "            VEGA_DEBUG[key] = version;\n",
       "            return resolve(paths[lib]);\n",
       "          };\n",
       "          s.onerror = () => reject(`Error loading script: ${paths[lib]}`);\n",
       "          s.src = paths[lib];\n",
       "        });\n",
       "    }\n",
       "\n",
       "    function showError(err) {\n",
       "      outputDiv.innerHTML = `<div class=\"error\" style=\"color:red;\">${err}</div>`;\n",
       "      throw err;\n",
       "    }\n",
       "\n",
       "    function displayChart(vegaEmbed) {\n",
       "      vegaEmbed(outputDiv, spec, embedOpt)\n",
       "        .catch(err => showError(`Javascript Error: ${err.message}<br>This usually means there's a typo in your chart specification. See the javascript console for the full traceback.`));\n",
       "    }\n",
       "\n",
       "    if(typeof define === \"function\" && define.amd) {\n",
       "      requirejs.config({paths});\n",
       "      require([\"vega-embed\"], displayChart, err => showError(`Error loading script: ${err.message}`));\n",
       "    } else {\n",
       "      maybeLoadScript(\"vega\", \"5\")\n",
       "        .then(() => maybeLoadScript(\"vega-lite\", \"5.20.1\"))\n",
       "        .then(() => maybeLoadScript(\"vega-embed\", \"6\"))\n",
       "        .catch(showError)\n",
       "        .then(() => displayChart(vegaEmbed));\n",
       "    }\n",
       "  })({\"$schema\": \"https://vega.github.io/schema/vega/v5.json\", \"data\": [{\"name\": \"source_0\", \"values\": [{\"mean_test_score\": 0.2519540229885057, \"n_neighbors\": 1}, {\"mean_test_score\": 0.3064367816091954, \"n_neighbors\": 2}, {\"mean_test_score\": 0.2793103448275862, \"n_neighbors\": 3}, {\"mean_test_score\": 0.27954022988505745, \"n_neighbors\": 4}, {\"mean_test_score\": 0.2655172413793103, \"n_neighbors\": 5}, {\"mean_test_score\": 0.252183908045977, \"n_neighbors\": 6}, {\"mean_test_score\": 0.2793103448275862, \"n_neighbors\": 7}, {\"mean_test_score\": 0.2655172413793104, \"n_neighbors\": 8}, {\"mean_test_score\": 0.2524137931034483, \"n_neighbors\": 9}, {\"mean_test_score\": 0.26574712643678167, \"n_neighbors\": 10}, {\"mean_test_score\": 0.25908045977011496, \"n_neighbors\": 11}, {\"mean_test_score\": 0.292183908045977, \"n_neighbors\": 12}, {\"mean_test_score\": 0.2581609195402299, \"n_neighbors\": 13}, {\"mean_test_score\": 0.25839080459770114, \"n_neighbors\": 14}, {\"mean_test_score\": 0.26482758620689656, \"n_neighbors\": 15}, {\"mean_test_score\": 0.28597701149425286, \"n_neighbors\": 16}, {\"mean_test_score\": 0.24459770114942528, \"n_neighbors\": 17}, {\"mean_test_score\": 0.25839080459770114, \"n_neighbors\": 18}, {\"mean_test_score\": 0.27218390804597703, \"n_neighbors\": 19}, {\"mean_test_score\": 0.3131034482758621, \"n_neighbors\": 20}, {\"mean_test_score\": 0.28597701149425286, \"n_neighbors\": 21}, {\"mean_test_score\": 0.3064367816091954, \"n_neighbors\": 22}, {\"mean_test_score\": 0.3133333333333333, \"n_neighbors\": 23}, {\"mean_test_score\": 0.28597701149425286, \"n_neighbors\": 24}, {\"mean_test_score\": 0.2793103448275862, \"n_neighbors\": 25}, {\"mean_test_score\": 0.29287356321839086, \"n_neighbors\": 26}, {\"mean_test_score\": 0.2793103448275862, \"n_neighbors\": 27}, {\"mean_test_score\": 0.29954022988505746, \"n_neighbors\": 28}, {\"mean_test_score\": 0.31333333333333335, \"n_neighbors\": 29}, {\"mean_test_score\": 0.30666666666666664, \"n_neighbors\": 30}, {\"mean_test_score\": 0.3068965517241379, \"n_neighbors\": 31}, {\"mean_test_score\": 0.29977011494252875, \"n_neighbors\": 32}, {\"mean_test_score\": 0.30666666666666664, \"n_neighbors\": 33}, {\"mean_test_score\": 0.313103448275862, \"n_neighbors\": 34}, {\"mean_test_score\": 0.3268965517241379, \"n_neighbors\": 35}, {\"mean_test_score\": 0.31999999999999995, \"n_neighbors\": 36}, {\"mean_test_score\": 0.313103448275862, \"n_neighbors\": 37}, {\"mean_test_score\": 0.3268965517241379, \"n_neighbors\": 38}, {\"mean_test_score\": 0.3202298850574713, \"n_neighbors\": 39}, {\"mean_test_score\": 0.3271264367816092, \"n_neighbors\": 40}, {\"mean_test_score\": 0.33379310344827584, \"n_neighbors\": 41}, {\"mean_test_score\": 0.3268965517241379, \"n_neighbors\": 42}, {\"mean_test_score\": 0.3335632183908046, \"n_neighbors\": 43}, {\"mean_test_score\": 0.3335632183908046, \"n_neighbors\": 44}, {\"mean_test_score\": 0.31977011494252877, \"n_neighbors\": 45}, {\"mean_test_score\": 0.31977011494252877, \"n_neighbors\": 46}, {\"mean_test_score\": 0.31977011494252877, \"n_neighbors\": 47}, {\"mean_test_score\": 0.313103448275862, \"n_neighbors\": 48}, {\"mean_test_score\": 0.31977011494252877, \"n_neighbors\": 49}, {\"mean_test_score\": 0.3268965517241379, \"n_neighbors\": 50}, {\"mean_test_score\": 0.313103448275862, \"n_neighbors\": 51}, {\"mean_test_score\": 0.32666666666666666, \"n_neighbors\": 52}, {\"mean_test_score\": 0.313103448275862, \"n_neighbors\": 53}, {\"mean_test_score\": 0.31999999999999995, \"n_neighbors\": 54}, {\"mean_test_score\": 0.3064367816091954, \"n_neighbors\": 55}, {\"mean_test_score\": 0.2924137931034482, \"n_neighbors\": 56}, {\"mean_test_score\": 0.29954022988505746, \"n_neighbors\": 57}, {\"mean_test_score\": 0.31310344827586206, \"n_neighbors\": 58}, {\"mean_test_score\": 0.31999999999999995, \"n_neighbors\": 59}, {\"mean_test_score\": 0.31310344827586206, \"n_neighbors\": 60}, {\"mean_test_score\": 0.32666666666666666, \"n_neighbors\": 61}, {\"mean_test_score\": 0.3264367816091954, \"n_neighbors\": 62}, {\"mean_test_score\": 0.31287356321839077, \"n_neighbors\": 63}, {\"mean_test_score\": 0.3197701149425287, \"n_neighbors\": 64}, {\"mean_test_score\": 0.31287356321839077, \"n_neighbors\": 65}, {\"mean_test_score\": 0.3197701149425287, \"n_neighbors\": 66}, {\"mean_test_score\": 0.3197701149425287, \"n_neighbors\": 67}, {\"mean_test_score\": 0.3059770114942529, \"n_neighbors\": 68}, {\"mean_test_score\": 0.31287356321839077, \"n_neighbors\": 69}, {\"mean_test_score\": 0.29908045977011494, \"n_neighbors\": 70}, {\"mean_test_score\": 0.29218390804597705, \"n_neighbors\": 71}, {\"mean_test_score\": 0.3059770114942529, \"n_neighbors\": 72}, {\"mean_test_score\": 0.3059770114942529, \"n_neighbors\": 73}, {\"mean_test_score\": 0.3197701149425287, \"n_neighbors\": 74}, {\"mean_test_score\": 0.3059770114942529, \"n_neighbors\": 75}, {\"mean_test_score\": 0.31287356321839077, \"n_neighbors\": 76}, {\"mean_test_score\": 0.31287356321839077, \"n_neighbors\": 77}, {\"mean_test_score\": 0.3059770114942529, \"n_neighbors\": 78}, {\"mean_test_score\": 0.31287356321839077, \"n_neighbors\": 79}, {\"mean_test_score\": 0.3197701149425287, \"n_neighbors\": 80}, {\"mean_test_score\": 0.3197701149425287, \"n_neighbors\": 81}, {\"mean_test_score\": 0.3197701149425287, \"n_neighbors\": 82}, {\"mean_test_score\": 0.3197701149425287, \"n_neighbors\": 83}, {\"mean_test_score\": 0.3197701149425287, \"n_neighbors\": 84}, {\"mean_test_score\": 0.3197701149425287, \"n_neighbors\": 85}, {\"mean_test_score\": 0.3197701149425287, \"n_neighbors\": 86}, {\"mean_test_score\": 0.3197701149425287, \"n_neighbors\": 87}, {\"mean_test_score\": 0.3197701149425287, \"n_neighbors\": 88}, {\"mean_test_score\": 0.3197701149425287, \"n_neighbors\": 89}, {\"mean_test_score\": 0.3197701149425287, \"n_neighbors\": 90}, {\"mean_test_score\": 0.3197701149425287, \"n_neighbors\": 91}, {\"mean_test_score\": 0.3197701149425287, \"n_neighbors\": 92}, {\"mean_test_score\": 0.3197701149425287, \"n_neighbors\": 93}, {\"mean_test_score\": 0.3197701149425287, \"n_neighbors\": 94}, {\"mean_test_score\": 0.3197701149425287, \"n_neighbors\": 95}, {\"mean_test_score\": 0.3197701149425287, \"n_neighbors\": 96}, {\"mean_test_score\": 0.3197701149425287, \"n_neighbors\": 97}, {\"mean_test_score\": 0.3197701149425287, \"n_neighbors\": 98}, {\"mean_test_score\": 0.3197701149425287, \"n_neighbors\": 99}]}, {\"name\": \"data_0\", \"values\": [{\"mean_test_score\": 0.2519540229885057, \"n_neighbors\": 1}, {\"mean_test_score\": 0.3064367816091954, \"n_neighbors\": 2}, {\"mean_test_score\": 0.2793103448275862, \"n_neighbors\": 3}, {\"mean_test_score\": 0.27954022988505745, \"n_neighbors\": 4}, {\"mean_test_score\": 0.2655172413793103, \"n_neighbors\": 5}, {\"mean_test_score\": 0.252183908045977, \"n_neighbors\": 6}, {\"mean_test_score\": 0.2793103448275862, \"n_neighbors\": 7}, {\"mean_test_score\": 0.2655172413793104, \"n_neighbors\": 8}, {\"mean_test_score\": 0.2524137931034483, \"n_neighbors\": 9}, {\"mean_test_score\": 0.26574712643678167, \"n_neighbors\": 10}, {\"mean_test_score\": 0.25908045977011496, \"n_neighbors\": 11}, {\"mean_test_score\": 0.292183908045977, \"n_neighbors\": 12}, {\"mean_test_score\": 0.2581609195402299, \"n_neighbors\": 13}, {\"mean_test_score\": 0.25839080459770114, \"n_neighbors\": 14}, {\"mean_test_score\": 0.26482758620689656, \"n_neighbors\": 15}, {\"mean_test_score\": 0.28597701149425286, \"n_neighbors\": 16}, {\"mean_test_score\": 0.24459770114942528, \"n_neighbors\": 17}, {\"mean_test_score\": 0.25839080459770114, \"n_neighbors\": 18}, {\"mean_test_score\": 0.27218390804597703, \"n_neighbors\": 19}, {\"mean_test_score\": 0.3131034482758621, \"n_neighbors\": 20}, {\"mean_test_score\": 0.28597701149425286, \"n_neighbors\": 21}, {\"mean_test_score\": 0.3064367816091954, \"n_neighbors\": 22}, {\"mean_test_score\": 0.3133333333333333, \"n_neighbors\": 23}, {\"mean_test_score\": 0.28597701149425286, \"n_neighbors\": 24}, {\"mean_test_score\": 0.2793103448275862, \"n_neighbors\": 25}, {\"mean_test_score\": 0.29287356321839086, \"n_neighbors\": 26}, {\"mean_test_score\": 0.2793103448275862, \"n_neighbors\": 27}, {\"mean_test_score\": 0.29954022988505746, \"n_neighbors\": 28}, {\"mean_test_score\": 0.31333333333333335, \"n_neighbors\": 29}, {\"mean_test_score\": 0.30666666666666664, \"n_neighbors\": 30}, {\"mean_test_score\": 0.3068965517241379, \"n_neighbors\": 31}, {\"mean_test_score\": 0.29977011494252875, \"n_neighbors\": 32}, {\"mean_test_score\": 0.30666666666666664, \"n_neighbors\": 33}, {\"mean_test_score\": 0.313103448275862, \"n_neighbors\": 34}, {\"mean_test_score\": 0.3268965517241379, \"n_neighbors\": 35}, {\"mean_test_score\": 0.31999999999999995, \"n_neighbors\": 36}, {\"mean_test_score\": 0.313103448275862, \"n_neighbors\": 37}, {\"mean_test_score\": 0.3268965517241379, \"n_neighbors\": 38}, {\"mean_test_score\": 0.3202298850574713, \"n_neighbors\": 39}, {\"mean_test_score\": 0.3271264367816092, \"n_neighbors\": 40}, {\"mean_test_score\": 0.33379310344827584, \"n_neighbors\": 41}, {\"mean_test_score\": 0.3268965517241379, \"n_neighbors\": 42}, {\"mean_test_score\": 0.3335632183908046, \"n_neighbors\": 43}, {\"mean_test_score\": 0.3335632183908046, \"n_neighbors\": 44}, {\"mean_test_score\": 0.31977011494252877, \"n_neighbors\": 45}, {\"mean_test_score\": 0.31977011494252877, \"n_neighbors\": 46}, {\"mean_test_score\": 0.31977011494252877, \"n_neighbors\": 47}, {\"mean_test_score\": 0.313103448275862, \"n_neighbors\": 48}, {\"mean_test_score\": 0.31977011494252877, \"n_neighbors\": 49}, {\"mean_test_score\": 0.3268965517241379, \"n_neighbors\": 50}, {\"mean_test_score\": 0.313103448275862, \"n_neighbors\": 51}, {\"mean_test_score\": 0.32666666666666666, \"n_neighbors\": 52}, {\"mean_test_score\": 0.313103448275862, \"n_neighbors\": 53}, {\"mean_test_score\": 0.31999999999999995, \"n_neighbors\": 54}, {\"mean_test_score\": 0.3064367816091954, \"n_neighbors\": 55}, {\"mean_test_score\": 0.2924137931034482, \"n_neighbors\": 56}, {\"mean_test_score\": 0.29954022988505746, \"n_neighbors\": 57}, {\"mean_test_score\": 0.31310344827586206, \"n_neighbors\": 58}, {\"mean_test_score\": 0.31999999999999995, \"n_neighbors\": 59}, {\"mean_test_score\": 0.31310344827586206, \"n_neighbors\": 60}, {\"mean_test_score\": 0.32666666666666666, \"n_neighbors\": 61}, {\"mean_test_score\": 0.3264367816091954, \"n_neighbors\": 62}, {\"mean_test_score\": 0.31287356321839077, \"n_neighbors\": 63}, {\"mean_test_score\": 0.3197701149425287, \"n_neighbors\": 64}, {\"mean_test_score\": 0.31287356321839077, \"n_neighbors\": 65}, {\"mean_test_score\": 0.3197701149425287, \"n_neighbors\": 66}, {\"mean_test_score\": 0.3197701149425287, \"n_neighbors\": 67}, {\"mean_test_score\": 0.3059770114942529, \"n_neighbors\": 68}, {\"mean_test_score\": 0.31287356321839077, \"n_neighbors\": 69}, {\"mean_test_score\": 0.29908045977011494, \"n_neighbors\": 70}, {\"mean_test_score\": 0.29218390804597705, \"n_neighbors\": 71}, {\"mean_test_score\": 0.3059770114942529, \"n_neighbors\": 72}, {\"mean_test_score\": 0.3059770114942529, \"n_neighbors\": 73}, {\"mean_test_score\": 0.3197701149425287, \"n_neighbors\": 74}, {\"mean_test_score\": 0.3059770114942529, \"n_neighbors\": 75}, {\"mean_test_score\": 0.31287356321839077, \"n_neighbors\": 76}, {\"mean_test_score\": 0.31287356321839077, \"n_neighbors\": 77}, {\"mean_test_score\": 0.3059770114942529, \"n_neighbors\": 78}, {\"mean_test_score\": 0.31287356321839077, \"n_neighbors\": 79}, {\"mean_test_score\": 0.3197701149425287, \"n_neighbors\": 80}, {\"mean_test_score\": 0.3197701149425287, \"n_neighbors\": 81}, {\"mean_test_score\": 0.3197701149425287, \"n_neighbors\": 82}, {\"mean_test_score\": 0.3197701149425287, \"n_neighbors\": 83}, {\"mean_test_score\": 0.3197701149425287, \"n_neighbors\": 84}, {\"mean_test_score\": 0.3197701149425287, \"n_neighbors\": 85}, {\"mean_test_score\": 0.3197701149425287, \"n_neighbors\": 86}, {\"mean_test_score\": 0.3197701149425287, \"n_neighbors\": 87}, {\"mean_test_score\": 0.3197701149425287, \"n_neighbors\": 88}, {\"mean_test_score\": 0.3197701149425287, \"n_neighbors\": 89}, {\"mean_test_score\": 0.3197701149425287, \"n_neighbors\": 90}, {\"mean_test_score\": 0.3197701149425287, \"n_neighbors\": 91}, {\"mean_test_score\": 0.3197701149425287, \"n_neighbors\": 92}, {\"mean_test_score\": 0.3197701149425287, \"n_neighbors\": 93}, {\"mean_test_score\": 0.3197701149425287, \"n_neighbors\": 94}, {\"mean_test_score\": 0.3197701149425287, \"n_neighbors\": 95}, {\"mean_test_score\": 0.3197701149425287, \"n_neighbors\": 96}, {\"mean_test_score\": 0.3197701149425287, \"n_neighbors\": 97}, {\"mean_test_score\": 0.3197701149425287, \"n_neighbors\": 98}, {\"mean_test_score\": 0.3197701149425287, \"n_neighbors\": 99}]}], \"marks\": [{\"type\": \"line\", \"name\": \"layer_0_marks\", \"from\": {\"data\": \"source_0\"}, \"sort\": {\"field\": \"x\"}, \"encode\": {\"update\": {\"defined\": {\"signal\": \"isValid(datum[\\\"n_neighbors\\\"]) && isFinite(+datum[\\\"n_neighbors\\\"]) && isValid(datum[\\\"mean_test_score\\\"]) && isFinite(+datum[\\\"mean_test_score\\\"])\"}, \"y\": {\"field\": \"mean_test_score\", \"scale\": \"y\"}, \"stroke\": {\"value\": \"#4c78a8\"}, \"x\": {\"field\": \"n_neighbors\", \"scale\": \"x\"}}}, \"style\": [\"line\"]}, {\"type\": \"symbol\", \"name\": \"layer_1_marks\", \"from\": {\"data\": \"data_0\"}, \"encode\": {\"update\": {\"y\": {\"field\": \"mean_test_score\", \"scale\": \"y\"}, \"opacity\": {\"value\": 1}, \"fill\": {\"value\": \"#4c78a8\"}, \"x\": {\"field\": \"n_neighbors\", \"scale\": \"x\"}}}, \"style\": [\"point\"]}], \"scales\": [{\"name\": \"x\", \"type\": \"linear\", \"domain\": {\"fields\": [{\"data\": \"source_0\", \"field\": \"n_neighbors\"}, {\"data\": \"data_0\", \"field\": \"n_neighbors\"}]}, \"range\": [0, {\"signal\": \"width\"}], \"zero\": false, \"nice\": true}, {\"name\": \"y\", \"type\": \"linear\", \"domain\": {\"fields\": [{\"data\": \"source_0\", \"field\": \"mean_test_score\"}, {\"data\": \"data_0\", \"field\": \"mean_test_score\"}]}, \"range\": [{\"signal\": \"height\"}, 0], \"zero\": false, \"nice\": true}], \"axes\": [{\"scale\": \"x\", \"orient\": \"bottom\", \"gridScale\": \"y\", \"grid\": true, \"labels\": false, \"domain\": false, \"ticks\": false, \"zindex\": 0, \"tickCount\": {\"signal\": \"ceil(width/40)\"}, \"aria\": false, \"maxExtent\": 0, \"minExtent\": 0}, {\"scale\": \"y\", \"tickCount\": {\"signal\": \"ceil(height/40)\"}, \"minExtent\": 0, \"orient\": \"left\", \"zindex\": 0, \"labels\": false, \"domain\": false, \"grid\": true, \"ticks\": false, \"gridScale\": \"x\", \"maxExtent\": 0, \"aria\": false}, {\"scale\": \"x\", \"zindex\": 0, \"title\": \"Neighbors\", \"labelFlush\": true, \"grid\": false, \"orient\": \"bottom\", \"tickCount\": {\"signal\": \"ceil(width/40)\"}, \"labelOverlap\": true}, {\"scale\": \"y\", \"labelOverlap\": true, \"title\": \"Accuracy estimate\", \"grid\": false, \"orient\": \"left\", \"tickCount\": {\"signal\": \"ceil(height/40)\"}, \"zindex\": 0}], \"title\": {\"text\": \"Neighbors vs. Accuracy Estimate\", \"frame\": \"group\"}, \"background\": \"white\", \"height\": 300, \"style\": \"cell\", \"width\": 300, \"padding\": 5}, {\"mode\": \"vega\"});\n",
       "</script>"
      ],
      "text/plain": [
       "alt.Chart(...)"
      ]
     },
     "execution_count": 22,
     "metadata": {},
     "output_type": "execute_result"
    }
   ],
   "source": [
    "# Create a line plot to visualize the accuracy vs. number of neighbors\n",
    "accuracy_vs_k2 = alt.Chart(accuracies_grid2).mark_line(point=True).encode(\n",
    "    x=alt.X(\"n_neighbors\").title(\"Neighbors\"),\n",
    "    y=alt.Y(\"mean_test_score\")\n",
    "        .scale(zero=False)\n",
    "        .title(\"Accuracy estimate\")\n",
    ").properties(\n",
    "    title=\"Neighbors vs. Accuracy Estimate\"\n",
    ")\n",
    "\n",
    "accuracy_vs_k2"
   ]
  },
  {
   "cell_type": "markdown",
   "id": "685d6eb5-f37b-4597-8641-e3f9f8e9ff72",
   "metadata": {},
   "source": [
    "**Figure 6: Line Plot comparing the accuracy estimate vs the number of neighbors**"
   ]
  },
  {
   "cell_type": "code",
   "execution_count": 23,
   "id": "00f1e637-81e0-44ba-aa36-d500560f4ed1",
   "metadata": {},
   "outputs": [
    {
     "data": {
      "text/plain": [
       "{'kneighborsclassifier__n_neighbors': 41}"
      ]
     },
     "execution_count": 23,
     "metadata": {},
     "output_type": "execute_result"
    }
   ],
   "source": [
    "# Display the best parameter (K = 41)\n",
    "players_tune_grid2.best_params_"
   ]
  },
  {
   "cell_type": "code",
   "execution_count": 24,
   "id": "882a2953-4930-4087-8d2d-84ed70a64258",
   "metadata": {},
   "outputs": [
    {
     "data": {
      "text/html": [
       "<div>\n",
       "<style scoped>\n",
       "    .dataframe tbody tr th:only-of-type {\n",
       "        vertical-align: middle;\n",
       "    }\n",
       "\n",
       "    .dataframe tbody tr th {\n",
       "        vertical-align: top;\n",
       "    }\n",
       "\n",
       "    .dataframe thead th {\n",
       "        text-align: right;\n",
       "    }\n",
       "</style>\n",
       "<table border=\"1\" class=\"dataframe\">\n",
       "  <thead>\n",
       "    <tr style=\"text-align: right;\">\n",
       "      <th></th>\n",
       "      <th>played_hours</th>\n",
       "      <th>age</th>\n",
       "      <th>squared_age</th>\n",
       "      <th>log_age</th>\n",
       "      <th>sin_age</th>\n",
       "      <th>experience</th>\n",
       "      <th>predicted</th>\n",
       "    </tr>\n",
       "  </thead>\n",
       "  <tbody>\n",
       "    <tr>\n",
       "      <th>104</th>\n",
       "      <td>0.0</td>\n",
       "      <td>26</td>\n",
       "      <td>676</td>\n",
       "      <td>3.258097</td>\n",
       "      <td>0.762558</td>\n",
       "      <td>Amateur</td>\n",
       "      <td>Amateur</td>\n",
       "    </tr>\n",
       "    <tr>\n",
       "      <th>44</th>\n",
       "      <td>2.2</td>\n",
       "      <td>24</td>\n",
       "      <td>576</td>\n",
       "      <td>3.178054</td>\n",
       "      <td>-0.905578</td>\n",
       "      <td>Veteran</td>\n",
       "      <td>Amateur</td>\n",
       "    </tr>\n",
       "    <tr>\n",
       "      <th>100</th>\n",
       "      <td>0.0</td>\n",
       "      <td>20</td>\n",
       "      <td>400</td>\n",
       "      <td>2.995732</td>\n",
       "      <td>0.912945</td>\n",
       "      <td>Amateur</td>\n",
       "      <td>Veteran</td>\n",
       "    </tr>\n",
       "    <tr>\n",
       "      <th>121</th>\n",
       "      <td>0.1</td>\n",
       "      <td>24</td>\n",
       "      <td>576</td>\n",
       "      <td>3.178054</td>\n",
       "      <td>-0.905578</td>\n",
       "      <td>Beginner</td>\n",
       "      <td>Amateur</td>\n",
       "    </tr>\n",
       "    <tr>\n",
       "      <th>49</th>\n",
       "      <td>0.4</td>\n",
       "      <td>22</td>\n",
       "      <td>484</td>\n",
       "      <td>3.091042</td>\n",
       "      <td>-0.008851</td>\n",
       "      <td>Beginner</td>\n",
       "      <td>Amateur</td>\n",
       "    </tr>\n",
       "  </tbody>\n",
       "</table>\n",
       "</div>"
      ],
      "text/plain": [
       "     played_hours  age  squared_age   log_age   sin_age experience predicted\n",
       "104           0.0   26          676  3.258097  0.762558    Amateur   Amateur\n",
       "44            2.2   24          576  3.178054 -0.905578    Veteran   Amateur\n",
       "100           0.0   20          400  2.995732  0.912945    Amateur   Veteran\n",
       "121           0.1   24          576  3.178054 -0.905578   Beginner   Amateur\n",
       "49            0.4   22          484  3.091042 -0.008851   Beginner   Amateur"
      ]
     },
     "execution_count": 24,
     "metadata": {},
     "output_type": "execute_result"
    }
   ],
   "source": [
    "players_test[\"predicted\"] = players_tune_grid2.predict(\n",
    "    players_test[[\"age\", \"squared_age\", \"played_hours\"]]\n",
    ")\n",
    "\n",
    "players_test.head()"
   ]
  },
  {
   "cell_type": "markdown",
   "id": "f5089a34-3588-4378-a019-703a77d76535",
   "metadata": {},
   "source": [
    "#### Evaluating Model Accuracy on the Test Set \n",
    "\n",
    "The accuracy of the model was tested on the test data. Suprisingly, Model 2 achieved an accuracy of approximately 34.7%, which is the same as **Model 1**"
   ]
  },
  {
   "cell_type": "code",
   "execution_count": 25,
   "id": "46f6409f-42f8-4855-ba3c-18ac6f5a7e13",
   "metadata": {},
   "outputs": [
    {
     "data": {
      "text/plain": [
       "0.3469387755102041"
      ]
     },
     "execution_count": 25,
     "metadata": {},
     "output_type": "execute_result"
    }
   ],
   "source": [
    "# Evaluate the model's accuracy on the test set\n",
    "players_prediction_accuracy2 = players_tune_grid2.score(X_test2, y_test2)\n",
    "\n",
    "players_prediction_accuracy2"
   ]
  },
  {
   "cell_type": "code",
   "execution_count": 26,
   "id": "69108b7e-1b4a-45a0-831a-04437f2bce95",
   "metadata": {},
   "outputs": [
    {
     "data": {
      "text/plain": [
       "<sklearn.metrics._plot.confusion_matrix.ConfusionMatrixDisplay at 0x7f707ac98410>"
      ]
     },
     "execution_count": 26,
     "metadata": {},
     "output_type": "execute_result"
    },
    {
     "data": {
      "image/png": "[encoded data removed]",
      "text/plain": [
       "<Figure size 640x480 with 2 Axes>"
      ]
     },
     "metadata": {},
     "output_type": "display_data"
    }
   ],
   "source": [
    "# Fit the pipeline on the training set\n",
    "players_tune_pipe2.fit(X_train2, y_train2)\n",
    "\n",
    "# Generate and display the confusion matrix\n",
    "ConfusionMatrixDisplay.from_estimator(\n",
    "    players_tune_pipe2,  # We are directly passing the pipeline and let sklearn do the predictions for us\n",
    "    X_test2,\n",
    "    y_test2\n",
    ")"
   ]
  },
  {
   "cell_type": "markdown",
   "id": "f474d666-b06f-4c27-b245-1b870e7bae30",
   "metadata": {},
   "source": [
    "**Figure 7: Confusion matrix showing the performance of the classification model (model 2), with true labels and predicted labels**"
   ]
  },
  {
   "cell_type": "markdown",
   "id": "006d0480-808d-4ff4-b8d7-d37d5523e234",
   "metadata": {},
   "source": [
    "### Model 3"
   ]
  },
  {
   "cell_type": "markdown",
   "id": "b8ad0c02-bd83-4c6c-a90f-acccfdbb163a",
   "metadata": {},
   "source": [
    "It seems like Model 2, despite incorporating an additional feature (squared age), did not improve the accuracy. As a next step, we will add another predictor, sin_age, to the model. The updated model will follow the same steps as before, including data preprocessing, standardization, and hyperparameter tuning, but with the new sin_age feature incorporated"
   ]
  },
  {
   "cell_type": "code",
   "execution_count": 27,
   "id": "df682149-fa83-47d8-9c92-4ddcc459b8c5",
   "metadata": {},
   "outputs": [],
   "source": [
    "# Preprocessor Setup\n",
    "players_preprocessor3 = make_column_transformer(\n",
    "    (StandardScaler(), [\"age\", \"squared_age\", \"sin_age\", \"played_hours\"]),\n",
    ")"
   ]
  },
  {
   "cell_type": "code",
   "execution_count": 28,
   "id": "9aab239b-8ff1-4cf9-bf38-8bf156460b5f",
   "metadata": {},
   "outputs": [
    {
     "name": "stderr",
     "output_type": "stream",
     "text": [
      "/opt/conda/lib/python3.11/site-packages/numpy/ma/core.py:2846: RuntimeWarning: invalid value encountered in cast\n",
      "  _data = np.array(data, dtype=dtype, copy=copy,\n"
     ]
    }
   ],
   "source": [
    "# create X_train and y_train; X_test and y_test\n",
    "X_train3 = players_train[[\"age\", \"squared_age\", \"sin_age\", \"played_hours\"]]\n",
    "y_train3 = players_train[\"experience\"]\n",
    "\n",
    "X_test3 = players_test[[\"age\", \"squared_age\", \"sin_age\", \"played_hours\"]]\n",
    "y_test3 = players_test[\"experience\"]\n",
    "\n",
    "# Create a pipeline with preprocessing and KNN classifier\n",
    "players_tune_pipe3 = make_pipeline(players_preprocessor3, knn)\n",
    "\n",
    "# Initialize GridSearchCV for cross validation \n",
    "players_tune_grid3 = GridSearchCV(\n",
    "    estimator=players_tune_pipe3,         # Pipeline  \n",
    "    param_grid=param_grid,               # Parameter grid for tuning\n",
    "    cv=5                                 # 5-fold cross-validation\n",
    ")\n",
    "\n",
    "# Fit the GridSearchCV model to the training data\n",
    "players_tune_grid3.fit(X_train3, y_train3)\n",
    "\n",
    "# Store the cross-validation results in a DataFrame for analysis\n",
    "accuracies_grid3 = pd.DataFrame(players_tune_grid3.cv_results_)\n",
    "\n",
    "# Select relevant columns and rename them for clarity\n",
    "accuracies_grid3 = (\n",
    "    accuracies_grid3[[\n",
    "        \"param_kneighborsclassifier__n_neighbors\",\n",
    "        \"mean_test_score\"\n",
    "    ]]\n",
    "    .rename(columns={\"param_kneighborsclassifier__n_neighbors\": \"n_neighbors\"})\n",
    ")"
   ]
  },
  {
   "cell_type": "markdown",
   "id": "cc4115f6-dcfa-4fcf-ad04-efb7b9431ff8",
   "metadata": {},
   "source": [
    "#### Identifying the Best K Value\n",
    "We created a line plot to visualize the relationship between the number of neighbors (n_neighbors) and the corresponding accuracy estimates (mean_test_score). The accuracy peaks at 2, meaning this is the best performing K value. Using the results from the GridSearchCV, the best-performing K value was confirmed to be K = 2, which yielded the highest accuracy based on cross-validation."
   ]
  },
  {
   "cell_type": "code",
   "execution_count": 29,
   "id": "dad0fc29-73e8-480d-a486-dc2553b88c61",
   "metadata": {},
   "outputs": [
    {
     "data": {
      "text/html": [
       "\n",
       "<style>\n",
       "  #altair-viz-b63984137a1b495cb1fb90e9c7cbd583.vega-embed {\n",
       "    width: 100%;\n",
       "    display: flex;\n",
       "  }\n",
       "\n",
       "  #altair-viz-b63984137a1b495cb1fb90e9c7cbd583.vega-embed details,\n",
       "  #altair-viz-b63984137a1b495cb1fb90e9c7cbd583.vega-embed details summary {\n",
       "    position: relative;\n",
       "  }\n",
       "</style>\n",
       "<div id=\"altair-viz-b63984137a1b495cb1fb90e9c7cbd583\"></div>\n",
       "<script type=\"text/javascript\">\n",
       "  var VEGA_DEBUG = (typeof VEGA_DEBUG == \"undefined\") ? {} : VEGA_DEBUG;\n",
       "  (function(spec, embedOpt){\n",
       "    let outputDiv = document.currentScript.previousElementSibling;\n",
       "    if (outputDiv.id !== \"altair-viz-b63984137a1b495cb1fb90e9c7cbd583\") {\n",
       "      outputDiv = document.getElementById(\"altair-viz-b63984137a1b495cb1fb90e9c7cbd583\");\n",
       "    }\n",
       "    const paths = {\n",
       "      \"vega\": \"https://cdn.jsdelivr.net/npm/vega@5?noext\",\n",
       "      \"vega-lib\": \"https://cdn.jsdelivr.net/npm/vega-lib?noext\",\n",
       "      \"vega-lite\": \"https://cdn.jsdelivr.net/npm/vega-lite@5.20.1?noext\",\n",
       "      \"vega-embed\": \"https://cdn.jsdelivr.net/npm/vega-embed@6?noext\",\n",
       "    };\n",
       "\n",
       "    function maybeLoadScript(lib, version) {\n",
       "      var key = `${lib.replace(\"-\", \"\")}_version`;\n",
       "      return (VEGA_DEBUG[key] == version) ?\n",
       "        Promise.resolve(paths[lib]) :\n",
       "        new Promise(function(resolve, reject) {\n",
       "          var s = document.createElement('script');\n",
       "          document.getElementsByTagName(\"head\")[0].appendChild(s);\n",
       "          s.async = true;\n",
       "          s.onload = () => {\n",
       "            VEGA_DEBUG[key] = version;\n",
       "            return resolve(paths[lib]);\n",
       "          };\n",
       "          s.onerror = () => reject(`Error loading script: ${paths[lib]}`);\n",
       "          s.src = paths[lib];\n",
       "        });\n",
       "    }\n",
       "\n",
       "    function showError(err) {\n",
       "      outputDiv.innerHTML = `<div class=\"error\" style=\"color:red;\">${err}</div>`;\n",
       "      throw err;\n",
       "    }\n",
       "\n",
       "    function displayChart(vegaEmbed) {\n",
       "      vegaEmbed(outputDiv, spec, embedOpt)\n",
       "        .catch(err => showError(`Javascript Error: ${err.message}<br>This usually means there's a typo in your chart specification. See the javascript console for the full traceback.`));\n",
       "    }\n",
       "\n",
       "    if(typeof define === \"function\" && define.amd) {\n",
       "      requirejs.config({paths});\n",
       "      require([\"vega-embed\"], displayChart, err => showError(`Error loading script: ${err.message}`));\n",
       "    } else {\n",
       "      maybeLoadScript(\"vega\", \"5\")\n",
       "        .then(() => maybeLoadScript(\"vega-lite\", \"5.20.1\"))\n",
       "        .then(() => maybeLoadScript(\"vega-embed\", \"6\"))\n",
       "        .catch(showError)\n",
       "        .then(() => displayChart(vegaEmbed));\n",
       "    }\n",
       "  })({\"$schema\": \"https://vega.github.io/schema/vega/v5.json\", \"data\": [{\"name\": \"source_0\", \"values\": [{\"mean_test_score\": 0.25908045977011496, \"n_neighbors\": 1}, {\"mean_test_score\": 0.33425287356321837, \"n_neighbors\": 2}, {\"mean_test_score\": 0.29954022988505746, \"n_neighbors\": 3}, {\"mean_test_score\": 0.27218390804597703, \"n_neighbors\": 4}, {\"mean_test_score\": 0.27264367816091956, \"n_neighbors\": 5}, {\"mean_test_score\": 0.26597701149425285, \"n_neighbors\": 6}, {\"mean_test_score\": 0.26620689655172414, \"n_neighbors\": 7}, {\"mean_test_score\": 0.2457471264367816, \"n_neighbors\": 8}, {\"mean_test_score\": 0.29977011494252875, \"n_neighbors\": 9}, {\"mean_test_score\": 0.29977011494252875, \"n_neighbors\": 10}, {\"mean_test_score\": 0.3059770114942529, \"n_neighbors\": 11}, {\"mean_test_score\": 0.3328735632183908, \"n_neighbors\": 12}, {\"mean_test_score\": 0.3059770114942529, \"n_neighbors\": 13}, {\"mean_test_score\": 0.3195402298850575, \"n_neighbors\": 14}, {\"mean_test_score\": 0.3195402298850575, \"n_neighbors\": 15}, {\"mean_test_score\": 0.3057471264367816, \"n_neighbors\": 16}, {\"mean_test_score\": 0.26482758620689656, \"n_neighbors\": 17}, {\"mean_test_score\": 0.27172413793103445, \"n_neighbors\": 18}, {\"mean_test_score\": 0.25080459770114943, \"n_neighbors\": 19}, {\"mean_test_score\": 0.29908045977011494, \"n_neighbors\": 20}, {\"mean_test_score\": 0.27862068965517245, \"n_neighbors\": 21}, {\"mean_test_score\": 0.2988505747126437, \"n_neighbors\": 22}, {\"mean_test_score\": 0.25862068965517243, \"n_neighbors\": 23}, {\"mean_test_score\": 0.2655172413793103, \"n_neighbors\": 24}, {\"mean_test_score\": 0.26574712643678156, \"n_neighbors\": 25}, {\"mean_test_score\": 0.27954022988505745, \"n_neighbors\": 26}, {\"mean_test_score\": 0.29977011494252875, \"n_neighbors\": 27}, {\"mean_test_score\": 0.2593103448275862, \"n_neighbors\": 28}, {\"mean_test_score\": 0.279080459770115, \"n_neighbors\": 29}, {\"mean_test_score\": 0.27287356321839085, \"n_neighbors\": 30}, {\"mean_test_score\": 0.2793103448275862, \"n_neighbors\": 31}, {\"mean_test_score\": 0.27241379310344827, \"n_neighbors\": 32}, {\"mean_test_score\": 0.2788505747126437, \"n_neighbors\": 33}, {\"mean_test_score\": 0.279080459770115, \"n_neighbors\": 34}, {\"mean_test_score\": 0.27218390804597703, \"n_neighbors\": 35}, {\"mean_test_score\": 0.2788505747126437, \"n_neighbors\": 36}, {\"mean_test_score\": 0.2928735632183908, \"n_neighbors\": 37}, {\"mean_test_score\": 0.2657471264367816, \"n_neighbors\": 38}, {\"mean_test_score\": 0.27241379310344827, \"n_neighbors\": 39}, {\"mean_test_score\": 0.2793103448275862, \"n_neighbors\": 40}, {\"mean_test_score\": 0.2862068965517241, \"n_neighbors\": 41}, {\"mean_test_score\": 0.2862068965517241, \"n_neighbors\": 42}, {\"mean_test_score\": 0.2862068965517241, \"n_neighbors\": 43}, {\"mean_test_score\": 0.2862068965517241, \"n_neighbors\": 44}, {\"mean_test_score\": 0.2862068965517241, \"n_neighbors\": 45}, {\"mean_test_score\": 0.27241379310344827, \"n_neighbors\": 46}, {\"mean_test_score\": 0.2793103448275862, \"n_neighbors\": 47}, {\"mean_test_score\": 0.2859770114942529, \"n_neighbors\": 48}, {\"mean_test_score\": 0.2859770114942529, \"n_neighbors\": 49}, {\"mean_test_score\": 0.2928735632183908, \"n_neighbors\": 50}, {\"mean_test_score\": 0.28620689655172415, \"n_neighbors\": 51}, {\"mean_test_score\": 0.2864367816091954, \"n_neighbors\": 52}, {\"mean_test_score\": 0.29954022988505746, \"n_neighbors\": 53}, {\"mean_test_score\": 0.2862068965517241, \"n_neighbors\": 54}, {\"mean_test_score\": 0.279080459770115, \"n_neighbors\": 55}, {\"mean_test_score\": 0.27218390804597703, \"n_neighbors\": 56}, {\"mean_test_score\": 0.2724137931034483, \"n_neighbors\": 57}, {\"mean_test_score\": 0.279080459770115, \"n_neighbors\": 58}, {\"mean_test_score\": 0.2926436781609195, \"n_neighbors\": 59}, {\"mean_test_score\": 0.2993103448275862, \"n_neighbors\": 60}, {\"mean_test_score\": 0.29310344827586204, \"n_neighbors\": 61}, {\"mean_test_score\": 0.3197701149425287, \"n_neighbors\": 62}, {\"mean_test_score\": 0.3264367816091954, \"n_neighbors\": 63}, {\"mean_test_score\": 0.31310344827586206, \"n_neighbors\": 64}, {\"mean_test_score\": 0.3197701149425287, \"n_neighbors\": 65}, {\"mean_test_score\": 0.3264367816091954, \"n_neighbors\": 66}, {\"mean_test_score\": 0.3197701149425287, \"n_neighbors\": 67}, {\"mean_test_score\": 0.3197701149425287, \"n_neighbors\": 68}, {\"mean_test_score\": 0.3197701149425287, \"n_neighbors\": 69}, {\"mean_test_score\": 0.3197701149425287, \"n_neighbors\": 70}, {\"mean_test_score\": 0.31287356321839077, \"n_neighbors\": 71}, {\"mean_test_score\": 0.31977011494252877, \"n_neighbors\": 72}, {\"mean_test_score\": 0.31977011494252877, \"n_neighbors\": 73}, {\"mean_test_score\": 0.32666666666666666, \"n_neighbors\": 74}, {\"mean_test_score\": 0.31977011494252877, \"n_neighbors\": 75}, {\"mean_test_score\": 0.32666666666666666, \"n_neighbors\": 76}, {\"mean_test_score\": 0.3197701149425287, \"n_neighbors\": 77}, {\"mean_test_score\": 0.3197701149425287, \"n_neighbors\": 78}, {\"mean_test_score\": 0.3197701149425287, \"n_neighbors\": 79}, {\"mean_test_score\": 0.3197701149425287, \"n_neighbors\": 80}, {\"mean_test_score\": 0.3197701149425287, \"n_neighbors\": 81}, {\"mean_test_score\": 0.3197701149425287, \"n_neighbors\": 82}, {\"mean_test_score\": 0.3197701149425287, \"n_neighbors\": 83}, {\"mean_test_score\": 0.3197701149425287, \"n_neighbors\": 84}, {\"mean_test_score\": 0.3197701149425287, \"n_neighbors\": 85}, {\"mean_test_score\": 0.3197701149425287, \"n_neighbors\": 86}, {\"mean_test_score\": 0.3197701149425287, \"n_neighbors\": 87}, {\"mean_test_score\": 0.3197701149425287, \"n_neighbors\": 88}, {\"mean_test_score\": 0.3197701149425287, \"n_neighbors\": 89}, {\"mean_test_score\": 0.3197701149425287, \"n_neighbors\": 90}, {\"mean_test_score\": 0.3197701149425287, \"n_neighbors\": 91}, {\"mean_test_score\": 0.3197701149425287, \"n_neighbors\": 92}, {\"mean_test_score\": 0.3197701149425287, \"n_neighbors\": 93}, {\"mean_test_score\": 0.3197701149425287, \"n_neighbors\": 94}, {\"mean_test_score\": 0.3197701149425287, \"n_neighbors\": 95}, {\"mean_test_score\": 0.3197701149425287, \"n_neighbors\": 96}, {\"mean_test_score\": 0.3197701149425287, \"n_neighbors\": 97}, {\"mean_test_score\": 0.3197701149425287, \"n_neighbors\": 98}, {\"mean_test_score\": 0.3197701149425287, \"n_neighbors\": 99}]}, {\"name\": \"data_0\", \"values\": [{\"mean_test_score\": 0.25908045977011496, \"n_neighbors\": 1}, {\"mean_test_score\": 0.33425287356321837, \"n_neighbors\": 2}, {\"mean_test_score\": 0.29954022988505746, \"n_neighbors\": 3}, {\"mean_test_score\": 0.27218390804597703, \"n_neighbors\": 4}, {\"mean_test_score\": 0.27264367816091956, \"n_neighbors\": 5}, {\"mean_test_score\": 0.26597701149425285, \"n_neighbors\": 6}, {\"mean_test_score\": 0.26620689655172414, \"n_neighbors\": 7}, {\"mean_test_score\": 0.2457471264367816, \"n_neighbors\": 8}, {\"mean_test_score\": 0.29977011494252875, \"n_neighbors\": 9}, {\"mean_test_score\": 0.29977011494252875, \"n_neighbors\": 10}, {\"mean_test_score\": 0.3059770114942529, \"n_neighbors\": 11}, {\"mean_test_score\": 0.3328735632183908, \"n_neighbors\": 12}, {\"mean_test_score\": 0.3059770114942529, \"n_neighbors\": 13}, {\"mean_test_score\": 0.3195402298850575, \"n_neighbors\": 14}, {\"mean_test_score\": 0.3195402298850575, \"n_neighbors\": 15}, {\"mean_test_score\": 0.3057471264367816, \"n_neighbors\": 16}, {\"mean_test_score\": 0.26482758620689656, \"n_neighbors\": 17}, {\"mean_test_score\": 0.27172413793103445, \"n_neighbors\": 18}, {\"mean_test_score\": 0.25080459770114943, \"n_neighbors\": 19}, {\"mean_test_score\": 0.29908045977011494, \"n_neighbors\": 20}, {\"mean_test_score\": 0.27862068965517245, \"n_neighbors\": 21}, {\"mean_test_score\": 0.2988505747126437, \"n_neighbors\": 22}, {\"mean_test_score\": 0.25862068965517243, \"n_neighbors\": 23}, {\"mean_test_score\": 0.2655172413793103, \"n_neighbors\": 24}, {\"mean_test_score\": 0.26574712643678156, \"n_neighbors\": 25}, {\"mean_test_score\": 0.27954022988505745, \"n_neighbors\": 26}, {\"mean_test_score\": 0.29977011494252875, \"n_neighbors\": 27}, {\"mean_test_score\": 0.2593103448275862, \"n_neighbors\": 28}, {\"mean_test_score\": 0.279080459770115, \"n_neighbors\": 29}, {\"mean_test_score\": 0.27287356321839085, \"n_neighbors\": 30}, {\"mean_test_score\": 0.2793103448275862, \"n_neighbors\": 31}, {\"mean_test_score\": 0.27241379310344827, \"n_neighbors\": 32}, {\"mean_test_score\": 0.2788505747126437, \"n_neighbors\": 33}, {\"mean_test_score\": 0.279080459770115, \"n_neighbors\": 34}, {\"mean_test_score\": 0.27218390804597703, \"n_neighbors\": 35}, {\"mean_test_score\": 0.2788505747126437, \"n_neighbors\": 36}, {\"mean_test_score\": 0.2928735632183908, \"n_neighbors\": 37}, {\"mean_test_score\": 0.2657471264367816, \"n_neighbors\": 38}, {\"mean_test_score\": 0.27241379310344827, \"n_neighbors\": 39}, {\"mean_test_score\": 0.2793103448275862, \"n_neighbors\": 40}, {\"mean_test_score\": 0.2862068965517241, \"n_neighbors\": 41}, {\"mean_test_score\": 0.2862068965517241, \"n_neighbors\": 42}, {\"mean_test_score\": 0.2862068965517241, \"n_neighbors\": 43}, {\"mean_test_score\": 0.2862068965517241, \"n_neighbors\": 44}, {\"mean_test_score\": 0.2862068965517241, \"n_neighbors\": 45}, {\"mean_test_score\": 0.27241379310344827, \"n_neighbors\": 46}, {\"mean_test_score\": 0.2793103448275862, \"n_neighbors\": 47}, {\"mean_test_score\": 0.2859770114942529, \"n_neighbors\": 48}, {\"mean_test_score\": 0.2859770114942529, \"n_neighbors\": 49}, {\"mean_test_score\": 0.2928735632183908, \"n_neighbors\": 50}, {\"mean_test_score\": 0.28620689655172415, \"n_neighbors\": 51}, {\"mean_test_score\": 0.2864367816091954, \"n_neighbors\": 52}, {\"mean_test_score\": 0.29954022988505746, \"n_neighbors\": 53}, {\"mean_test_score\": 0.2862068965517241, \"n_neighbors\": 54}, {\"mean_test_score\": 0.279080459770115, \"n_neighbors\": 55}, {\"mean_test_score\": 0.27218390804597703, \"n_neighbors\": 56}, {\"mean_test_score\": 0.2724137931034483, \"n_neighbors\": 57}, {\"mean_test_score\": 0.279080459770115, \"n_neighbors\": 58}, {\"mean_test_score\": 0.2926436781609195, \"n_neighbors\": 59}, {\"mean_test_score\": 0.2993103448275862, \"n_neighbors\": 60}, {\"mean_test_score\": 0.29310344827586204, \"n_neighbors\": 61}, {\"mean_test_score\": 0.3197701149425287, \"n_neighbors\": 62}, {\"mean_test_score\": 0.3264367816091954, \"n_neighbors\": 63}, {\"mean_test_score\": 0.31310344827586206, \"n_neighbors\": 64}, {\"mean_test_score\": 0.3197701149425287, \"n_neighbors\": 65}, {\"mean_test_score\": 0.3264367816091954, \"n_neighbors\": 66}, {\"mean_test_score\": 0.3197701149425287, \"n_neighbors\": 67}, {\"mean_test_score\": 0.3197701149425287, \"n_neighbors\": 68}, {\"mean_test_score\": 0.3197701149425287, \"n_neighbors\": 69}, {\"mean_test_score\": 0.3197701149425287, \"n_neighbors\": 70}, {\"mean_test_score\": 0.31287356321839077, \"n_neighbors\": 71}, {\"mean_test_score\": 0.31977011494252877, \"n_neighbors\": 72}, {\"mean_test_score\": 0.31977011494252877, \"n_neighbors\": 73}, {\"mean_test_score\": 0.32666666666666666, \"n_neighbors\": 74}, {\"mean_test_score\": 0.31977011494252877, \"n_neighbors\": 75}, {\"mean_test_score\": 0.32666666666666666, \"n_neighbors\": 76}, {\"mean_test_score\": 0.3197701149425287, \"n_neighbors\": 77}, {\"mean_test_score\": 0.3197701149425287, \"n_neighbors\": 78}, {\"mean_test_score\": 0.3197701149425287, \"n_neighbors\": 79}, {\"mean_test_score\": 0.3197701149425287, \"n_neighbors\": 80}, {\"mean_test_score\": 0.3197701149425287, \"n_neighbors\": 81}, {\"mean_test_score\": 0.3197701149425287, \"n_neighbors\": 82}, {\"mean_test_score\": 0.3197701149425287, \"n_neighbors\": 83}, {\"mean_test_score\": 0.3197701149425287, \"n_neighbors\": 84}, {\"mean_test_score\": 0.3197701149425287, \"n_neighbors\": 85}, {\"mean_test_score\": 0.3197701149425287, \"n_neighbors\": 86}, {\"mean_test_score\": 0.3197701149425287, \"n_neighbors\": 87}, {\"mean_test_score\": 0.3197701149425287, \"n_neighbors\": 88}, {\"mean_test_score\": 0.3197701149425287, \"n_neighbors\": 89}, {\"mean_test_score\": 0.3197701149425287, \"n_neighbors\": 90}, {\"mean_test_score\": 0.3197701149425287, \"n_neighbors\": 91}, {\"mean_test_score\": 0.3197701149425287, \"n_neighbors\": 92}, {\"mean_test_score\": 0.3197701149425287, \"n_neighbors\": 93}, {\"mean_test_score\": 0.3197701149425287, \"n_neighbors\": 94}, {\"mean_test_score\": 0.3197701149425287, \"n_neighbors\": 95}, {\"mean_test_score\": 0.3197701149425287, \"n_neighbors\": 96}, {\"mean_test_score\": 0.3197701149425287, \"n_neighbors\": 97}, {\"mean_test_score\": 0.3197701149425287, \"n_neighbors\": 98}, {\"mean_test_score\": 0.3197701149425287, \"n_neighbors\": 99}]}], \"marks\": [{\"type\": \"line\", \"name\": \"layer_0_marks\", \"from\": {\"data\": \"source_0\"}, \"sort\": {\"field\": \"x\"}, \"encode\": {\"update\": {\"x\": {\"field\": \"n_neighbors\", \"scale\": \"x\"}, \"y\": {\"field\": \"mean_test_score\", \"scale\": \"y\"}, \"defined\": {\"signal\": \"isValid(datum[\\\"n_neighbors\\\"]) && isFinite(+datum[\\\"n_neighbors\\\"]) && isValid(datum[\\\"mean_test_score\\\"]) && isFinite(+datum[\\\"mean_test_score\\\"])\"}, \"stroke\": {\"value\": \"#4c78a8\"}}}, \"style\": [\"line\"]}, {\"type\": \"symbol\", \"name\": \"layer_1_marks\", \"from\": {\"data\": \"data_0\"}, \"encode\": {\"update\": {\"opacity\": {\"value\": 1}, \"fill\": {\"value\": \"#4c78a8\"}, \"x\": {\"field\": \"n_neighbors\", \"scale\": \"x\"}, \"y\": {\"field\": \"mean_test_score\", \"scale\": \"y\"}}}, \"style\": [\"point\"]}], \"scales\": [{\"name\": \"x\", \"type\": \"linear\", \"domain\": {\"fields\": [{\"data\": \"source_0\", \"field\": \"n_neighbors\"}, {\"data\": \"data_0\", \"field\": \"n_neighbors\"}]}, \"range\": [0, {\"signal\": \"width\"}], \"nice\": true, \"zero\": false}, {\"name\": \"y\", \"type\": \"linear\", \"domain\": {\"fields\": [{\"data\": \"source_0\", \"field\": \"mean_test_score\"}, {\"data\": \"data_0\", \"field\": \"mean_test_score\"}]}, \"range\": [{\"signal\": \"height\"}, 0], \"zero\": false, \"nice\": true}], \"axes\": [{\"scale\": \"x\", \"orient\": \"bottom\", \"grid\": true, \"ticks\": false, \"gridScale\": \"y\", \"maxExtent\": 0, \"aria\": false, \"zindex\": 0, \"tickCount\": {\"signal\": \"ceil(width/40)\"}, \"domain\": false, \"minExtent\": 0, \"labels\": false}, {\"scale\": \"y\", \"tickCount\": {\"signal\": \"ceil(height/40)\"}, \"minExtent\": 0, \"labels\": false, \"domain\": false, \"grid\": true, \"maxExtent\": 0, \"ticks\": false, \"zindex\": 0, \"orient\": \"left\", \"aria\": false, \"gridScale\": \"x\"}, {\"scale\": \"x\", \"title\": \"Neighbors\", \"labelOverlap\": true, \"grid\": false, \"labelFlush\": true, \"tickCount\": {\"signal\": \"ceil(width/40)\"}, \"zindex\": 0, \"orient\": \"bottom\"}, {\"scale\": \"y\", \"labelOverlap\": true, \"tickCount\": {\"signal\": \"ceil(height/40)\"}, \"grid\": false, \"zindex\": 0, \"orient\": \"left\", \"title\": \"Accuracy estimate\"}], \"title\": {\"text\": \"Neighbors vs. Accuracy Estimate\", \"frame\": \"group\"}, \"background\": \"white\", \"width\": 300, \"style\": \"cell\", \"padding\": 5, \"height\": 300}, {\"mode\": \"vega\"});\n",
       "</script>"
      ],
      "text/plain": [
       "alt.Chart(...)"
      ]
     },
     "execution_count": 29,
     "metadata": {},
     "output_type": "execute_result"
    }
   ],
   "source": [
    "# Create a line plot to visualize the accuracy vs. number of neighbors\n",
    "accuracy_vs_k3 = alt.Chart(accuracies_grid3).mark_line(point=True).encode(\n",
    "    x=alt.X(\"n_neighbors\").title(\"Neighbors\"),\n",
    "    y=alt.Y(\"mean_test_score\")\n",
    "        .scale(zero=False)\n",
    "        .title(\"Accuracy estimate\")\n",
    ").properties(\n",
    "    title=\"Neighbors vs. Accuracy Estimate\"\n",
    ")\n",
    "\n",
    "accuracy_vs_k3"
   ]
  },
  {
   "cell_type": "markdown",
   "id": "eb9ebad1-7b8c-4521-8213-1e071f7c136f",
   "metadata": {},
   "source": [
    "**Figure 8: Line Plot showing the accuracy estimate vs the number of neighbors**"
   ]
  },
  {
   "cell_type": "code",
   "execution_count": 30,
   "id": "33fcde74-5f37-4ec9-aabb-81f56f45eaa3",
   "metadata": {},
   "outputs": [
    {
     "data": {
      "text/plain": [
       "{'kneighborsclassifier__n_neighbors': 2}"
      ]
     },
     "execution_count": 30,
     "metadata": {},
     "output_type": "execute_result"
    }
   ],
   "source": [
    "# Display the best parameter (K = 2)\n",
    "players_tune_grid3.best_params_"
   ]
  },
  {
   "cell_type": "code",
   "execution_count": 31,
   "id": "d7fc6c0b-2c9e-49d7-969f-88297179e89e",
   "metadata": {},
   "outputs": [
    {
     "data": {
      "text/html": [
       "<div>\n",
       "<style scoped>\n",
       "    .dataframe tbody tr th:only-of-type {\n",
       "        vertical-align: middle;\n",
       "    }\n",
       "\n",
       "    .dataframe tbody tr th {\n",
       "        vertical-align: top;\n",
       "    }\n",
       "\n",
       "    .dataframe thead th {\n",
       "        text-align: right;\n",
       "    }\n",
       "</style>\n",
       "<table border=\"1\" class=\"dataframe\">\n",
       "  <thead>\n",
       "    <tr style=\"text-align: right;\">\n",
       "      <th></th>\n",
       "      <th>played_hours</th>\n",
       "      <th>age</th>\n",
       "      <th>squared_age</th>\n",
       "      <th>log_age</th>\n",
       "      <th>sin_age</th>\n",
       "      <th>experience</th>\n",
       "      <th>predicted</th>\n",
       "    </tr>\n",
       "  </thead>\n",
       "  <tbody>\n",
       "    <tr>\n",
       "      <th>104</th>\n",
       "      <td>0.0</td>\n",
       "      <td>26</td>\n",
       "      <td>676</td>\n",
       "      <td>3.258097</td>\n",
       "      <td>0.762558</td>\n",
       "      <td>Amateur</td>\n",
       "      <td>Amateur</td>\n",
       "    </tr>\n",
       "    <tr>\n",
       "      <th>44</th>\n",
       "      <td>2.2</td>\n",
       "      <td>24</td>\n",
       "      <td>576</td>\n",
       "      <td>3.178054</td>\n",
       "      <td>-0.905578</td>\n",
       "      <td>Veteran</td>\n",
       "      <td>Amateur</td>\n",
       "    </tr>\n",
       "    <tr>\n",
       "      <th>100</th>\n",
       "      <td>0.0</td>\n",
       "      <td>20</td>\n",
       "      <td>400</td>\n",
       "      <td>2.995732</td>\n",
       "      <td>0.912945</td>\n",
       "      <td>Amateur</td>\n",
       "      <td>Amateur</td>\n",
       "    </tr>\n",
       "    <tr>\n",
       "      <th>121</th>\n",
       "      <td>0.1</td>\n",
       "      <td>24</td>\n",
       "      <td>576</td>\n",
       "      <td>3.178054</td>\n",
       "      <td>-0.905578</td>\n",
       "      <td>Beginner</td>\n",
       "      <td>Beginner</td>\n",
       "    </tr>\n",
       "    <tr>\n",
       "      <th>49</th>\n",
       "      <td>0.4</td>\n",
       "      <td>22</td>\n",
       "      <td>484</td>\n",
       "      <td>3.091042</td>\n",
       "      <td>-0.008851</td>\n",
       "      <td>Beginner</td>\n",
       "      <td>Amateur</td>\n",
       "    </tr>\n",
       "  </tbody>\n",
       "</table>\n",
       "</div>"
      ],
      "text/plain": [
       "     played_hours  age  squared_age   log_age   sin_age experience predicted\n",
       "104           0.0   26          676  3.258097  0.762558    Amateur   Amateur\n",
       "44            2.2   24          576  3.178054 -0.905578    Veteran   Amateur\n",
       "100           0.0   20          400  2.995732  0.912945    Amateur   Amateur\n",
       "121           0.1   24          576  3.178054 -0.905578   Beginner  Beginner\n",
       "49            0.4   22          484  3.091042 -0.008851   Beginner   Amateur"
      ]
     },
     "execution_count": 31,
     "metadata": {},
     "output_type": "execute_result"
    }
   ],
   "source": [
    "players_test[\"predicted\"] = players_tune_grid3.predict(\n",
    "    players_test[[\"age\", \"squared_age\", \"sin_age\", \"played_hours\"]]\n",
    ")\n",
    "\n",
    "players_test.head()"
   ]
  },
  {
   "cell_type": "markdown",
   "id": "698c4ebb-ae2c-4be7-a57a-f0f48039aa5d",
   "metadata": {},
   "source": [
    "#### Evaluating Model Accuracy on the Test Set \n",
    "\n",
    "The accuracy of the model was tested on the test data. Model 3 achieved an accuracy of approximately 28.6%, which is lower than both Model 1 and Model 2"
   ]
  },
  {
   "cell_type": "code",
   "execution_count": 32,
   "id": "8fc7b6a0-4095-42a6-8b3f-600c71558105",
   "metadata": {},
   "outputs": [
    {
     "data": {
      "text/plain": [
       "0.2857142857142857"
      ]
     },
     "execution_count": 32,
     "metadata": {},
     "output_type": "execute_result"
    }
   ],
   "source": [
    "# Evaluate the model's accuracy on the test set\n",
    "players_prediction_accuracy3 = players_tune_grid3.score(X_test3, y_test3)\n",
    "\n",
    "players_prediction_accuracy3"
   ]
  },
  {
   "cell_type": "code",
   "execution_count": 33,
   "id": "dc6196ac-bfca-4f55-a815-e8f2a84ff883",
   "metadata": {},
   "outputs": [
    {
     "data": {
      "text/plain": [
       "<sklearn.metrics._plot.confusion_matrix.ConfusionMatrixDisplay at 0x7f7175a0ae90>"
      ]
     },
     "execution_count": 33,
     "metadata": {},
     "output_type": "execute_result"
    },
    {
     "data": {
      "image/png": "[encoded data removed]",
      "text/plain": [
       "<Figure size 640x480 with 2 Axes>"
      ]
     },
     "metadata": {},
     "output_type": "display_data"
    }
   ],
   "source": [
    "# Fit the pipeline on the training set\n",
    "players_tune_pipe3.fit(X_train3, y_train3)\n",
    "\n",
    "# Generate and display the confusion matrix\n",
    "ConfusionMatrixDisplay.from_estimator(\n",
    "    players_tune_pipe3,  # We are directly passing the pipeline and let sklearn do the predictions for us\n",
    "    X_test3,\n",
    "    y_test3\n",
    ")"
   ]
  },
  {
   "cell_type": "markdown",
   "id": "f9eb894c-d339-485a-8c85-e4c70f2a297a",
   "metadata": {},
   "source": [
    "**Figure 9: Confusion matrix showing the performance of the classification model (model 3), with true labels and predicted labels**"
   ]
  },
  {
   "cell_type": "markdown",
   "id": "6b6e57ed-b858-403a-a886-64f4e97fcf7e",
   "metadata": {},
   "source": [
    "### Model 4"
   ]
  },
  {
   "cell_type": "markdown",
   "id": "2284f5f8-38a8-4cd6-b4d2-33f0c38b0e05",
   "metadata": {},
   "source": [
    "It seems like Model 3, despite incorporating an additional feature (sin_age), did not improve the accuracy, but instead decreased accuracy. As our final model, we will add one final predictor, log_age, to the model. The updated model will follow the same steps as before, including data preprocessing, standardization, and hyperparameter tuning, but with the new log_age feature incorporated"
   ]
  },
  {
   "cell_type": "code",
   "execution_count": 34,
   "id": "59f4dbe8-1ff5-42b6-9eba-1779185c6871",
   "metadata": {},
   "outputs": [
    {
     "data": {
      "text/html": [
       "<div>\n",
       "<style scoped>\n",
       "    .dataframe tbody tr th:only-of-type {\n",
       "        vertical-align: middle;\n",
       "    }\n",
       "\n",
       "    .dataframe tbody tr th {\n",
       "        vertical-align: top;\n",
       "    }\n",
       "\n",
       "    .dataframe thead th {\n",
       "        text-align: right;\n",
       "    }\n",
       "</style>\n",
       "<table border=\"1\" class=\"dataframe\">\n",
       "  <thead>\n",
       "    <tr style=\"text-align: right;\">\n",
       "      <th></th>\n",
       "      <th>standardscaler__age</th>\n",
       "      <th>standardscaler__squared_age</th>\n",
       "      <th>standardscaler__sin_age</th>\n",
       "      <th>standardscaler__log_age</th>\n",
       "      <th>standardscaler__played_hours</th>\n",
       "    </tr>\n",
       "  </thead>\n",
       "  <tbody>\n",
       "    <tr>\n",
       "      <th>99</th>\n",
       "      <td>-1.035241</td>\n",
       "      <td>-0.465698</td>\n",
       "      <td>-0.304809</td>\n",
       "      <td>-1.794907</td>\n",
       "      <td>-0.152896</td>\n",
       "    </tr>\n",
       "    <tr>\n",
       "      <th>86</th>\n",
       "      <td>0.173412</td>\n",
       "      <td>-0.014895</td>\n",
       "      <td>-0.719107</td>\n",
       "      <td>0.418631</td>\n",
       "      <td>-0.184696</td>\n",
       "    </tr>\n",
       "    <tr>\n",
       "      <th>32</th>\n",
       "      <td>-0.485853</td>\n",
       "      <td>-0.295915</td>\n",
       "      <td>-0.873211</td>\n",
       "      <td>-0.609840</td>\n",
       "      <td>-0.184696</td>\n",
       "    </tr>\n",
       "    <tr>\n",
       "      <th>20</th>\n",
       "      <td>-1.474751</td>\n",
       "      <td>-0.559371</td>\n",
       "      <td>1.736841</td>\n",
       "      <td>-3.174448</td>\n",
       "      <td>-0.165616</td>\n",
       "    </tr>\n",
       "    <tr>\n",
       "      <th>111</th>\n",
       "      <td>-0.046343</td>\n",
       "      <td>-0.117936</td>\n",
       "      <td>1.532529</td>\n",
       "      <td>0.109111</td>\n",
       "      <td>0.069699</td>\n",
       "    </tr>\n",
       "  </tbody>\n",
       "</table>\n",
       "</div>"
      ],
      "text/plain": [
       "     standardscaler__age  standardscaler__squared_age  \\\n",
       "99             -1.035241                    -0.465698   \n",
       "86              0.173412                    -0.014895   \n",
       "32             -0.485853                    -0.295915   \n",
       "20             -1.474751                    -0.559371   \n",
       "111            -0.046343                    -0.117936   \n",
       "\n",
       "     standardscaler__sin_age  standardscaler__log_age  \\\n",
       "99                 -0.304809                -1.794907   \n",
       "86                 -0.719107                 0.418631   \n",
       "32                 -0.873211                -0.609840   \n",
       "20                  1.736841                -3.174448   \n",
       "111                 1.532529                 0.109111   \n",
       "\n",
       "     standardscaler__played_hours  \n",
       "99                      -0.152896  \n",
       "86                      -0.184696  \n",
       "32                      -0.184696  \n",
       "20                      -0.165616  \n",
       "111                      0.069699  "
      ]
     },
     "execution_count": 34,
     "metadata": {},
     "output_type": "execute_result"
    }
   ],
   "source": [
    "# Preprocessor Setup\n",
    "players_preprocessor4 = make_column_transformer(\n",
    "    (StandardScaler(), [\"age\", \"squared_age\", \"sin_age\", \"log_age\", \"played_hours\"]),\n",
    ")\n",
    "\n",
    "# check if data is scaled\n",
    "players_scaled4 = players_preprocessor4.fit_transform(players_train)\n",
    "players_scaled4.head()"
   ]
  },
  {
   "cell_type": "code",
   "execution_count": 35,
   "id": "cddd07ed-b84a-4a90-81a5-a1af121a6177",
   "metadata": {},
   "outputs": [
    {
     "name": "stderr",
     "output_type": "stream",
     "text": [
      "/opt/conda/lib/python3.11/site-packages/numpy/ma/core.py:2846: RuntimeWarning: invalid value encountered in cast\n",
      "  _data = np.array(data, dtype=dtype, copy=copy,\n"
     ]
    },
    {
     "data": {
      "text/html": [
       "<div>\n",
       "<style scoped>\n",
       "    .dataframe tbody tr th:only-of-type {\n",
       "        vertical-align: middle;\n",
       "    }\n",
       "\n",
       "    .dataframe tbody tr th {\n",
       "        vertical-align: top;\n",
       "    }\n",
       "\n",
       "    .dataframe thead th {\n",
       "        text-align: right;\n",
       "    }\n",
       "</style>\n",
       "<table border=\"1\" class=\"dataframe\">\n",
       "  <thead>\n",
       "    <tr style=\"text-align: right;\">\n",
       "      <th></th>\n",
       "      <th>n_neighbors</th>\n",
       "      <th>mean_test_score</th>\n",
       "    </tr>\n",
       "  </thead>\n",
       "  <tbody>\n",
       "    <tr>\n",
       "      <th>0</th>\n",
       "      <td>1</td>\n",
       "      <td>0.272644</td>\n",
       "    </tr>\n",
       "    <tr>\n",
       "      <th>1</th>\n",
       "      <td>2</td>\n",
       "      <td>0.320690</td>\n",
       "    </tr>\n",
       "    <tr>\n",
       "      <th>2</th>\n",
       "      <td>3</td>\n",
       "      <td>0.292874</td>\n",
       "    </tr>\n",
       "    <tr>\n",
       "      <th>3</th>\n",
       "      <td>4</td>\n",
       "      <td>0.252414</td>\n",
       "    </tr>\n",
       "    <tr>\n",
       "      <th>4</th>\n",
       "      <td>5</td>\n",
       "      <td>0.265977</td>\n",
       "    </tr>\n",
       "  </tbody>\n",
       "</table>\n",
       "</div>"
      ],
      "text/plain": [
       "   n_neighbors  mean_test_score\n",
       "0            1         0.272644\n",
       "1            2         0.320690\n",
       "2            3         0.292874\n",
       "3            4         0.252414\n",
       "4            5         0.265977"
      ]
     },
     "execution_count": 35,
     "metadata": {},
     "output_type": "execute_result"
    }
   ],
   "source": [
    "# create X_train and y_train; X_test and y_test\n",
    "X_train4 = players_train[[\"age\", \"squared_age\", \"sin_age\", \"log_age\", \"played_hours\"]]\n",
    "y_train4 = players_train[\"experience\"]\n",
    "\n",
    "X_test4 = players_test[[\"age\", \"squared_age\", \"sin_age\", \"log_age\", \"played_hours\"]]\n",
    "y_test4 = players_test[\"experience\"]\n",
    "\n",
    "# Create a pipeline with preprocessing and KNN classifier\n",
    "players_tune_pipe4 = make_pipeline(players_preprocessor4, knn)\n",
    "\n",
    "# Initialize GridSearchCV for cross validation \n",
    "players_tune_grid4 = GridSearchCV(\n",
    "    estimator=players_tune_pipe4,         # Pipeline  \n",
    "    param_grid=param_grid,               # Parameter grid for tuning\n",
    "    cv=5                                 # 5-fold cross-validation\n",
    ")\n",
    "\n",
    "# Fit the GridSearchCV model to the training data\n",
    "players_tune_grid4.fit(X_train4, y_train4)\n",
    "\n",
    "# Store the cross-validation results in a DataFrame for analysis\n",
    "accuracies_grid4 = pd.DataFrame(players_tune_grid4.cv_results_)\n",
    "\n",
    "# Select relevant columns and rename them for clarity\n",
    "accuracies_grid4 = (\n",
    "    accuracies_grid4[[\n",
    "        \"param_kneighborsclassifier__n_neighbors\",\n",
    "        \"mean_test_score\"\n",
    "    ]]\n",
    "    .rename(columns={\"param_kneighborsclassifier__n_neighbors\": \"n_neighbors\"})\n",
    ")\n",
    "\n",
    "accuracies_grid4.head()"
   ]
  },
  {
   "cell_type": "markdown",
   "id": "f10fc664-dc5e-4509-9e9f-501754c25e8c",
   "metadata": {},
   "source": [
    "#### Identifying the Best K Value\n",
    "We created a line plot to visualize the relationship between the number of neighbors (n_neighbors) and the corresponding accuracy estimates (mean_test_score). The accuracy peaks at 9, meaning this is the best performing K value. Using the results from the GridSearchCV, the best-performing K value was confirmed to be K = 9, which yielded the highest accuracy based on cross-validation."
   ]
  },
  {
   "cell_type": "code",
   "execution_count": 36,
   "id": "7c721a12-96a6-4c41-a24b-51a3d9bef7b6",
   "metadata": {},
   "outputs": [
    {
     "data": {
      "text/html": [
       "\n",
       "<style>\n",
       "  #altair-viz-be2e0915ab384d55af4457806b87acc2.vega-embed {\n",
       "    width: 100%;\n",
       "    display: flex;\n",
       "  }\n",
       "\n",
       "  #altair-viz-be2e0915ab384d55af4457806b87acc2.vega-embed details,\n",
       "  #altair-viz-be2e0915ab384d55af4457806b87acc2.vega-embed details summary {\n",
       "    position: relative;\n",
       "  }\n",
       "</style>\n",
       "<div id=\"altair-viz-be2e0915ab384d55af4457806b87acc2\"></div>\n",
       "<script type=\"text/javascript\">\n",
       "  var VEGA_DEBUG = (typeof VEGA_DEBUG == \"undefined\") ? {} : VEGA_DEBUG;\n",
       "  (function(spec, embedOpt){\n",
       "    let outputDiv = document.currentScript.previousElementSibling;\n",
       "    if (outputDiv.id !== \"altair-viz-be2e0915ab384d55af4457806b87acc2\") {\n",
       "      outputDiv = document.getElementById(\"altair-viz-be2e0915ab384d55af4457806b87acc2\");\n",
       "    }\n",
       "    const paths = {\n",
       "      \"vega\": \"https://cdn.jsdelivr.net/npm/vega@5?noext\",\n",
       "      \"vega-lib\": \"https://cdn.jsdelivr.net/npm/vega-lib?noext\",\n",
       "      \"vega-lite\": \"https://cdn.jsdelivr.net/npm/vega-lite@5.20.1?noext\",\n",
       "      \"vega-embed\": \"https://cdn.jsdelivr.net/npm/vega-embed@6?noext\",\n",
       "    };\n",
       "\n",
       "    function maybeLoadScript(lib, version) {\n",
       "      var key = `${lib.replace(\"-\", \"\")}_version`;\n",
       "      return (VEGA_DEBUG[key] == version) ?\n",
       "        Promise.resolve(paths[lib]) :\n",
       "        new Promise(function(resolve, reject) {\n",
       "          var s = document.createElement('script');\n",
       "          document.getElementsByTagName(\"head\")[0].appendChild(s);\n",
       "          s.async = true;\n",
       "          s.onload = () => {\n",
       "            VEGA_DEBUG[key] = version;\n",
       "            return resolve(paths[lib]);\n",
       "          };\n",
       "          s.onerror = () => reject(`Error loading script: ${paths[lib]}`);\n",
       "          s.src = paths[lib];\n",
       "        });\n",
       "    }\n",
       "\n",
       "    function showError(err) {\n",
       "      outputDiv.innerHTML = `<div class=\"error\" style=\"color:red;\">${err}</div>`;\n",
       "      throw err;\n",
       "    }\n",
       "\n",
       "    function displayChart(vegaEmbed) {\n",
       "      vegaEmbed(outputDiv, spec, embedOpt)\n",
       "        .catch(err => showError(`Javascript Error: ${err.message}<br>This usually means there's a typo in your chart specification. See the javascript console for the full traceback.`));\n",
       "    }\n",
       "\n",
       "    if(typeof define === \"function\" && define.amd) {\n",
       "      requirejs.config({paths});\n",
       "      require([\"vega-embed\"], displayChart, err => showError(`Error loading script: ${err.message}`));\n",
       "    } else {\n",
       "      maybeLoadScript(\"vega\", \"5\")\n",
       "        .then(() => maybeLoadScript(\"vega-lite\", \"5.20.1\"))\n",
       "        .then(() => maybeLoadScript(\"vega-embed\", \"6\"))\n",
       "        .catch(showError)\n",
       "        .then(() => displayChart(vegaEmbed));\n",
       "    }\n",
       "  })({\"$schema\": \"https://vega.github.io/schema/vega/v5.json\", \"data\": [{\"name\": \"source_0\", \"values\": [{\"mean_test_score\": 0.27264367816091956, \"n_neighbors\": 1}, {\"mean_test_score\": 0.32068965517241377, \"n_neighbors\": 2}, {\"mean_test_score\": 0.29287356321839086, \"n_neighbors\": 3}, {\"mean_test_score\": 0.2524137931034483, \"n_neighbors\": 4}, {\"mean_test_score\": 0.26597701149425285, \"n_neighbors\": 5}, {\"mean_test_score\": 0.26597701149425285, \"n_neighbors\": 6}, {\"mean_test_score\": 0.27264367816091956, \"n_neighbors\": 7}, {\"mean_test_score\": 0.28597701149425286, \"n_neighbors\": 8}, {\"mean_test_score\": 0.3268965517241379, \"n_neighbors\": 9}, {\"mean_test_score\": 0.3064367816091954, \"n_neighbors\": 10}, {\"mean_test_score\": 0.29954022988505746, \"n_neighbors\": 11}, {\"mean_test_score\": 0.3264367816091954, \"n_neighbors\": 12}, {\"mean_test_score\": 0.32620689655172413, \"n_neighbors\": 13}, {\"mean_test_score\": 0.3059770114942529, \"n_neighbors\": 14}, {\"mean_test_score\": 0.3059770114942529, \"n_neighbors\": 15}, {\"mean_test_score\": 0.2993103448275862, \"n_neighbors\": 16}, {\"mean_test_score\": 0.26482758620689656, \"n_neighbors\": 17}, {\"mean_test_score\": 0.27839080459770116, \"n_neighbors\": 18}, {\"mean_test_score\": 0.25103448275862067, \"n_neighbors\": 19}, {\"mean_test_score\": 0.27218390804597703, \"n_neighbors\": 20}, {\"mean_test_score\": 0.2852873563218391, \"n_neighbors\": 21}, {\"mean_test_score\": 0.292183908045977, \"n_neighbors\": 22}, {\"mean_test_score\": 0.2719540229885058, \"n_neighbors\": 23}, {\"mean_test_score\": 0.26505747126436785, \"n_neighbors\": 24}, {\"mean_test_score\": 0.2993103448275862, \"n_neighbors\": 25}, {\"mean_test_score\": 0.28551724137931034, \"n_neighbors\": 26}, {\"mean_test_score\": 0.2655172413793103, \"n_neighbors\": 27}, {\"mean_test_score\": 0.25862068965517243, \"n_neighbors\": 28}, {\"mean_test_score\": 0.2719540229885058, \"n_neighbors\": 29}, {\"mean_test_score\": 0.2381609195402299, \"n_neighbors\": 30}, {\"mean_test_score\": 0.2514942528735632, \"n_neighbors\": 31}, {\"mean_test_score\": 0.25126436781609196, \"n_neighbors\": 32}, {\"mean_test_score\": 0.24459770114942528, \"n_neighbors\": 33}, {\"mean_test_score\": 0.2514942528735632, \"n_neighbors\": 34}, {\"mean_test_score\": 0.2514942528735632, \"n_neighbors\": 35}, {\"mean_test_score\": 0.2514942528735632, \"n_neighbors\": 36}, {\"mean_test_score\": 0.25839080459770114, \"n_neighbors\": 37}, {\"mean_test_score\": 0.2652873563218391, \"n_neighbors\": 38}, {\"mean_test_score\": 0.279080459770115, \"n_neighbors\": 39}, {\"mean_test_score\": 0.279080459770115, \"n_neighbors\": 40}, {\"mean_test_score\": 0.27218390804597703, \"n_neighbors\": 41}, {\"mean_test_score\": 0.279080459770115, \"n_neighbors\": 42}, {\"mean_test_score\": 0.2652873563218391, \"n_neighbors\": 43}, {\"mean_test_score\": 0.2857471264367816, \"n_neighbors\": 44}, {\"mean_test_score\": 0.27885057471264363, \"n_neighbors\": 45}, {\"mean_test_score\": 0.2719540229885058, \"n_neighbors\": 46}, {\"mean_test_score\": 0.25816091954022985, \"n_neighbors\": 47}, {\"mean_test_score\": 0.25816091954022985, \"n_neighbors\": 48}, {\"mean_test_score\": 0.27195402298850574, \"n_neighbors\": 49}, {\"mean_test_score\": 0.27862068965517245, \"n_neighbors\": 50}, {\"mean_test_score\": 0.27172413793103445, \"n_neighbors\": 51}, {\"mean_test_score\": 0.27862068965517245, \"n_neighbors\": 52}, {\"mean_test_score\": 0.2650574712643678, \"n_neighbors\": 53}, {\"mean_test_score\": 0.27862068965517245, \"n_neighbors\": 54}, {\"mean_test_score\": 0.27862068965517245, \"n_neighbors\": 55}, {\"mean_test_score\": 0.2924137931034482, \"n_neighbors\": 56}, {\"mean_test_score\": 0.2993103448275862, \"n_neighbors\": 57}, {\"mean_test_score\": 0.2993103448275862, \"n_neighbors\": 58}, {\"mean_test_score\": 0.29954022988505746, \"n_neighbors\": 59}, {\"mean_test_score\": 0.29931034482758617, \"n_neighbors\": 60}, {\"mean_test_score\": 0.31310344827586206, \"n_neighbors\": 61}, {\"mean_test_score\": 0.31310344827586206, \"n_neighbors\": 62}, {\"mean_test_score\": 0.31310344827586206, \"n_neighbors\": 63}, {\"mean_test_score\": 0.3197701149425287, \"n_neighbors\": 64}, {\"mean_test_score\": 0.3197701149425287, \"n_neighbors\": 65}, {\"mean_test_score\": 0.31310344827586206, \"n_neighbors\": 66}, {\"mean_test_score\": 0.31310344827586206, \"n_neighbors\": 67}, {\"mean_test_score\": 0.31999999999999995, \"n_neighbors\": 68}, {\"mean_test_score\": 0.31999999999999995, \"n_neighbors\": 69}, {\"mean_test_score\": 0.31999999999999995, \"n_neighbors\": 70}, {\"mean_test_score\": 0.313103448275862, \"n_neighbors\": 71}, {\"mean_test_score\": 0.31999999999999995, \"n_neighbors\": 72}, {\"mean_test_score\": 0.31310344827586206, \"n_neighbors\": 73}, {\"mean_test_score\": 0.31310344827586206, \"n_neighbors\": 74}, {\"mean_test_score\": 0.3197701149425287, \"n_neighbors\": 75}, {\"mean_test_score\": 0.3197701149425287, \"n_neighbors\": 76}, {\"mean_test_score\": 0.3197701149425287, \"n_neighbors\": 77}, {\"mean_test_score\": 0.31310344827586206, \"n_neighbors\": 78}, {\"mean_test_score\": 0.3197701149425287, \"n_neighbors\": 79}, {\"mean_test_score\": 0.3197701149425287, \"n_neighbors\": 80}, {\"mean_test_score\": 0.3197701149425287, \"n_neighbors\": 81}, {\"mean_test_score\": 0.3197701149425287, \"n_neighbors\": 82}, {\"mean_test_score\": 0.3197701149425287, \"n_neighbors\": 83}, {\"mean_test_score\": 0.3197701149425287, \"n_neighbors\": 84}, {\"mean_test_score\": 0.3197701149425287, \"n_neighbors\": 85}, {\"mean_test_score\": 0.3197701149425287, \"n_neighbors\": 86}, {\"mean_test_score\": 0.3197701149425287, \"n_neighbors\": 87}, {\"mean_test_score\": 0.3197701149425287, \"n_neighbors\": 88}, {\"mean_test_score\": 0.3197701149425287, \"n_neighbors\": 89}, {\"mean_test_score\": 0.3197701149425287, \"n_neighbors\": 90}, {\"mean_test_score\": 0.3197701149425287, \"n_neighbors\": 91}, {\"mean_test_score\": 0.3197701149425287, \"n_neighbors\": 92}, {\"mean_test_score\": 0.3197701149425287, \"n_neighbors\": 93}, {\"mean_test_score\": 0.3197701149425287, \"n_neighbors\": 94}, {\"mean_test_score\": 0.3197701149425287, \"n_neighbors\": 95}, {\"mean_test_score\": 0.3197701149425287, \"n_neighbors\": 96}, {\"mean_test_score\": 0.3197701149425287, \"n_neighbors\": 97}, {\"mean_test_score\": 0.3197701149425287, \"n_neighbors\": 98}, {\"mean_test_score\": 0.3197701149425287, \"n_neighbors\": 99}]}, {\"name\": \"data_0\", \"values\": [{\"mean_test_score\": 0.27264367816091956, \"n_neighbors\": 1}, {\"mean_test_score\": 0.32068965517241377, \"n_neighbors\": 2}, {\"mean_test_score\": 0.29287356321839086, \"n_neighbors\": 3}, {\"mean_test_score\": 0.2524137931034483, \"n_neighbors\": 4}, {\"mean_test_score\": 0.26597701149425285, \"n_neighbors\": 5}, {\"mean_test_score\": 0.26597701149425285, \"n_neighbors\": 6}, {\"mean_test_score\": 0.27264367816091956, \"n_neighbors\": 7}, {\"mean_test_score\": 0.28597701149425286, \"n_neighbors\": 8}, {\"mean_test_score\": 0.3268965517241379, \"n_neighbors\": 9}, {\"mean_test_score\": 0.3064367816091954, \"n_neighbors\": 10}, {\"mean_test_score\": 0.29954022988505746, \"n_neighbors\": 11}, {\"mean_test_score\": 0.3264367816091954, \"n_neighbors\": 12}, {\"mean_test_score\": 0.32620689655172413, \"n_neighbors\": 13}, {\"mean_test_score\": 0.3059770114942529, \"n_neighbors\": 14}, {\"mean_test_score\": 0.3059770114942529, \"n_neighbors\": 15}, {\"mean_test_score\": 0.2993103448275862, \"n_neighbors\": 16}, {\"mean_test_score\": 0.26482758620689656, \"n_neighbors\": 17}, {\"mean_test_score\": 0.27839080459770116, \"n_neighbors\": 18}, {\"mean_test_score\": 0.25103448275862067, \"n_neighbors\": 19}, {\"mean_test_score\": 0.27218390804597703, \"n_neighbors\": 20}, {\"mean_test_score\": 0.2852873563218391, \"n_neighbors\": 21}, {\"mean_test_score\": 0.292183908045977, \"n_neighbors\": 22}, {\"mean_test_score\": 0.2719540229885058, \"n_neighbors\": 23}, {\"mean_test_score\": 0.26505747126436785, \"n_neighbors\": 24}, {\"mean_test_score\": 0.2993103448275862, \"n_neighbors\": 25}, {\"mean_test_score\": 0.28551724137931034, \"n_neighbors\": 26}, {\"mean_test_score\": 0.2655172413793103, \"n_neighbors\": 27}, {\"mean_test_score\": 0.25862068965517243, \"n_neighbors\": 28}, {\"mean_test_score\": 0.2719540229885058, \"n_neighbors\": 29}, {\"mean_test_score\": 0.2381609195402299, \"n_neighbors\": 30}, {\"mean_test_score\": 0.2514942528735632, \"n_neighbors\": 31}, {\"mean_test_score\": 0.25126436781609196, \"n_neighbors\": 32}, {\"mean_test_score\": 0.24459770114942528, \"n_neighbors\": 33}, {\"mean_test_score\": 0.2514942528735632, \"n_neighbors\": 34}, {\"mean_test_score\": 0.2514942528735632, \"n_neighbors\": 35}, {\"mean_test_score\": 0.2514942528735632, \"n_neighbors\": 36}, {\"mean_test_score\": 0.25839080459770114, \"n_neighbors\": 37}, {\"mean_test_score\": 0.2652873563218391, \"n_neighbors\": 38}, {\"mean_test_score\": 0.279080459770115, \"n_neighbors\": 39}, {\"mean_test_score\": 0.279080459770115, \"n_neighbors\": 40}, {\"mean_test_score\": 0.27218390804597703, \"n_neighbors\": 41}, {\"mean_test_score\": 0.279080459770115, \"n_neighbors\": 42}, {\"mean_test_score\": 0.2652873563218391, \"n_neighbors\": 43}, {\"mean_test_score\": 0.2857471264367816, \"n_neighbors\": 44}, {\"mean_test_score\": 0.27885057471264363, \"n_neighbors\": 45}, {\"mean_test_score\": 0.2719540229885058, \"n_neighbors\": 46}, {\"mean_test_score\": 0.25816091954022985, \"n_neighbors\": 47}, {\"mean_test_score\": 0.25816091954022985, \"n_neighbors\": 48}, {\"mean_test_score\": 0.27195402298850574, \"n_neighbors\": 49}, {\"mean_test_score\": 0.27862068965517245, \"n_neighbors\": 50}, {\"mean_test_score\": 0.27172413793103445, \"n_neighbors\": 51}, {\"mean_test_score\": 0.27862068965517245, \"n_neighbors\": 52}, {\"mean_test_score\": 0.2650574712643678, \"n_neighbors\": 53}, {\"mean_test_score\": 0.27862068965517245, \"n_neighbors\": 54}, {\"mean_test_score\": 0.27862068965517245, \"n_neighbors\": 55}, {\"mean_test_score\": 0.2924137931034482, \"n_neighbors\": 56}, {\"mean_test_score\": 0.2993103448275862, \"n_neighbors\": 57}, {\"mean_test_score\": 0.2993103448275862, \"n_neighbors\": 58}, {\"mean_test_score\": 0.29954022988505746, \"n_neighbors\": 59}, {\"mean_test_score\": 0.29931034482758617, \"n_neighbors\": 60}, {\"mean_test_score\": 0.31310344827586206, \"n_neighbors\": 61}, {\"mean_test_score\": 0.31310344827586206, \"n_neighbors\": 62}, {\"mean_test_score\": 0.31310344827586206, \"n_neighbors\": 63}, {\"mean_test_score\": 0.3197701149425287, \"n_neighbors\": 64}, {\"mean_test_score\": 0.3197701149425287, \"n_neighbors\": 65}, {\"mean_test_score\": 0.31310344827586206, \"n_neighbors\": 66}, {\"mean_test_score\": 0.31310344827586206, \"n_neighbors\": 67}, {\"mean_test_score\": 0.31999999999999995, \"n_neighbors\": 68}, {\"mean_test_score\": 0.31999999999999995, \"n_neighbors\": 69}, {\"mean_test_score\": 0.31999999999999995, \"n_neighbors\": 70}, {\"mean_test_score\": 0.313103448275862, \"n_neighbors\": 71}, {\"mean_test_score\": 0.31999999999999995, \"n_neighbors\": 72}, {\"mean_test_score\": 0.31310344827586206, \"n_neighbors\": 73}, {\"mean_test_score\": 0.31310344827586206, \"n_neighbors\": 74}, {\"mean_test_score\": 0.3197701149425287, \"n_neighbors\": 75}, {\"mean_test_score\": 0.3197701149425287, \"n_neighbors\": 76}, {\"mean_test_score\": 0.3197701149425287, \"n_neighbors\": 77}, {\"mean_test_score\": 0.31310344827586206, \"n_neighbors\": 78}, {\"mean_test_score\": 0.3197701149425287, \"n_neighbors\": 79}, {\"mean_test_score\": 0.3197701149425287, \"n_neighbors\": 80}, {\"mean_test_score\": 0.3197701149425287, \"n_neighbors\": 81}, {\"mean_test_score\": 0.3197701149425287, \"n_neighbors\": 82}, {\"mean_test_score\": 0.3197701149425287, \"n_neighbors\": 83}, {\"mean_test_score\": 0.3197701149425287, \"n_neighbors\": 84}, {\"mean_test_score\": 0.3197701149425287, \"n_neighbors\": 85}, {\"mean_test_score\": 0.3197701149425287, \"n_neighbors\": 86}, {\"mean_test_score\": 0.3197701149425287, \"n_neighbors\": 87}, {\"mean_test_score\": 0.3197701149425287, \"n_neighbors\": 88}, {\"mean_test_score\": 0.3197701149425287, \"n_neighbors\": 89}, {\"mean_test_score\": 0.3197701149425287, \"n_neighbors\": 90}, {\"mean_test_score\": 0.3197701149425287, \"n_neighbors\": 91}, {\"mean_test_score\": 0.3197701149425287, \"n_neighbors\": 92}, {\"mean_test_score\": 0.3197701149425287, \"n_neighbors\": 93}, {\"mean_test_score\": 0.3197701149425287, \"n_neighbors\": 94}, {\"mean_test_score\": 0.3197701149425287, \"n_neighbors\": 95}, {\"mean_test_score\": 0.3197701149425287, \"n_neighbors\": 96}, {\"mean_test_score\": 0.3197701149425287, \"n_neighbors\": 97}, {\"mean_test_score\": 0.3197701149425287, \"n_neighbors\": 98}, {\"mean_test_score\": 0.3197701149425287, \"n_neighbors\": 99}]}], \"marks\": [{\"type\": \"line\", \"name\": \"layer_0_marks\", \"from\": {\"data\": \"source_0\"}, \"sort\": {\"field\": \"x\"}, \"encode\": {\"update\": {\"y\": {\"field\": \"mean_test_score\", \"scale\": \"y\"}, \"defined\": {\"signal\": \"isValid(datum[\\\"n_neighbors\\\"]) && isFinite(+datum[\\\"n_neighbors\\\"]) && isValid(datum[\\\"mean_test_score\\\"]) && isFinite(+datum[\\\"mean_test_score\\\"])\"}, \"stroke\": {\"value\": \"#4c78a8\"}, \"x\": {\"field\": \"n_neighbors\", \"scale\": \"x\"}}}, \"style\": [\"line\"]}, {\"type\": \"symbol\", \"name\": \"layer_1_marks\", \"from\": {\"data\": \"data_0\"}, \"encode\": {\"update\": {\"x\": {\"field\": \"n_neighbors\", \"scale\": \"x\"}, \"y\": {\"field\": \"mean_test_score\", \"scale\": \"y\"}, \"opacity\": {\"value\": 1}, \"fill\": {\"value\": \"#4c78a8\"}}}, \"style\": [\"point\"]}], \"scales\": [{\"name\": \"x\", \"type\": \"linear\", \"domain\": {\"fields\": [{\"data\": \"source_0\", \"field\": \"n_neighbors\"}, {\"data\": \"data_0\", \"field\": \"n_neighbors\"}]}, \"range\": [0, {\"signal\": \"width\"}], \"nice\": true, \"zero\": false}, {\"name\": \"y\", \"type\": \"linear\", \"domain\": {\"fields\": [{\"data\": \"source_0\", \"field\": \"mean_test_score\"}, {\"data\": \"data_0\", \"field\": \"mean_test_score\"}]}, \"range\": [{\"signal\": \"height\"}, 0], \"zero\": false, \"nice\": true}], \"axes\": [{\"scale\": \"x\", \"ticks\": false, \"labels\": false, \"aria\": false, \"gridScale\": \"y\", \"orient\": \"bottom\", \"maxExtent\": 0, \"minExtent\": 0, \"zindex\": 0, \"grid\": true, \"tickCount\": {\"signal\": \"ceil(width/40)\"}, \"domain\": false}, {\"scale\": \"y\", \"aria\": false, \"domain\": false, \"maxExtent\": 0, \"grid\": true, \"labels\": false, \"orient\": \"left\", \"gridScale\": \"x\", \"minExtent\": 0, \"ticks\": false, \"tickCount\": {\"signal\": \"ceil(height/40)\"}, \"zindex\": 0}, {\"scale\": \"x\", \"labelOverlap\": true, \"zindex\": 0, \"title\": \"Neighbors\", \"tickCount\": {\"signal\": \"ceil(width/40)\"}, \"orient\": \"bottom\", \"grid\": false, \"labelFlush\": true}, {\"scale\": \"y\", \"tickCount\": {\"signal\": \"ceil(height/40)\"}, \"title\": \"Accuracy estimate\", \"grid\": false, \"orient\": \"left\", \"zindex\": 0, \"labelOverlap\": true}], \"title\": {\"text\": \"Neighbors vs. Accuracy Estimate\", \"frame\": \"group\"}, \"background\": \"white\", \"padding\": 5, \"height\": 300, \"style\": \"cell\", \"width\": 300}, {\"mode\": \"vega\"});\n",
       "</script>"
      ],
      "text/plain": [
       "alt.Chart(...)"
      ]
     },
     "execution_count": 36,
     "metadata": {},
     "output_type": "execute_result"
    }
   ],
   "source": [
    "# Create a line plot to visualize the accuracy vs. number of neighbors\n",
    "accuracy_vs_k4 = alt.Chart(accuracies_grid4).mark_line(point=True).encode(\n",
    "    x=alt.X(\"n_neighbors\").title(\"Neighbors\"),\n",
    "    y=alt.Y(\"mean_test_score\")\n",
    "        .scale(zero=False)\n",
    "        .title(\"Accuracy estimate\")\n",
    ").properties(\n",
    "    title=\"Neighbors vs. Accuracy Estimate\"\n",
    ")\n",
    "\n",
    "accuracy_vs_k4"
   ]
  },
  {
   "cell_type": "markdown",
   "id": "8bad605b-5666-495c-838f-f05cd4d35506",
   "metadata": {},
   "source": [
    "**Figure 10: Line Plot showing the accuracy estimate vs the number of neighbors**"
   ]
  },
  {
   "cell_type": "code",
   "execution_count": 37,
   "id": "5282ba68-3f22-4d7a-a62d-d9d26f238e21",
   "metadata": {},
   "outputs": [
    {
     "data": {
      "text/plain": [
       "{'kneighborsclassifier__n_neighbors': 9}"
      ]
     },
     "execution_count": 37,
     "metadata": {},
     "output_type": "execute_result"
    }
   ],
   "source": [
    "# Display the best parameter (K = 9)\n",
    "players_tune_grid4.best_params_"
   ]
  },
  {
   "cell_type": "code",
   "execution_count": 38,
   "id": "0781478d-9cd1-4f39-8fa1-3f0fe78ba9ec",
   "metadata": {},
   "outputs": [
    {
     "data": {
      "text/html": [
       "<div>\n",
       "<style scoped>\n",
       "    .dataframe tbody tr th:only-of-type {\n",
       "        vertical-align: middle;\n",
       "    }\n",
       "\n",
       "    .dataframe tbody tr th {\n",
       "        vertical-align: top;\n",
       "    }\n",
       "\n",
       "    .dataframe thead th {\n",
       "        text-align: right;\n",
       "    }\n",
       "</style>\n",
       "<table border=\"1\" class=\"dataframe\">\n",
       "  <thead>\n",
       "    <tr style=\"text-align: right;\">\n",
       "      <th></th>\n",
       "      <th>played_hours</th>\n",
       "      <th>age</th>\n",
       "      <th>squared_age</th>\n",
       "      <th>log_age</th>\n",
       "      <th>sin_age</th>\n",
       "      <th>experience</th>\n",
       "      <th>predicted</th>\n",
       "    </tr>\n",
       "  </thead>\n",
       "  <tbody>\n",
       "    <tr>\n",
       "      <th>104</th>\n",
       "      <td>0.0</td>\n",
       "      <td>26</td>\n",
       "      <td>676</td>\n",
       "      <td>3.258097</td>\n",
       "      <td>0.762558</td>\n",
       "      <td>Amateur</td>\n",
       "      <td>Amateur</td>\n",
       "    </tr>\n",
       "    <tr>\n",
       "      <th>44</th>\n",
       "      <td>2.2</td>\n",
       "      <td>24</td>\n",
       "      <td>576</td>\n",
       "      <td>3.178054</td>\n",
       "      <td>-0.905578</td>\n",
       "      <td>Veteran</td>\n",
       "      <td>Amateur</td>\n",
       "    </tr>\n",
       "    <tr>\n",
       "      <th>100</th>\n",
       "      <td>0.0</td>\n",
       "      <td>20</td>\n",
       "      <td>400</td>\n",
       "      <td>2.995732</td>\n",
       "      <td>0.912945</td>\n",
       "      <td>Amateur</td>\n",
       "      <td>Regular</td>\n",
       "    </tr>\n",
       "    <tr>\n",
       "      <th>121</th>\n",
       "      <td>0.1</td>\n",
       "      <td>24</td>\n",
       "      <td>576</td>\n",
       "      <td>3.178054</td>\n",
       "      <td>-0.905578</td>\n",
       "      <td>Beginner</td>\n",
       "      <td>Amateur</td>\n",
       "    </tr>\n",
       "    <tr>\n",
       "      <th>49</th>\n",
       "      <td>0.4</td>\n",
       "      <td>22</td>\n",
       "      <td>484</td>\n",
       "      <td>3.091042</td>\n",
       "      <td>-0.008851</td>\n",
       "      <td>Beginner</td>\n",
       "      <td>Amateur</td>\n",
       "    </tr>\n",
       "  </tbody>\n",
       "</table>\n",
       "</div>"
      ],
      "text/plain": [
       "     played_hours  age  squared_age   log_age   sin_age experience predicted\n",
       "104           0.0   26          676  3.258097  0.762558    Amateur   Amateur\n",
       "44            2.2   24          576  3.178054 -0.905578    Veteran   Amateur\n",
       "100           0.0   20          400  2.995732  0.912945    Amateur   Regular\n",
       "121           0.1   24          576  3.178054 -0.905578   Beginner   Amateur\n",
       "49            0.4   22          484  3.091042 -0.008851   Beginner   Amateur"
      ]
     },
     "execution_count": 38,
     "metadata": {},
     "output_type": "execute_result"
    }
   ],
   "source": [
    "players_test[\"predicted\"] = players_tune_grid4.predict(\n",
    "    players_test[[\"age\", \"squared_age\", \"sin_age\", \"log_age\", \"played_hours\"]]\n",
    ")\n",
    "\n",
    "players_test.head()"
   ]
  },
  {
   "cell_type": "markdown",
   "id": "55eecf88-aae7-49ac-ae48-8b95abd9dee2",
   "metadata": {},
   "source": [
    "#### Evaluating Model Accuracy on the Test Set \n",
    "\n",
    "The accuracy of the model was tested on the test data. Model 4 achieved an accuracy of approximately 28.6%, which is the same as Model 3"
   ]
  },
  {
   "cell_type": "code",
   "execution_count": 39,
   "id": "ea80ea79-c5b9-4da3-95c5-9fc8e968543e",
   "metadata": {},
   "outputs": [
    {
     "data": {
      "text/plain": [
       "0.2857142857142857"
      ]
     },
     "execution_count": 39,
     "metadata": {},
     "output_type": "execute_result"
    }
   ],
   "source": [
    "# Evaluate the model's accuracy on the test set\n",
    "players_prediction_accuracy4 = players_tune_grid4.score(X_test4, y_test4)\n",
    "\n",
    "players_prediction_accuracy4"
   ]
  },
  {
   "cell_type": "code",
   "execution_count": 40,
   "id": "ef7a7b41-eae5-49ea-9285-e783dcbee653",
   "metadata": {},
   "outputs": [
    {
     "data": {
      "text/plain": [
       "<sklearn.metrics._plot.confusion_matrix.ConfusionMatrixDisplay at 0x7f707a840a50>"
      ]
     },
     "execution_count": 40,
     "metadata": {},
     "output_type": "execute_result"
    },
    {
     "data": {
      "image/png": "[encoded data removed]",
      "text/plain": [
       "<Figure size 640x480 with 2 Axes>"
      ]
     },
     "metadata": {},
     "output_type": "display_data"
    }
   ],
   "source": [
    "# Fit the pipeline on the training set\n",
    "players_tune_pipe4.fit(X_train4, y_train4)\n",
    "\n",
    "# Generate and display the confusion matrix\n",
    "ConfusionMatrixDisplay.from_estimator(\n",
    "    players_tune_pipe4,  # We are directly passing the pipeline and let sklearn do the predictions for us\n",
    "    X_test4,\n",
    "    y_test4\n",
    ")"
   ]
  },
  {
   "cell_type": "markdown",
   "id": "588ad49e-9b41-4e54-98fc-7f0ecb7ab977",
   "metadata": {},
   "source": [
    "**Figure 11: Confusion matrix showing the performance of the classification model (model), with true labels and predicted labels**"
   ]
  },
  {
   "cell_type": "markdown",
   "id": "40be7469-50ca-4d7f-a98d-623d625b1444",
   "metadata": {},
   "source": [
    "### Choosing the Best Model"
   ]
  },
  {
   "cell_type": "markdown",
   "id": "3e792eff-8bb0-4ef2-b5c7-6853270dcce8",
   "metadata": {},
   "source": [
    "After evaluating the performance of multiple models, we compiled the accuracy scores for each model into a DataFrame:"
   ]
  },
  {
   "cell_type": "code",
   "execution_count": 41,
   "id": "96bff421-6fa6-4dae-8f46-b5791e40c43b",
   "metadata": {},
   "outputs": [
    {
     "data": {
      "text/html": [
       "<div>\n",
       "<style scoped>\n",
       "    .dataframe tbody tr th:only-of-type {\n",
       "        vertical-align: middle;\n",
       "    }\n",
       "\n",
       "    .dataframe tbody tr th {\n",
       "        vertical-align: top;\n",
       "    }\n",
       "\n",
       "    .dataframe thead th {\n",
       "        text-align: right;\n",
       "    }\n",
       "</style>\n",
       "<table border=\"1\" class=\"dataframe\">\n",
       "  <thead>\n",
       "    <tr style=\"text-align: right;\">\n",
       "      <th></th>\n",
       "      <th>model number</th>\n",
       "      <th>accuracy score</th>\n",
       "    </tr>\n",
       "  </thead>\n",
       "  <tbody>\n",
       "    <tr>\n",
       "      <th>0</th>\n",
       "      <td>1</td>\n",
       "      <td>0.35</td>\n",
       "    </tr>\n",
       "    <tr>\n",
       "      <th>1</th>\n",
       "      <td>2</td>\n",
       "      <td>0.35</td>\n",
       "    </tr>\n",
       "    <tr>\n",
       "      <th>2</th>\n",
       "      <td>3</td>\n",
       "      <td>0.29</td>\n",
       "    </tr>\n",
       "    <tr>\n",
       "      <th>3</th>\n",
       "      <td>4</td>\n",
       "      <td>0.29</td>\n",
       "    </tr>\n",
       "  </tbody>\n",
       "</table>\n",
       "</div>"
      ],
      "text/plain": [
       "   model number  accuracy score\n",
       "0             1            0.35\n",
       "1             2            0.35\n",
       "2             3            0.29\n",
       "3             4            0.29"
      ]
     },
     "execution_count": 41,
     "metadata": {},
     "output_type": "execute_result"
    }
   ],
   "source": [
    "combined_accuracy = pd.DataFrame({\n",
    "    \"model number\": [1, 2, 3, 4], \n",
    "    \"accuracy score\": [0.35, 0.35, 0.29, 0.29]})\n",
    "\n",
    "combined_accuracy"
   ]
  },
  {
   "cell_type": "markdown",
   "id": "002d5eea-874d-4119-88c6-84e7c7d15405",
   "metadata": {},
   "source": [
    "Given that Model 1 and Model 2 have the same accuracy of **0.35**, but Model 1 uses the original predictor variables without any feature engineering, we will select **Model 1** as the 'best' model. This decision is based on the fact that Model 1 maintains simplicity by relying on the original variables, making it more interpretable. "
   ]
  },
  {
   "cell_type": "markdown",
   "id": "dd49d208-eae6-4f2a-a855-a299ddb6338e",
   "metadata": {},
   "source": [
    "### Testing the Model 1"
   ]
  },
  {
   "cell_type": "markdown",
   "id": "94e1af1f-35f6-4e1e-9de9-849a38caed37",
   "metadata": {},
   "source": [
    "We tested Model 1 using age and played_hours for four different age groups: child, teen, adult, and senior. The following test data was used for each group:\n",
    "\n",
    "+ Children (Age 10)\n",
    "+ Teens (Age 19)\n",
    "+ Adults (Age 35)\n",
    "+ Seniors (Age 65)\n",
    "  \n",
    "The model was used to predict the experience level for each set of participants based on the number of played_hours. The predictions for each group are as shown below: "
   ]
  },
  {
   "cell_type": "code",
   "execution_count": 42,
   "id": "9ceb8542-8c33-406b-9fe9-5d09f65cb24e",
   "metadata": {},
   "outputs": [
    {
     "name": "stdout",
     "output_type": "stream",
     "text": [
      "['Amateur' 'Amateur' 'Amateur' 'Amateur' 'Amateur']\n",
      "['Veteran' 'Veteran' 'Veteran' 'Amateur' 'Amateur']\n",
      "['Amateur' 'Amateur' 'Amateur' 'Amateur' 'Amateur']\n",
      "['Amateur' 'Amateur' 'Amateur' 'Amateur' 'Amateur']\n"
     ]
    }
   ],
   "source": [
    "test_data_child = pd.DataFrame({\n",
    "    \"age\": [10,10,10,10,10], \n",
    "    \"played_hours\": [0, 5, 10, 25, 50],  \n",
    "})\n",
    "\n",
    "\n",
    "test_data_teen = pd.DataFrame({\n",
    "    \"age\": [19, 19, 19, 19, 19], \n",
    "    \"played_hours\": [0, 5, 10, 25, 50],  \n",
    "})\n",
    "\n",
    "\n",
    "test_data_adult = pd.DataFrame({\n",
    "    \"age\": [35, 35, 35, 35, 35], \n",
    "    \"played_hours\": [0, 5, 10, 25, 50],  \n",
    "})\n",
    "\n",
    "test_data_senior = pd.DataFrame({\n",
    "    \"age\": [65, 65, 65, 65, 65], \n",
    "    \"played_hours\": [0, 5, 10, 25, 50],  \n",
    "})\n",
    "\n",
    "\n",
    "# Predict experience level \n",
    "\n",
    "print(players_tune_grid.predict(test_data_child))\n",
    "print(players_tune_grid.predict(test_data_teen))\n",
    "print(players_tune_grid.predict(test_data_adult))\n",
    "print(players_tune_grid.predict(test_data_senior))\n"
   ]
  },
  {
   "cell_type": "markdown",
   "id": "0db5c0e3-8172-4e55-82f1-cfe5c1b11eea",
   "metadata": {},
   "source": [
    "For most age groups, the majority of our 'test participants' are classified as Amateur, indicating that the 'Amateur' experience level is dominant in the dataset (i.e. contrubutes most to our data)."
   ]
  },
  {
   "cell_type": "markdown",
   "id": "9e5760a1-5374-4c66-8134-3dfcfd87b26c",
   "metadata": {},
   "source": [
    "### RESULTS"
   ]
  },
  {
   "cell_type": "markdown",
   "id": "fbc8beaf-1835-4362-bbaf-0a56a79d1bf5",
   "metadata": {},
   "source": [
    "To determine which types of players are most likely to contribute the most gameplay data to our game, our team developed a KNN model. For the first model, we used a train-test split of 75% training data and 25% testing data. We scaled our predictor variables to ensure they contributed equally to the distance metric and used a parameter grid for k values ranging from 1 to 100. Applying 5-fold cross-validation, we found that the optimal k value for the first model was k = 41, which gave us an accuracy of 35%. To evaluate model performance, we created a confusion matrix in Figure 5, which showed that the model most accurately predicted 11 players as amateurs, 6 players as beginners, 2 players as pros, 6 players as regulars, and 8 players as veterans. This aligns with our exploratory analysis that indicated amateurs made up the majority of the dataset. Despite this, we considered the 35% accuracy too low and wanted to improve the model. To enhance our model, we applied feature engineering to the age variable, creating three additional predictors the square, sine, and log of age. These new variables were incorporated into Models 2, 3, and 4, by employing the same steps as model 1. Model 2 returned an accuracy of 35%, identical to the original model, while Models 3 and 4 performed worse, with accuracies of 29% each. The confusion matrices for all four models Figures 5, 7, 9, and 11, consistently showed that amateurs were the most accurately predicted class across all models."
   ]
  },
  {
   "cell_type": "markdown",
   "id": "39d030f0-3ecc-4398-835d-5967f4caf83a",
   "metadata": {},
   "source": [
    "### Discussion"
   ]
  },
  {
   "cell_type": "markdown",
   "id": "8a00c767-93c6-4883-b065-74dc5319cdfc",
   "metadata": {},
   "source": [
    "To determine which types of players are most likely to contribute the most gameplay data to PLAICraft, our team developed a KNN classification model. We used age and playing hours as predictor variables to classify players based on their experience level, specifically asking the question, “What is a player’s experience level based on their age and the time they spend playing the game?” Our initial model achieved an accuracy of 35%. This was considered low, as our majority class classifier would give us an accuracy of 32%, meaning there is only a 3% difference. To try and improve this result, we applied feature engineering to the age variable by creating three more predictors: the square, sine, and log of age. However, the results did not improve: the second model achieved the same accuracy as the original 35%, while the third and fourth models performed worse, both with accuracies of 29%. Given these results, we decided to focus on the first model, as it achieved the highest accuracy without requiring additional feature engineering. \n"
   ]
  },
  {
   "cell_type": "markdown",
   "id": "d1578fc9-79eb-456c-9758-e1ca2f52f832",
   "metadata": {},
   "source": [
    "Looking at the confusion matrix (Figure 5), amateurs were correctly classified 11 times, making it the most accurately predicted class in the dataset. Furthermore, by creating 20 new observations and running them through our model, we observed that the model classified 17 out of 20 test players as amateurs. **Therefore, this classification dominance demonstrates that players with an amateur experience level are the most likely to contribute the majority of gameplay data, answering our initial question.** "
   ]
  },
  {
   "cell_type": "markdown",
   "id": "1f7bcccf-564a-48f0-a008-77b651ea350d",
   "metadata": {},
   "source": [
    "This result was expected based on our exploratory data analysis. From our exploratory data analysis, Figure 3 reveals that the proportion of amateurs had been playing the game compared to players at other experience levels. Furthermore, we found that 32% of the players in the dataset were classified as amateurs. This imbalance in the class variable suggests that our models are more likely to predict the amateur class, as there is more data available for it. As a result, it is not surprising that we found amateurs to be the most frequently and accurately predicted class, as the dataset contains more amateurs, meaning that amateurs contribute the most to the data. In a real-world setting, this is likely explained by the fact that amateur players, being in the middle of the experience spectrum, might spend the most time in the game. They could be refining their skills and often engage in various game activities, leading to more gameplay data compared to players at either end of the experience scale."
   ]
  },
  {
   "cell_type": "markdown",
   "id": "3dad21a6-5956-41a7-a63a-8166012865ca",
   "metadata": {},
   "source": [
    "In conclusion, we recommend that the PLAICraft team focus their recruitment efforts on amateur players. Given their higher representation in the dataset and the fact that they contribute the most gameplay data, targeting this group could help PLAICraft gather more valuable insights for their research. By focusing on amateurs, PLAICraft can refine gameplay features that resonate with this key demographic, potentially enhancing player engagement and retention. Since amateurs are in the middle of the experience spectrum, their behavior may reflect a balance between exploration and skill development, providing valuable insights into how players progress through the game.\n"
   ]
  },
  {
   "cell_type": "markdown",
   "id": "693579fa-db4a-4f28-a227-45b08d9a3cd2",
   "metadata": {},
   "source": [
    "### LIMITATIONS\n"
   ]
  },
  {
   "cell_type": "markdown",
   "id": "4e4b2a46-ed9a-42b8-88e2-eed102959fac",
   "metadata": {},
   "source": [
    "However, the PLAICraft team should carefully consider the limitations of our analysis. First, there was significant class imbalance within the dataset, which might have contributed to the low accuracy we observed. To address this issue, our group considered oversampling the rare classes in our dataset to balance the class distribution. However, we decided against rebalancing the experience levels, as this would alter our given data, resulting in us losing sight of our initial research question. Oversampling the rare experience classes would have inflated their representation, meaning we would no longer have a clear indicator as to which experience level contributes the most gameplay data. Another significant limitation of our analysis is the size of the dataset, we only had 196 data points, which may not be sufficient to uncover meaningful patterns or train a well-performing model. \n",
    "Additionally, the dataset provided, players.csv, appears to be based on a survey that players completed before starting the game. This means that players could self-identify their experience level, which introduces potential inaccuracies. For example, a player with zero playing hours could identify themselves as a \"veteran.\" Using the same rationale, the reported age may also be unreliable, as players often provide fake ages on gaming platforms. \n"
   ]
  },
  {
   "cell_type": "markdown",
   "id": "926850bf-00c3-48aa-a3c1-7e5176f3d1f8",
   "metadata": {},
   "source": [
    "### FUTURE DIRECTIONS"
   ]
  },
  {
   "cell_type": "markdown",
   "id": "844e4869-a171-4b5a-b5a6-92854bf05350",
   "metadata": {},
   "source": [
    "This analysis opens up several avenues for further research and exploration. First, to address the limitations regarding accuracy and dataset size, we might ask: How can we improve the accuracy of predicting player experience levels? Additionally, now knowing that amateur players contribute the most gameplay data, we can ask: What specific factors drive amateur players to contribute the most gameplay data?  Investigating this could help refine game mechanics to further incentivize gameplay and data contribution across all experience levels, ensuring that insights are not overly reliant on a single group. \n"
   ]
  },
  {
   "cell_type": "markdown",
   "id": "fc16291f-1611-40a3-917f-2e10634d25f7",
   "metadata": {},
   "source": [
    "### REFERENCES"
   ]
  },
  {
   "cell_type": "markdown",
   "id": "af522239-4bdb-42eb-ac64-2a4578d467f1",
   "metadata": {},
   "source": [
    "Smith, A. (2024, October 30). *plaicraft.ai launch*. Pacific Laboratory for Artificial Intelligence. [https://plai.cs.ubc.ca/2023/09/27/plaicraft/](https://plai.cs.ubc.ca/2023/09/27/plaicraft/)"
   ]
  }
 ],
 "metadata": {
  "kernelspec": {
   "display_name": "Python 3 (ipykernel)",
   "language": "python",
   "name": "python3"
  },
  "language_info": {
   "codemirror_mode": {
    "name": "ipython",
    "version": 3
   },
   "file_extension": ".py",
   "mimetype": "text/x-python",
   "name": "python",
   "nbconvert_exporter": "python",
   "pygments_lexer": "ipython3",
   "version": "3.11.9"
  }
 },
 "nbformat": 4,
 "nbformat_minor": 5
}
